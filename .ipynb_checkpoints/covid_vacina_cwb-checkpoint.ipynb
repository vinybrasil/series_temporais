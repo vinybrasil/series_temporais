{
 "cells": [
  {
   "cell_type": "code",
   "execution_count": 70,
   "metadata": {},
   "outputs": [],
   "source": [
    "import pandas as pd\n",
    "import json\n",
    "import numpy as np\n",
    "import matplotlib.pyplot as plt\n",
    "import tensorflow as tf"
   ]
  },
  {
   "cell_type": "code",
   "execution_count": 6,
   "metadata": {},
   "outputs": [],
   "source": [
    "raw_json = json.loads('{\"default\":{\"dataResponse\":[{\"dataSubset\":[{\"dataset\":{\"tableDataset\":{\"columnInfo\":[{\"ns\":\"t0\",\"name\":\"qt_bmrrstu2gc\"},{\"ns\":\"t0\",\"name\":\"qt_544k2tu2gc\"},{\"ns\":\"t0\",\"name\":\"qt_w8bqbuu2gc\"}],\"row\":[],\"totalCount\":56,\"column\":[{\"nullIndex\":[],\"dateColumn\":{\"values\":[\"2021-01-20\",\"2021-01-21\",\"2021-01-22\",\"2021-01-25\",\"2021-01-26\",\"2021-01-27\",\"2021-01-28\",\"2021-01-29\",\"2021-01-30\",\"2021-01-31\",\"2021-02-01\",\"2021-02-02\",\"2021-02-03\",\"2021-02-04\",\"2021-02-05\",\"2021-02-06\",\"2021-02-08\",\"2021-02-09\",\"2021-02-10\",\"2021-02-11\",\"2021-02-12\",\"2021-02-13\",\"2021-02-15\",\"2021-02-16\",\"2021-02-17\",\"2021-02-18\",\"2021-02-19\",\"2021-02-22\",\"2021-02-23\",\"2021-02-24\",\"2021-02-25\",\"2021-02-26\",\"2021-03-01\",\"2021-03-02\",\"2021-03-03\",\"2021-03-04\",\"2021-03-05\",\"2021-03-06\",\"2021-03-08\",\"2021-03-09\",\"2021-03-10\",\"2021-03-11\",\"2021-03-12\",\"2021-03-13\",\"2021-03-15\",\"2021-03-16\",\"2021-03-17\",\"2021-03-18\",\"2021-03-19\",\"2021-03-22\",\"2021-03-23\",\"2021-03-24\",\"2021-03-25\",\"2021-03-26\",\"2021-03-27\",\"2021-03-28\"]}},{\"nullIndex\":[],\"doubleColumn\":{\"values\":[806,1226,1023,1539,2964,3641,4646,5854,3663,622,2650,3885,3855,3746,3686,1152,1550,392,1416,1593,3817,263,2395,2269,2599,2891,2025,0,0,0,5,88,1986,3717,4090,5108,3236,2517,2941,2799,3302,3112,3220,7,3820,4302,4430,4447,4190,4663,4606,9964,13542,12076,11572,11012]}},{\"nullIndex\":[0,1,2,3,4,5,6,7,8,9,10,11,12,13,14,15,16,17],\"doubleColumn\":{\"values\":[209,347,405,1227,1057,2448,3440,2334,2294,2431,2517,2467,2613,3019,602,827,421,532,1499,183,1595,3237,1842,1652,2620,3,3139,2356,301,112,75,48,47,32,63,73,64,15]}}],\"dataInColumn\":true,\"size\":56}},\"requestId\":\"e6c0b909-193451-20210329\",\"isCompare\":false,\"jobRequestUrl\":[],\"isTotals\":false,\"viewTags\":{\"compareIndex\":0}}],\"dataTimestamp\":\"1617058169699\"},{\"dataSubset\":[{\"dataset\":{\"tableDataset\":{\"columnInfo\":[{\"ns\":\"t0\",\"name\":\"qt_ze1lj5u2gc\"}],\"row\":[],\"totalCount\":1,\"column\":[{\"nullIndex\":[],\"doubleColumn\":{\"values\":[190920]}}],\"dataInColumn\":true,\"size\":1}},\"requestId\":\"6a6b4fb1-193452-20210329\",\"isCompare\":false,\"jobRequestUrl\":[],\"isTotals\":false,\"viewTags\":{\"compareIndex\":0}}],\"dataTimestamp\":\"1617058169699\"},{\"dataSubset\":[{\"dataset\":{\"tableDataset\":{\"columnInfo\":[{\"ns\":\"t0\",\"name\":\"qt_uzba0nv2gc\"}],\"row\":[],\"totalCount\":1,\"column\":[{\"nullIndex\":[],\"doubleColumn\":{\"values\":[129117]}}],\"dataInColumn\":true,\"size\":1}},\"requestId\":\"fe970ac0-193453-20210329\",\"isCompare\":false,\"jobRequestUrl\":[],\"isTotals\":false,\"viewTags\":{\"compareIndex\":0}}],\"dataTimestamp\":\"1617058169699\"},{\"dataSubset\":[{\"dataset\":{\"tableDataset\":{\"columnInfo\":[{\"ns\":\"t0\",\"name\":\"qt_7f3o7nv2gc\"}],\"row\":[],\"totalCount\":1,\"column\":[{\"nullIndex\":[],\"doubleColumn\":{\"values\":[73]}}],\"dataInColumn\":true,\"size\":1}},\"requestId\":\"1f9d50e3-193454-20210329\",\"isCompare\":false,\"jobRequestUrl\":[],\"isTotals\":false,\"viewTags\":{\"compareIndex\":0}}],\"dataTimestamp\":\"1617058169699\"},{\"dataSubset\":[{\"dataset\":{\"tableDataset\":{\"columnInfo\":[{\"ns\":\"t0\",\"name\":\"qt_wlrncov2gc\"}],\"row\":[],\"totalCount\":1,\"column\":[{\"nullIndex\":[],\"doubleColumn\":{\"values\":[55846]}}],\"dataInColumn\":true,\"size\":1}},\"requestId\":\"5e240b05-193455-20210329\",\"isCompare\":false,\"jobRequestUrl\":[],\"isTotals\":false,\"viewTags\":{\"compareIndex\":0}}],\"dataTimestamp\":\"1617058169699\"},{\"dataSubset\":[{\"dataset\":{\"tableDataset\":{\"columnInfo\":[{\"ns\":\"t0\",\"name\":\"qt_9r0gnov2gc\"}],\"row\":[],\"totalCount\":1,\"column\":[{\"nullIndex\":[],\"doubleColumn\":{\"values\":[5884]}}],\"dataInColumn\":true,\"size\":1}},\"requestId\":\"6ebe49cb-193456-20210329\",\"isCompare\":false,\"jobRequestUrl\":[],\"isTotals\":false,\"viewTags\":{\"compareIndex\":0}}],\"dataTimestamp\":\"1617058335877\"},{\"dataSubset\":[{\"dataset\":{\"tableDataset\":{\"columnInfo\":[{\"ns\":\"t0\",\"name\":\"qt_9opun8v2gc\"}],\"row\":[],\"totalCount\":1,\"column\":[{\"nullIndex\":[],\"doubleColumn\":{\"values\":[48146]}}],\"dataInColumn\":true,\"size\":1}},\"requestId\":\"74dfa58a-193459-20210329\",\"isCompare\":false,\"jobRequestUrl\":[],\"isTotals\":false,\"viewTags\":{\"compareIndex\":0}}],\"dataTimestamp\":\"1617058169699\"},{\"dataSubset\":[{\"dataset\":{\"tableDataset\":{\"columnInfo\":[{\"ns\":\"t0\",\"name\":\"qt_6tdh77vohc\"}],\"row\":[],\"totalCount\":1,\"column\":[{\"nullIndex\":[],\"doubleColumn\":{\"values\":[5884]}}],\"dataInColumn\":true,\"size\":1}},\"requestId\":\"95f321d9-193461-20210329\",\"isCompare\":false,\"jobRequestUrl\":[],\"isTotals\":false,\"viewTags\":{\"compareIndex\":0}}],\"dataTimestamp\":\"1617058169699\"},{\"dataSubset\":[{\"dataset\":{\"tableDataset\":{\"columnInfo\":[{\"ns\":\"t0\",\"name\":\"qt_e7dls7vohc\"}],\"row\":[],\"totalCount\":1,\"column\":[{\"nullIndex\":[],\"doubleColumn\":{\"values\":[73]}}],\"dataInColumn\":true,\"size\":1}},\"requestId\":\"a3c71d58-193462-20210329\",\"isCompare\":false,\"jobRequestUrl\":[],\"isTotals\":false,\"viewTags\":{\"compareIndex\":0}}],\"dataTimestamp\":\"1617058169699\"},{\"dataSubset\":[{\"dataset\":{\"tableDataset\":{\"columnInfo\":[{\"ns\":\"t0\",\"name\":\"qt_5r50w7vohc\"}],\"row\":[],\"totalCount\":1,\"column\":[{\"nullIndex\":[],\"doubleColumn\":{\"values\":[55846]}}],\"dataInColumn\":true,\"size\":1}},\"requestId\":\"61bfa8ae-193464-20210329\",\"isCompare\":false,\"jobRequestUrl\":[],\"isTotals\":false,\"viewTags\":{\"compareIndex\":0}}],\"dataTimestamp\":\"1617058169699\"},{\"dataSubset\":[{\"dataset\":{\"tableDataset\":{\"columnInfo\":[{\"ns\":\"t0\",\"name\":\"qt_1kgii7vohc\"}],\"row\":[],\"totalCount\":1,\"column\":[{\"nullIndex\":[],\"doubleColumn\":{\"values\":[129117]}}],\"dataInColumn\":true,\"size\":1}},\"requestId\":\"b33ab4bc-193466-20210329\",\"isCompare\":false,\"jobRequestUrl\":[],\"isTotals\":false,\"viewTags\":{\"compareIndex\":0}}],\"dataTimestamp\":\"1617058335877\"},{\"dataSubset\":[{\"dataset\":{\"tableDataset\":{\"columnInfo\":[{\"ns\":\"t0\",\"name\":\"qt_36c318vohc\"}],\"row\":[],\"totalCount\":1,\"column\":[{\"nullIndex\":[],\"doubleColumn\":{\"values\":[0.9806666666666661]}}],\"dataInColumn\":true,\"size\":1}},\"requestId\":\"b887d56c-193468-20210329\",\"isCompare\":false,\"jobRequestUrl\":[],\"isTotals\":false,\"viewTags\":{\"compareIndex\":0}}],\"dataTimestamp\":\"1617058169699\"}]}}')"
   ]
  },
  {
   "cell_type": "code",
   "execution_count": 15,
   "metadata": {},
   "outputs": [
    {
     "data": {
      "text/plain": [
       "[{'nullIndex': [],\n",
       "  'dateColumn': {'values': ['2021-01-20',\n",
       "    '2021-01-21',\n",
       "    '2021-01-22',\n",
       "    '2021-01-25',\n",
       "    '2021-01-26',\n",
       "    '2021-01-27',\n",
       "    '2021-01-28',\n",
       "    '2021-01-29',\n",
       "    '2021-01-30',\n",
       "    '2021-01-31',\n",
       "    '2021-02-01',\n",
       "    '2021-02-02',\n",
       "    '2021-02-03',\n",
       "    '2021-02-04',\n",
       "    '2021-02-05',\n",
       "    '2021-02-06',\n",
       "    '2021-02-08',\n",
       "    '2021-02-09',\n",
       "    '2021-02-10',\n",
       "    '2021-02-11',\n",
       "    '2021-02-12',\n",
       "    '2021-02-13',\n",
       "    '2021-02-15',\n",
       "    '2021-02-16',\n",
       "    '2021-02-17',\n",
       "    '2021-02-18',\n",
       "    '2021-02-19',\n",
       "    '2021-02-22',\n",
       "    '2021-02-23',\n",
       "    '2021-02-24',\n",
       "    '2021-02-25',\n",
       "    '2021-02-26',\n",
       "    '2021-03-01',\n",
       "    '2021-03-02',\n",
       "    '2021-03-03',\n",
       "    '2021-03-04',\n",
       "    '2021-03-05',\n",
       "    '2021-03-06',\n",
       "    '2021-03-08',\n",
       "    '2021-03-09',\n",
       "    '2021-03-10',\n",
       "    '2021-03-11',\n",
       "    '2021-03-12',\n",
       "    '2021-03-13',\n",
       "    '2021-03-15',\n",
       "    '2021-03-16',\n",
       "    '2021-03-17',\n",
       "    '2021-03-18',\n",
       "    '2021-03-19',\n",
       "    '2021-03-22',\n",
       "    '2021-03-23',\n",
       "    '2021-03-24',\n",
       "    '2021-03-25',\n",
       "    '2021-03-26',\n",
       "    '2021-03-27',\n",
       "    '2021-03-28']}},\n",
       " {'nullIndex': [],\n",
       "  'doubleColumn': {'values': [806,\n",
       "    1226,\n",
       "    1023,\n",
       "    1539,\n",
       "    2964,\n",
       "    3641,\n",
       "    4646,\n",
       "    5854,\n",
       "    3663,\n",
       "    622,\n",
       "    2650,\n",
       "    3885,\n",
       "    3855,\n",
       "    3746,\n",
       "    3686,\n",
       "    1152,\n",
       "    1550,\n",
       "    392,\n",
       "    1416,\n",
       "    1593,\n",
       "    3817,\n",
       "    263,\n",
       "    2395,\n",
       "    2269,\n",
       "    2599,\n",
       "    2891,\n",
       "    2025,\n",
       "    0,\n",
       "    0,\n",
       "    0,\n",
       "    5,\n",
       "    88,\n",
       "    1986,\n",
       "    3717,\n",
       "    4090,\n",
       "    5108,\n",
       "    3236,\n",
       "    2517,\n",
       "    2941,\n",
       "    2799,\n",
       "    3302,\n",
       "    3112,\n",
       "    3220,\n",
       "    7,\n",
       "    3820,\n",
       "    4302,\n",
       "    4430,\n",
       "    4447,\n",
       "    4190,\n",
       "    4663,\n",
       "    4606,\n",
       "    9964,\n",
       "    13542,\n",
       "    12076,\n",
       "    11572,\n",
       "    11012]}},\n",
       " {'nullIndex': [0, 1, 2, 3, 4, 5, 6, 7, 8, 9, 10, 11, 12, 13, 14, 15, 16, 17],\n",
       "  'doubleColumn': {'values': [209,\n",
       "    347,\n",
       "    405,\n",
       "    1227,\n",
       "    1057,\n",
       "    2448,\n",
       "    3440,\n",
       "    2334,\n",
       "    2294,\n",
       "    2431,\n",
       "    2517,\n",
       "    2467,\n",
       "    2613,\n",
       "    3019,\n",
       "    602,\n",
       "    827,\n",
       "    421,\n",
       "    532,\n",
       "    1499,\n",
       "    183,\n",
       "    1595,\n",
       "    3237,\n",
       "    1842,\n",
       "    1652,\n",
       "    2620,\n",
       "    3,\n",
       "    3139,\n",
       "    2356,\n",
       "    301,\n",
       "    112,\n",
       "    75,\n",
       "    48,\n",
       "    47,\n",
       "    32,\n",
       "    63,\n",
       "    73,\n",
       "    64,\n",
       "    15]}}]"
      ]
     },
     "execution_count": 15,
     "metadata": {},
     "output_type": "execute_result"
    }
   ],
   "source": [
    "raw_json['default']['dataResponse'][0]['dataSubset'][0]['dataset']['tableDataset']['column']"
   ]
  },
  {
   "cell_type": "code",
   "execution_count": 20,
   "metadata": {},
   "outputs": [
    {
     "data": {
      "text/plain": [
       "['2021-01-20',\n",
       " '2021-01-21',\n",
       " '2021-01-22',\n",
       " '2021-01-25',\n",
       " '2021-01-26',\n",
       " '2021-01-27',\n",
       " '2021-01-28',\n",
       " '2021-01-29',\n",
       " '2021-01-30',\n",
       " '2021-01-31',\n",
       " '2021-02-01',\n",
       " '2021-02-02',\n",
       " '2021-02-03',\n",
       " '2021-02-04',\n",
       " '2021-02-05',\n",
       " '2021-02-06',\n",
       " '2021-02-08',\n",
       " '2021-02-09',\n",
       " '2021-02-10',\n",
       " '2021-02-11',\n",
       " '2021-02-12',\n",
       " '2021-02-13',\n",
       " '2021-02-15',\n",
       " '2021-02-16',\n",
       " '2021-02-17',\n",
       " '2021-02-18',\n",
       " '2021-02-19',\n",
       " '2021-02-22',\n",
       " '2021-02-23',\n",
       " '2021-02-24',\n",
       " '2021-02-25',\n",
       " '2021-02-26',\n",
       " '2021-03-01',\n",
       " '2021-03-02',\n",
       " '2021-03-03',\n",
       " '2021-03-04',\n",
       " '2021-03-05',\n",
       " '2021-03-06',\n",
       " '2021-03-08',\n",
       " '2021-03-09',\n",
       " '2021-03-10',\n",
       " '2021-03-11',\n",
       " '2021-03-12',\n",
       " '2021-03-13',\n",
       " '2021-03-15',\n",
       " '2021-03-16',\n",
       " '2021-03-17',\n",
       " '2021-03-18',\n",
       " '2021-03-19',\n",
       " '2021-03-22',\n",
       " '2021-03-23',\n",
       " '2021-03-24',\n",
       " '2021-03-25',\n",
       " '2021-03-26',\n",
       " '2021-03-27',\n",
       " '2021-03-28']"
      ]
     },
     "execution_count": 20,
     "metadata": {},
     "output_type": "execute_result"
    }
   ],
   "source": [
    "dias = raw_json['default']['dataResponse'][0]['dataSubset'][0]['dataset']['tableDataset']['column'][0]['dateColumn']['values']\n",
    "dias"
   ]
  },
  {
   "cell_type": "code",
   "execution_count": 26,
   "metadata": {},
   "outputs": [],
   "source": [
    "primeira_vacina = raw_json['default']['dataResponse'][0]['dataSubset'][0]['dataset']['tableDataset']['column'][1]['doubleColumn']['values']"
   ]
  },
  {
   "cell_type": "code",
   "execution_count": 29,
   "metadata": {},
   "outputs": [],
   "source": [
    "segunda_vacina = raw_json['default']['dataResponse'][0]['dataSubset'][0]['dataset']['tableDataset']['column'][2]['doubleColumn']['values']"
   ]
  },
  {
   "cell_type": "code",
   "execution_count": 30,
   "metadata": {},
   "outputs": [
    {
     "data": {
      "text/plain": [
       "56"
      ]
     },
     "execution_count": 30,
     "metadata": {},
     "output_type": "execute_result"
    }
   ],
   "source": [
    "len(primeira_vacina)"
   ]
  },
  {
   "cell_type": "code",
   "execution_count": 31,
   "metadata": {},
   "outputs": [
    {
     "data": {
      "text/plain": [
       "38"
      ]
     },
     "execution_count": 31,
     "metadata": {},
     "output_type": "execute_result"
    }
   ],
   "source": [
    "len(segunda_vacina )"
   ]
  },
  {
   "cell_type": "code",
   "execution_count": 38,
   "metadata": {},
   "outputs": [
    {
     "data": {
      "text/plain": [
       "56"
      ]
     },
     "execution_count": 38,
     "metadata": {},
     "output_type": "execute_result"
    }
   ],
   "source": [
    "len(list(np.zeros(56-38)) + list(segunda_vacina))"
   ]
  },
  {
   "cell_type": "code",
   "execution_count": 157,
   "metadata": {},
   "outputs": [
    {
     "data": {
      "text/plain": [
       "[209,\n",
       " 347,\n",
       " 405,\n",
       " 1227,\n",
       " 1057,\n",
       " 2448,\n",
       " 3440,\n",
       " 2334,\n",
       " 2294,\n",
       " 2431,\n",
       " 2517,\n",
       " 2467,\n",
       " 2613,\n",
       " 3019,\n",
       " 602,\n",
       " 827,\n",
       " 421,\n",
       " 532,\n",
       " 1499,\n",
       " 183,\n",
       " 1595,\n",
       " 3237,\n",
       " 1842,\n",
       " 1652,\n",
       " 2620,\n",
       " 3,\n",
       " 3139,\n",
       " 2356,\n",
       " 301,\n",
       " 112,\n",
       " 75,\n",
       " 48,\n",
       " 47,\n",
       " 32,\n",
       " 63,\n",
       " 73,\n",
       " 64,\n",
       " 15]"
      ]
     },
     "execution_count": 157,
     "metadata": {},
     "output_type": "execute_result"
    }
   ],
   "source": [
    "segunda_vacina"
   ]
  },
  {
   "cell_type": "code",
   "execution_count": 43,
   "metadata": {},
   "outputs": [
    {
     "data": {
      "text/plain": [
       "Text(0.5, 1.0, 'Pessoas vacinadas no dia')"
      ]
     },
     "execution_count": 43,
     "metadata": {},
     "output_type": "execute_result"
    },
    {
     "data": {
      "image/png": "[encoded data removed]",
      "text/plain": [
       "<Figure size 432x288 with 1 Axes>"
      ]
     },
     "metadata": {
      "needs_background": "light"
     },
     "output_type": "display_data"
    }
   ],
   "source": [
    "plt.plot(primeira_vacina )\n",
    "plt.plot(list(np.zeros(56-38)) + list(segunda_vacina))\n",
    "plt.title(\"Pessoas vacinadas no dia\")"
   ]
  },
  {
   "cell_type": "code",
   "execution_count": 45,
   "metadata": {},
   "outputs": [
    {
     "data": {
      "text/plain": [
       "array([   806,   2032,   3055,   4594,   7558,  11199,  15845,  21699,\n",
       "        25362,  25984,  28634,  32519,  36374,  40120,  43806,  44958,\n",
       "        46508,  46900,  48316,  49909,  53726,  53989,  56384,  58653,\n",
       "        61252,  64143,  66168,  66168,  66168,  66168,  66173,  66261,\n",
       "        68247,  71964,  76054,  81162,  84398,  86915,  89856,  92655,\n",
       "        95957,  99069, 102289, 102296, 106116, 110418, 114848, 119295,\n",
       "       123485, 128148, 132754, 142718, 156260, 168336, 179908, 190920],\n",
       "      dtype=int32)"
      ]
     },
     "execution_count": 45,
     "metadata": {},
     "output_type": "execute_result"
    }
   ],
   "source": [
    "np.array(primeira_vacina).cumsum()"
   ]
  },
  {
   "cell_type": "code",
   "execution_count": 53,
   "metadata": {},
   "outputs": [
    {
     "data": {
      "text/plain": [
       "Text(0.5, 1.0, 'Total de vacinados')"
      ]
     },
     "execution_count": 53,
     "metadata": {},
     "output_type": "execute_result"
    },
    {
     "data": {
      "image/png": "[encoded data removed]",
      "text/plain": [
       "<Figure size 432x288 with 1 Axes>"
      ]
     },
     "metadata": {
      "needs_background": "light"
     },
     "output_type": "display_data"
    }
   ],
   "source": [
    "plt.plot(np.array(primeira_vacina).cumsum() )\n",
    "plt.plot(list(np.zeros(56-38)) + list(np.array(segunda_vacina).cumsum()))\n",
    "plt.plot(np.array(primeira_vacina).cumsum()  +  np.array(list(np.zeros(56-38)) + list(np.array(segunda_vacina).cumsum())))\n",
    "plt.title(\"Total de vacinados\")"
   ]
  },
  {
   "cell_type": "code",
   "execution_count": 52,
   "metadata": {},
   "outputs": [
    {
     "data": {
      "text/plain": [
       "3409.285714285714"
      ]
     },
     "execution_count": 52,
     "metadata": {},
     "output_type": "execute_result"
    }
   ],
   "source": [
    "np.array(primeira_vacina).mean()"
   ]
  },
  {
   "cell_type": "code",
   "execution_count": 54,
   "metadata": {},
   "outputs": [
    {
     "data": {
      "text/plain": [
       "0.125"
      ]
     },
     "execution_count": 54,
     "metadata": {},
     "output_type": "execute_result"
    }
   ],
   "source": [
    "250000/2000000"
   ]
  },
  {
   "cell_type": "code",
   "execution_count": 59,
   "metadata": {},
   "outputs": [],
   "source": [
    "total_vacinados=pd.DataFrame(np.array(primeira_vacina).cumsum()  +  np.array(list(np.zeros(56-38)) + list(np.array(segunda_vacina).cumsum())), columns=['vacinados'])"
   ]
  },
  {
   "cell_type": "code",
   "execution_count": 61,
   "metadata": {},
   "outputs": [
    {
     "data": {
      "text/html": [
       "<div>\n",
       "<style scoped>\n",
       "    .dataframe tbody tr th:only-of-type {\n",
       "        vertical-align: middle;\n",
       "    }\n",
       "\n",
       "    .dataframe tbody tr th {\n",
       "        vertical-align: top;\n",
       "    }\n",
       "\n",
       "    .dataframe thead th {\n",
       "        text-align: right;\n",
       "    }\n",
       "</style>\n",
       "<table border=\"1\" class=\"dataframe\">\n",
       "  <thead>\n",
       "    <tr style=\"text-align: right;\">\n",
       "      <th></th>\n",
       "      <th>vacinados</th>\n",
       "    </tr>\n",
       "  </thead>\n",
       "  <tbody>\n",
       "    <tr>\n",
       "      <th>0</th>\n",
       "      <td>806.0</td>\n",
       "    </tr>\n",
       "    <tr>\n",
       "      <th>1</th>\n",
       "      <td>2032.0</td>\n",
       "    </tr>\n",
       "    <tr>\n",
       "      <th>2</th>\n",
       "      <td>3055.0</td>\n",
       "    </tr>\n",
       "    <tr>\n",
       "      <th>3</th>\n",
       "      <td>4594.0</td>\n",
       "    </tr>\n",
       "    <tr>\n",
       "      <th>4</th>\n",
       "      <td>7558.0</td>\n",
       "    </tr>\n",
       "    <tr>\n",
       "      <th>5</th>\n",
       "      <td>11199.0</td>\n",
       "    </tr>\n",
       "    <tr>\n",
       "      <th>6</th>\n",
       "      <td>15845.0</td>\n",
       "    </tr>\n",
       "    <tr>\n",
       "      <th>7</th>\n",
       "      <td>21699.0</td>\n",
       "    </tr>\n",
       "    <tr>\n",
       "      <th>8</th>\n",
       "      <td>25362.0</td>\n",
       "    </tr>\n",
       "    <tr>\n",
       "      <th>9</th>\n",
       "      <td>25984.0</td>\n",
       "    </tr>\n",
       "    <tr>\n",
       "      <th>10</th>\n",
       "      <td>28634.0</td>\n",
       "    </tr>\n",
       "    <tr>\n",
       "      <th>11</th>\n",
       "      <td>32519.0</td>\n",
       "    </tr>\n",
       "    <tr>\n",
       "      <th>12</th>\n",
       "      <td>36374.0</td>\n",
       "    </tr>\n",
       "    <tr>\n",
       "      <th>13</th>\n",
       "      <td>40120.0</td>\n",
       "    </tr>\n",
       "    <tr>\n",
       "      <th>14</th>\n",
       "      <td>43806.0</td>\n",
       "    </tr>\n",
       "    <tr>\n",
       "      <th>15</th>\n",
       "      <td>44958.0</td>\n",
       "    </tr>\n",
       "    <tr>\n",
       "      <th>16</th>\n",
       "      <td>46508.0</td>\n",
       "    </tr>\n",
       "    <tr>\n",
       "      <th>17</th>\n",
       "      <td>46900.0</td>\n",
       "    </tr>\n",
       "    <tr>\n",
       "      <th>18</th>\n",
       "      <td>48525.0</td>\n",
       "    </tr>\n",
       "    <tr>\n",
       "      <th>19</th>\n",
       "      <td>50465.0</td>\n",
       "    </tr>\n",
       "    <tr>\n",
       "      <th>20</th>\n",
       "      <td>54687.0</td>\n",
       "    </tr>\n",
       "    <tr>\n",
       "      <th>21</th>\n",
       "      <td>56177.0</td>\n",
       "    </tr>\n",
       "    <tr>\n",
       "      <th>22</th>\n",
       "      <td>59629.0</td>\n",
       "    </tr>\n",
       "    <tr>\n",
       "      <th>23</th>\n",
       "      <td>64346.0</td>\n",
       "    </tr>\n",
       "    <tr>\n",
       "      <th>24</th>\n",
       "      <td>70385.0</td>\n",
       "    </tr>\n",
       "    <tr>\n",
       "      <th>25</th>\n",
       "      <td>75610.0</td>\n",
       "    </tr>\n",
       "    <tr>\n",
       "      <th>26</th>\n",
       "      <td>79929.0</td>\n",
       "    </tr>\n",
       "    <tr>\n",
       "      <th>27</th>\n",
       "      <td>82360.0</td>\n",
       "    </tr>\n",
       "    <tr>\n",
       "      <th>28</th>\n",
       "      <td>84877.0</td>\n",
       "    </tr>\n",
       "    <tr>\n",
       "      <th>29</th>\n",
       "      <td>87344.0</td>\n",
       "    </tr>\n",
       "    <tr>\n",
       "      <th>30</th>\n",
       "      <td>89962.0</td>\n",
       "    </tr>\n",
       "    <tr>\n",
       "      <th>31</th>\n",
       "      <td>93069.0</td>\n",
       "    </tr>\n",
       "    <tr>\n",
       "      <th>32</th>\n",
       "      <td>95657.0</td>\n",
       "    </tr>\n",
       "    <tr>\n",
       "      <th>33</th>\n",
       "      <td>100201.0</td>\n",
       "    </tr>\n",
       "    <tr>\n",
       "      <th>34</th>\n",
       "      <td>104712.0</td>\n",
       "    </tr>\n",
       "    <tr>\n",
       "      <th>35</th>\n",
       "      <td>110352.0</td>\n",
       "    </tr>\n",
       "    <tr>\n",
       "      <th>36</th>\n",
       "      <td>115087.0</td>\n",
       "    </tr>\n",
       "    <tr>\n",
       "      <th>37</th>\n",
       "      <td>117787.0</td>\n",
       "    </tr>\n",
       "    <tr>\n",
       "      <th>38</th>\n",
       "      <td>122323.0</td>\n",
       "    </tr>\n",
       "    <tr>\n",
       "      <th>39</th>\n",
       "      <td>128359.0</td>\n",
       "    </tr>\n",
       "    <tr>\n",
       "      <th>40</th>\n",
       "      <td>133503.0</td>\n",
       "    </tr>\n",
       "    <tr>\n",
       "      <th>41</th>\n",
       "      <td>138267.0</td>\n",
       "    </tr>\n",
       "    <tr>\n",
       "      <th>42</th>\n",
       "      <td>144107.0</td>\n",
       "    </tr>\n",
       "    <tr>\n",
       "      <th>43</th>\n",
       "      <td>144117.0</td>\n",
       "    </tr>\n",
       "    <tr>\n",
       "      <th>44</th>\n",
       "      <td>151076.0</td>\n",
       "    </tr>\n",
       "    <tr>\n",
       "      <th>45</th>\n",
       "      <td>157734.0</td>\n",
       "    </tr>\n",
       "    <tr>\n",
       "      <th>46</th>\n",
       "      <td>162465.0</td>\n",
       "    </tr>\n",
       "    <tr>\n",
       "      <th>47</th>\n",
       "      <td>167024.0</td>\n",
       "    </tr>\n",
       "    <tr>\n",
       "      <th>48</th>\n",
       "      <td>171289.0</td>\n",
       "    </tr>\n",
       "    <tr>\n",
       "      <th>49</th>\n",
       "      <td>176000.0</td>\n",
       "    </tr>\n",
       "    <tr>\n",
       "      <th>50</th>\n",
       "      <td>180653.0</td>\n",
       "    </tr>\n",
       "    <tr>\n",
       "      <th>51</th>\n",
       "      <td>190649.0</td>\n",
       "    </tr>\n",
       "    <tr>\n",
       "      <th>52</th>\n",
       "      <td>204254.0</td>\n",
       "    </tr>\n",
       "    <tr>\n",
       "      <th>53</th>\n",
       "      <td>216403.0</td>\n",
       "    </tr>\n",
       "    <tr>\n",
       "      <th>54</th>\n",
       "      <td>228039.0</td>\n",
       "    </tr>\n",
       "    <tr>\n",
       "      <th>55</th>\n",
       "      <td>239066.0</td>\n",
       "    </tr>\n",
       "  </tbody>\n",
       "</table>\n",
       "</div>"
      ],
      "text/plain": [
       "    vacinados\n",
       "0       806.0\n",
       "1      2032.0\n",
       "2      3055.0\n",
       "3      4594.0\n",
       "4      7558.0\n",
       "5     11199.0\n",
       "6     15845.0\n",
       "7     21699.0\n",
       "8     25362.0\n",
       "9     25984.0\n",
       "10    28634.0\n",
       "11    32519.0\n",
       "12    36374.0\n",
       "13    40120.0\n",
       "14    43806.0\n",
       "15    44958.0\n",
       "16    46508.0\n",
       "17    46900.0\n",
       "18    48525.0\n",
       "19    50465.0\n",
       "20    54687.0\n",
       "21    56177.0\n",
       "22    59629.0\n",
       "23    64346.0\n",
       "24    70385.0\n",
       "25    75610.0\n",
       "26    79929.0\n",
       "27    82360.0\n",
       "28    84877.0\n",
       "29    87344.0\n",
       "30    89962.0\n",
       "31    93069.0\n",
       "32    95657.0\n",
       "33   100201.0\n",
       "34   104712.0\n",
       "35   110352.0\n",
       "36   115087.0\n",
       "37   117787.0\n",
       "38   122323.0\n",
       "39   128359.0\n",
       "40   133503.0\n",
       "41   138267.0\n",
       "42   144107.0\n",
       "43   144117.0\n",
       "44   151076.0\n",
       "45   157734.0\n",
       "46   162465.0\n",
       "47   167024.0\n",
       "48   171289.0\n",
       "49   176000.0\n",
       "50   180653.0\n",
       "51   190649.0\n",
       "52   204254.0\n",
       "53   216403.0\n",
       "54   228039.0\n",
       "55   239066.0"
      ]
     },
     "execution_count": 61,
     "metadata": {},
     "output_type": "execute_result"
    }
   ],
   "source": [
    "total_vacinados"
   ]
  },
  {
   "cell_type": "code",
   "execution_count": 62,
   "metadata": {},
   "outputs": [],
   "source": [
    "def window(x, n, w):\n",
    "    window = []\n",
    "    step_ahead = []\n",
    "    i = 1\n",
    "    while i + n + w <= len(x):\n",
    "        window.append(x[i-1:i+n-1])\n",
    "        step_ahead.append(x[i+n:i+n+w])\n",
    "        i += 1\n",
    "    return window, step_ahead"
   ]
  },
  {
   "cell_type": "code",
   "execution_count": 65,
   "metadata": {},
   "outputs": [],
   "source": [
    "windows, step_ahead = window(total_vacinados.vacinados.values, 10,5)"
   ]
  },
  {
   "cell_type": "code",
   "execution_count": 66,
   "metadata": {},
   "outputs": [
    {
     "data": {
      "text/plain": [
       "[array([  806.,  2032.,  3055.,  4594.,  7558., 11199., 15845., 21699.,\n",
       "        25362., 25984.]),\n",
       " array([ 2032.,  3055.,  4594.,  7558., 11199., 15845., 21699., 25362.,\n",
       "        25984., 28634.]),\n",
       " array([ 3055.,  4594.,  7558., 11199., 15845., 21699., 25362., 25984.,\n",
       "        28634., 32519.]),\n",
       " array([ 4594.,  7558., 11199., 15845., 21699., 25362., 25984., 28634.,\n",
       "        32519., 36374.]),\n",
       " array([ 7558., 11199., 15845., 21699., 25362., 25984., 28634., 32519.,\n",
       "        36374., 40120.]),\n",
       " array([11199., 15845., 21699., 25362., 25984., 28634., 32519., 36374.,\n",
       "        40120., 43806.]),\n",
       " array([15845., 21699., 25362., 25984., 28634., 32519., 36374., 40120.,\n",
       "        43806., 44958.]),\n",
       " array([21699., 25362., 25984., 28634., 32519., 36374., 40120., 43806.,\n",
       "        44958., 46508.]),\n",
       " array([25362., 25984., 28634., 32519., 36374., 40120., 43806., 44958.,\n",
       "        46508., 46900.]),\n",
       " array([25984., 28634., 32519., 36374., 40120., 43806., 44958., 46508.,\n",
       "        46900., 48525.]),\n",
       " array([28634., 32519., 36374., 40120., 43806., 44958., 46508., 46900.,\n",
       "        48525., 50465.]),\n",
       " array([32519., 36374., 40120., 43806., 44958., 46508., 46900., 48525.,\n",
       "        50465., 54687.]),\n",
       " array([36374., 40120., 43806., 44958., 46508., 46900., 48525., 50465.,\n",
       "        54687., 56177.]),\n",
       " array([40120., 43806., 44958., 46508., 46900., 48525., 50465., 54687.,\n",
       "        56177., 59629.]),\n",
       " array([43806., 44958., 46508., 46900., 48525., 50465., 54687., 56177.,\n",
       "        59629., 64346.]),\n",
       " array([44958., 46508., 46900., 48525., 50465., 54687., 56177., 59629.,\n",
       "        64346., 70385.]),\n",
       " array([46508., 46900., 48525., 50465., 54687., 56177., 59629., 64346.,\n",
       "        70385., 75610.]),\n",
       " array([46900., 48525., 50465., 54687., 56177., 59629., 64346., 70385.,\n",
       "        75610., 79929.]),\n",
       " array([48525., 50465., 54687., 56177., 59629., 64346., 70385., 75610.,\n",
       "        79929., 82360.]),\n",
       " array([50465., 54687., 56177., 59629., 64346., 70385., 75610., 79929.,\n",
       "        82360., 84877.]),\n",
       " array([54687., 56177., 59629., 64346., 70385., 75610., 79929., 82360.,\n",
       "        84877., 87344.]),\n",
       " array([56177., 59629., 64346., 70385., 75610., 79929., 82360., 84877.,\n",
       "        87344., 89962.]),\n",
       " array([59629., 64346., 70385., 75610., 79929., 82360., 84877., 87344.,\n",
       "        89962., 93069.]),\n",
       " array([64346., 70385., 75610., 79929., 82360., 84877., 87344., 89962.,\n",
       "        93069., 95657.]),\n",
       " array([ 70385.,  75610.,  79929.,  82360.,  84877.,  87344.,  89962.,\n",
       "         93069.,  95657., 100201.]),\n",
       " array([ 75610.,  79929.,  82360.,  84877.,  87344.,  89962.,  93069.,\n",
       "         95657., 100201., 104712.]),\n",
       " array([ 79929.,  82360.,  84877.,  87344.,  89962.,  93069.,  95657.,\n",
       "        100201., 104712., 110352.]),\n",
       " array([ 82360.,  84877.,  87344.,  89962.,  93069.,  95657., 100201.,\n",
       "        104712., 110352., 115087.]),\n",
       " array([ 84877.,  87344.,  89962.,  93069.,  95657., 100201., 104712.,\n",
       "        110352., 115087., 117787.]),\n",
       " array([ 87344.,  89962.,  93069.,  95657., 100201., 104712., 110352.,\n",
       "        115087., 117787., 122323.]),\n",
       " array([ 89962.,  93069.,  95657., 100201., 104712., 110352., 115087.,\n",
       "        117787., 122323., 128359.]),\n",
       " array([ 93069.,  95657., 100201., 104712., 110352., 115087., 117787.,\n",
       "        122323., 128359., 133503.]),\n",
       " array([ 95657., 100201., 104712., 110352., 115087., 117787., 122323.,\n",
       "        128359., 133503., 138267.]),\n",
       " array([100201., 104712., 110352., 115087., 117787., 122323., 128359.,\n",
       "        133503., 138267., 144107.]),\n",
       " array([104712., 110352., 115087., 117787., 122323., 128359., 133503.,\n",
       "        138267., 144107., 144117.]),\n",
       " array([110352., 115087., 117787., 122323., 128359., 133503., 138267.,\n",
       "        144107., 144117., 151076.]),\n",
       " array([115087., 117787., 122323., 128359., 133503., 138267., 144107.,\n",
       "        144117., 151076., 157734.]),\n",
       " array([117787., 122323., 128359., 133503., 138267., 144107., 144117.,\n",
       "        151076., 157734., 162465.]),\n",
       " array([122323., 128359., 133503., 138267., 144107., 144117., 151076.,\n",
       "        157734., 162465., 167024.]),\n",
       " array([128359., 133503., 138267., 144107., 144117., 151076., 157734.,\n",
       "        162465., 167024., 171289.]),\n",
       " array([133503., 138267., 144107., 144117., 151076., 157734., 162465.,\n",
       "        167024., 171289., 176000.])]"
      ]
     },
     "execution_count": 66,
     "metadata": {},
     "output_type": "execute_result"
    }
   ],
   "source": [
    "windows"
   ]
  },
  {
   "cell_type": "code",
   "execution_count": 67,
   "metadata": {},
   "outputs": [
    {
     "data": {
      "text/plain": [
       "(41, 10)"
      ]
     },
     "execution_count": 67,
     "metadata": {},
     "output_type": "execute_result"
    }
   ],
   "source": [
    "windows = np.array(windows)\n",
    "windows.shape"
   ]
  },
  {
   "cell_type": "code",
   "execution_count": 68,
   "metadata": {},
   "outputs": [],
   "source": [
    "windows_2 = windows.reshape(41,10,1)"
   ]
  },
  {
   "cell_type": "code",
   "execution_count": 69,
   "metadata": {},
   "outputs": [],
   "source": [
    "step_ahead = np.array(step_ahead)"
   ]
  },
  {
   "cell_type": "code",
   "execution_count": null,
   "metadata": {},
   "outputs": [],
   "source": [
    "model = tf.keras.models.Sequential()\n",
    "model.add(tf.keras.layers.LSTM(5, input_shape=(10,1)))\n",
    "model.add(tf.keras.layers.Dense(16))\n",
    "model.add(tf.keras.layers.Dense(16))\n",
    "model.add(tf.keras.layers.Dense(5))\n",
    "model.compile(loss='mae', optimizer='adam')\n",
    "\n",
    "history = model.fit(windows_2, step_ahead, epochs = 300, batch_size=32, verbose=1, shuffle=False)\n",
    "plt.plot(history.history['loss'])"
   ]
  },
  {
   "cell_type": "code",
   "execution_count": 78,
   "metadata": {},
   "outputs": [
    {
     "data": {
      "text/plain": [
       "array([[105405.13, 103437.99, 106587.06, 108783.32, 107854.06]],\n",
       "      dtype=float32)"
      ]
     },
     "execution_count": 78,
     "metadata": {},
     "output_type": "execute_result"
    }
   ],
   "source": [
    "model.predict(total_vacinados.vacinados[46:56].values.reshape(1,10,1))"
   ]
  },
  {
   "cell_type": "code",
   "execution_count": 82,
   "metadata": {},
   "outputs": [],
   "source": [
    "initial_value = total_vacinados.vacinados.values[0]"
   ]
  },
  {
   "cell_type": "code",
   "execution_count": 86,
   "metadata": {},
   "outputs": [],
   "source": [
    "logdiff_vacinados = np.log(total_vacinados.vacinados/total_vacinados.vacinados.shift(1))"
   ]
  },
  {
   "cell_type": "code",
   "execution_count": 95,
   "metadata": {},
   "outputs": [],
   "source": [
    "logdiff_vacinados[0] = 0"
   ]
  },
  {
   "cell_type": "code",
   "execution_count": 97,
   "metadata": {},
   "outputs": [],
   "source": [
    "windows, step_ahead = window(logdiff_vacinados, 10,5)"
   ]
  },
  {
   "cell_type": "code",
   "execution_count": 98,
   "metadata": {},
   "outputs": [
    {
     "data": {
      "text/plain": [
       "(41, 10)"
      ]
     },
     "execution_count": 98,
     "metadata": {},
     "output_type": "execute_result"
    }
   ],
   "source": [
    "np.array(windows).shape"
   ]
  },
  {
   "cell_type": "code",
   "execution_count": 99,
   "metadata": {},
   "outputs": [],
   "source": [
    "windows_2 = np.array(windows).reshape(41,10,1)"
   ]
  },
  {
   "cell_type": "code",
   "execution_count": 100,
   "metadata": {},
   "outputs": [],
   "source": [
    "step_ahead = np.array(step_ahead)"
   ]
  },
  {
   "cell_type": "code",
   "execution_count": 105,
   "metadata": {},
   "outputs": [
    {
     "name": "stdout",
     "output_type": "stream",
     "text": [
      "Epoch 1/300\n",
      "2/2 [==============================] - 0s 13ms/step - loss: 0.0445\n",
      "Epoch 2/300\n",
      "2/2 [==============================] - 0s 13ms/step - loss: 0.0341\n",
      "Epoch 3/300\n",
      "2/2 [==============================] - 0s 15ms/step - loss: 0.0248\n",
      "Epoch 4/300\n",
      "2/2 [==============================] - 0s 12ms/step - loss: 0.0195\n",
      "Epoch 5/300\n",
      "2/2 [==============================] - 0s 10ms/step - loss: 0.0176\n",
      "Epoch 6/300\n",
      "2/2 [==============================] - 0s 13ms/step - loss: 0.0179\n",
      "Epoch 7/300\n",
      "2/2 [==============================] - ETA: 0s - loss: 0.019 - 0s 10ms/step - loss: 0.0185\n",
      "Epoch 8/300\n",
      "2/2 [==============================] - 0s 12ms/step - loss: 0.0188\n",
      "Epoch 9/300\n",
      "2/2 [==============================] - 0s 15ms/step - loss: 0.0184\n",
      "Epoch 10/300\n",
      "2/2 [==============================] - 0s 12ms/step - loss: 0.0176\n",
      "Epoch 11/300\n",
      "2/2 [==============================] - 0s 15ms/step - loss: 0.0168\n",
      "Epoch 12/300\n",
      "2/2 [==============================] - 0s 13ms/step - loss: 0.0166\n",
      "Epoch 13/300\n",
      "2/2 [==============================] - 0s 13ms/step - loss: 0.0166\n",
      "Epoch 14/300\n",
      "2/2 [==============================] - 0s 10ms/step - loss: 0.0169\n",
      "Epoch 15/300\n",
      "2/2 [==============================] - 0s 10ms/step - loss: 0.0170\n",
      "Epoch 16/300\n",
      "2/2 [==============================] - 0s 10ms/step - loss: 0.0169\n",
      "Epoch 17/300\n",
      "2/2 [==============================] - 0s 15ms/step - loss: 0.0169\n",
      "Epoch 18/300\n",
      "2/2 [==============================] - 0s 10ms/step - loss: 0.0168\n",
      "Epoch 19/300\n",
      "2/2 [==============================] - 0s 10ms/step - loss: 0.0166\n",
      "Epoch 20/300\n",
      "2/2 [==============================] - 0s 10ms/step - loss: 0.0165\n",
      "Epoch 21/300\n",
      "2/2 [==============================] - 0s 14ms/step - loss: 0.0163\n",
      "Epoch 22/300\n",
      "2/2 [==============================] - 0s 10ms/step - loss: 0.0162\n",
      "Epoch 23/300\n",
      "2/2 [==============================] - 0s 10ms/step - loss: 0.0162\n",
      "Epoch 24/300\n",
      "2/2 [==============================] - 0s 13ms/step - loss: 0.0162\n",
      "Epoch 25/300\n",
      "2/2 [==============================] - 0s 11ms/step - loss: 0.0162\n",
      "Epoch 26/300\n",
      "2/2 [==============================] - 0s 15ms/step - loss: 0.0161\n",
      "Epoch 27/300\n",
      "2/2 [==============================] - 0s 13ms/step - loss: 0.0161\n",
      "Epoch 28/300\n",
      "2/2 [==============================] - 0s 13ms/step - loss: 0.0160\n",
      "Epoch 29/300\n",
      "2/2 [==============================] - 0s 12ms/step - loss: 0.0160\n",
      "Epoch 30/300\n",
      "2/2 [==============================] - 0s 10ms/step - loss: 0.0160\n",
      "Epoch 31/300\n",
      "2/2 [==============================] - 0s 13ms/step - loss: 0.0160\n",
      "Epoch 32/300\n",
      "2/2 [==============================] - ETA: 0s - loss: 0.016 - 0s 14ms/step - loss: 0.0160\n",
      "Epoch 33/300\n",
      "2/2 [==============================] - 0s 10ms/step - loss: 0.0159\n",
      "Epoch 34/300\n",
      "2/2 [==============================] - 0s 15ms/step - loss: 0.0159\n",
      "Epoch 35/300\n",
      "2/2 [==============================] - 0s 15ms/step - loss: 0.0159\n",
      "Epoch 36/300\n",
      "2/2 [==============================] - 0s 11ms/step - loss: 0.0158\n",
      "Epoch 37/300\n",
      "2/2 [==============================] - 0s 15ms/step - loss: 0.0158\n",
      "Epoch 38/300\n",
      "2/2 [==============================] - 0s 13ms/step - loss: 0.0158\n",
      "Epoch 39/300\n",
      "2/2 [==============================] - ETA: 0s - loss: 0.016 - 0s 10ms/step - loss: 0.0157\n",
      "Epoch 40/300\n",
      "2/2 [==============================] - 0s 15ms/step - loss: 0.0157\n",
      "Epoch 41/300\n",
      "2/2 [==============================] - 0s 12ms/step - loss: 0.0157\n",
      "Epoch 42/300\n",
      "2/2 [==============================] - 0s 11ms/step - loss: 0.0157\n",
      "Epoch 43/300\n",
      "2/2 [==============================] - 0s 15ms/step - loss: 0.0157\n",
      "Epoch 44/300\n",
      "2/2 [==============================] - 0s 12ms/step - loss: 0.0156\n",
      "Epoch 45/300\n",
      "2/2 [==============================] - 0s 9ms/step - loss: 0.0156\n",
      "Epoch 46/300\n",
      "2/2 [==============================] - 0s 10ms/step - loss: 0.0156\n",
      "Epoch 47/300\n",
      "2/2 [==============================] - 0s 12ms/step - loss: 0.0156\n",
      "Epoch 48/300\n",
      "2/2 [==============================] - 0s 13ms/step - loss: 0.0156\n",
      "Epoch 49/300\n",
      "2/2 [==============================] - 0s 12ms/step - loss: 0.0156\n",
      "Epoch 50/300\n",
      "2/2 [==============================] - 0s 11ms/step - loss: 0.0155\n",
      "Epoch 51/300\n",
      "2/2 [==============================] - 0s 10ms/step - loss: 0.0155\n",
      "Epoch 52/300\n",
      "2/2 [==============================] - 0s 14ms/step - loss: 0.0155\n",
      "Epoch 53/300\n",
      "2/2 [==============================] - 0s 12ms/step - loss: 0.0155\n",
      "Epoch 54/300\n",
      "2/2 [==============================] - 0s 10ms/step - loss: 0.0155\n",
      "Epoch 55/300\n",
      "2/2 [==============================] - 0s 14ms/step - loss: 0.0155\n",
      "Epoch 56/300\n",
      "2/2 [==============================] - 0s 11ms/step - loss: 0.0155\n",
      "Epoch 57/300\n",
      "2/2 [==============================] - 0s 15ms/step - loss: 0.0155\n",
      "Epoch 58/300\n",
      "2/2 [==============================] - 0s 10ms/step - loss: 0.0155\n",
      "Epoch 59/300\n",
      "2/2 [==============================] - 0s 10ms/step - loss: 0.0155\n",
      "Epoch 60/300\n",
      "2/2 [==============================] - 0s 15ms/step - loss: 0.0155\n",
      "Epoch 61/300\n",
      "2/2 [==============================] - 0s 9ms/step - loss: 0.0155\n",
      "Epoch 62/300\n",
      "2/2 [==============================] - 0s 10ms/step - loss: 0.0155\n",
      "Epoch 63/300\n",
      "2/2 [==============================] - 0s 10ms/step - loss: 0.0155\n",
      "Epoch 64/300\n",
      "2/2 [==============================] - 0s 10ms/step - loss: 0.0155\n",
      "Epoch 65/300\n",
      "2/2 [==============================] - 0s 13ms/step - loss: 0.0155\n",
      "Epoch 66/300\n",
      "2/2 [==============================] - 0s 10ms/step - loss: 0.0155\n",
      "Epoch 67/300\n",
      "2/2 [==============================] - 0s 13ms/step - loss: 0.0155\n",
      "Epoch 68/300\n",
      "2/2 [==============================] - 0s 10ms/step - loss: 0.0155\n",
      "Epoch 69/300\n",
      "2/2 [==============================] - 0s 12ms/step - loss: 0.0155\n",
      "Epoch 70/300\n",
      "2/2 [==============================] - 0s 15ms/step - loss: 0.0155\n",
      "Epoch 71/300\n",
      "2/2 [==============================] - 0s 12ms/step - loss: 0.0155\n",
      "Epoch 72/300\n",
      "2/2 [==============================] - 0s 15ms/step - loss: 0.0155\n",
      "Epoch 73/300\n",
      "2/2 [==============================] - 0s 12ms/step - loss: 0.0155\n",
      "Epoch 74/300\n",
      "2/2 [==============================] - 0s 12ms/step - loss: 0.0155\n",
      "Epoch 75/300\n",
      "2/2 [==============================] - 0s 16ms/step - loss: 0.0155\n",
      "Epoch 76/300\n",
      "2/2 [==============================] - 0s 10ms/step - loss: 0.0155\n",
      "Epoch 77/300\n",
      "2/2 [==============================] - ETA: 0s - loss: 0.016 - 0s 15ms/step - loss: 0.0155\n",
      "Epoch 78/300\n",
      "2/2 [==============================] - 0s 15ms/step - loss: 0.0155\n",
      "Epoch 79/300\n",
      "2/2 [==============================] - 0s 12ms/step - loss: 0.0155\n",
      "Epoch 80/300\n",
      "2/2 [==============================] - 0s 10ms/step - loss: 0.0154\n",
      "Epoch 81/300\n",
      "2/2 [==============================] - 0s 15ms/step - loss: 0.0154\n",
      "Epoch 82/300\n",
      "2/2 [==============================] - 0s 18ms/step - loss: 0.0154\n",
      "Epoch 83/300\n",
      "2/2 [==============================] - ETA: 0s - loss: 0.016 - 0s 12ms/step - loss: 0.0154\n",
      "Epoch 84/300\n",
      "2/2 [==============================] - 0s 12ms/step - loss: 0.0154\n",
      "Epoch 85/300\n",
      "2/2 [==============================] - 0s 10ms/step - loss: 0.0154\n",
      "Epoch 86/300\n",
      "2/2 [==============================] - 0s 14ms/step - loss: 0.0154\n",
      "Epoch 87/300\n",
      "2/2 [==============================] - 0s 15ms/step - loss: 0.0154\n",
      "Epoch 88/300\n",
      "2/2 [==============================] - 0s 13ms/step - loss: 0.0154\n",
      "Epoch 89/300\n",
      "2/2 [==============================] - 0s 14ms/step - loss: 0.0154\n",
      "Epoch 90/300\n",
      "2/2 [==============================] - 0s 15ms/step - loss: 0.0154\n",
      "Epoch 91/300\n",
      "2/2 [==============================] - 0s 20ms/step - loss: 0.0154\n",
      "Epoch 92/300\n",
      "2/2 [==============================] - 0s 13ms/step - loss: 0.0154\n",
      "Epoch 93/300\n",
      "2/2 [==============================] - 0s 17ms/step - loss: 0.0154\n",
      "Epoch 94/300\n",
      "2/2 [==============================] - 0s 15ms/step - loss: 0.0154\n",
      "Epoch 95/300\n",
      "2/2 [==============================] - 0s 15ms/step - loss: 0.0154\n",
      "Epoch 96/300\n",
      "2/2 [==============================] - 0s 12ms/step - loss: 0.0154\n",
      "Epoch 97/300\n",
      "2/2 [==============================] - 0s 12ms/step - loss: 0.0154\n",
      "Epoch 98/300\n",
      "2/2 [==============================] - 0s 15ms/step - loss: 0.0153\n",
      "Epoch 99/300\n",
      "2/2 [==============================] - 0s 12ms/step - loss: 0.0154\n",
      "Epoch 100/300\n",
      "2/2 [==============================] - 0s 18ms/step - loss: 0.0154\n",
      "Epoch 101/300\n",
      "2/2 [==============================] - 0s 14ms/step - loss: 0.0154\n",
      "Epoch 102/300\n",
      "2/2 [==============================] - 0s 12ms/step - loss: 0.0154\n",
      "Epoch 103/300\n",
      "2/2 [==============================] - 0s 11ms/step - loss: 0.0153\n",
      "Epoch 104/300\n",
      "2/2 [==============================] - 0s 14ms/step - loss: 0.0153\n",
      "Epoch 105/300\n",
      "2/2 [==============================] - 0s 12ms/step - loss: 0.0153\n",
      "Epoch 106/300\n",
      "2/2 [==============================] - 0s 18ms/step - loss: 0.0154\n",
      "Epoch 107/300\n",
      "2/2 [==============================] - 0s 10ms/step - loss: 0.0154\n",
      "Epoch 108/300\n",
      "2/2 [==============================] - 0s 15ms/step - loss: 0.0153\n",
      "Epoch 109/300\n",
      "2/2 [==============================] - 0s 15ms/step - loss: 0.0153\n",
      "Epoch 110/300\n",
      "2/2 [==============================] - 0s 13ms/step - loss: 0.0153\n",
      "Epoch 111/300\n",
      "2/2 [==============================] - 0s 16ms/step - loss: 0.0153\n",
      "Epoch 112/300\n",
      "2/2 [==============================] - 0s 9ms/step - loss: 0.0153\n",
      "Epoch 113/300\n",
      "2/2 [==============================] - 0s 13ms/step - loss: 0.0153\n",
      "Epoch 114/300\n",
      "2/2 [==============================] - 0s 10ms/step - loss: 0.0153\n",
      "Epoch 115/300\n",
      "2/2 [==============================] - 0s 13ms/step - loss: 0.0154\n",
      "Epoch 116/300\n",
      "2/2 [==============================] - 0s 17ms/step - loss: 0.0153\n",
      "Epoch 117/300\n",
      "2/2 [==============================] - 0s 15ms/step - loss: 0.0154\n",
      "Epoch 118/300\n",
      "2/2 [==============================] - 0s 10ms/step - loss: 0.0154\n",
      "Epoch 119/300\n",
      "2/2 [==============================] - 0s 19ms/step - loss: 0.0153\n",
      "Epoch 120/300\n",
      "2/2 [==============================] - 0s 13ms/step - loss: 0.0154\n",
      "Epoch 121/300\n",
      "2/2 [==============================] - 0s 19ms/step - loss: 0.0154\n",
      "Epoch 122/300\n",
      "2/2 [==============================] - 0s 16ms/step - loss: 0.0154\n",
      "Epoch 123/300\n",
      "2/2 [==============================] - 0s 14ms/step - loss: 0.0154\n",
      "Epoch 124/300\n",
      "2/2 [==============================] - 0s 17ms/step - loss: 0.0153\n",
      "Epoch 125/300\n",
      "2/2 [==============================] - 0s 13ms/step - loss: 0.0153\n",
      "Epoch 126/300\n",
      "2/2 [==============================] - 0s 13ms/step - loss: 0.0153\n",
      "Epoch 127/300\n",
      "2/2 [==============================] - 0s 10ms/step - loss: 0.0153\n",
      "Epoch 128/300\n",
      "2/2 [==============================] - 0s 12ms/step - loss: 0.0154\n",
      "Epoch 129/300\n",
      "2/2 [==============================] - 0s 14ms/step - loss: 0.0153\n",
      "Epoch 130/300\n",
      "2/2 [==============================] - 0s 12ms/step - loss: 0.0153\n",
      "Epoch 131/300\n",
      "2/2 [==============================] - 0s 13ms/step - loss: 0.0153\n",
      "Epoch 132/300\n",
      "2/2 [==============================] - 0s 13ms/step - loss: 0.0153\n",
      "Epoch 133/300\n",
      "2/2 [==============================] - 0s 14ms/step - loss: 0.0153\n",
      "Epoch 134/300\n",
      "2/2 [==============================] - 0s 13ms/step - loss: 0.0153\n",
      "Epoch 135/300\n",
      "2/2 [==============================] - 0s 18ms/step - loss: 0.0153\n",
      "Epoch 136/300\n",
      "2/2 [==============================] - 0s 33ms/step - loss: 0.0154\n",
      "Epoch 137/300\n",
      "2/2 [==============================] - 0s 11ms/step - loss: 0.0154\n",
      "Epoch 138/300\n",
      "2/2 [==============================] - 0s 12ms/step - loss: 0.0153\n",
      "Epoch 139/300\n",
      "2/2 [==============================] - 0s 14ms/step - loss: 0.0153\n",
      "Epoch 140/300\n",
      "2/2 [==============================] - 0s 17ms/step - loss: 0.0153\n",
      "Epoch 141/300\n",
      "2/2 [==============================] - 0s 14ms/step - loss: 0.0153\n",
      "Epoch 142/300\n",
      "2/2 [==============================] - 0s 11ms/step - loss: 0.0153\n",
      "Epoch 143/300\n",
      "2/2 [==============================] - 0s 11ms/step - loss: 0.0153\n",
      "Epoch 144/300\n",
      "2/2 [==============================] - 0s 15ms/step - loss: 0.0153\n",
      "Epoch 145/300\n",
      "2/2 [==============================] - 0s 12ms/step - loss: 0.0153\n",
      "Epoch 146/300\n",
      "2/2 [==============================] - 0s 13ms/step - loss: 0.0153\n",
      "Epoch 147/300\n",
      "2/2 [==============================] - 0s 12ms/step - loss: 0.0153\n",
      "Epoch 148/300\n",
      "2/2 [==============================] - 0s 17ms/step - loss: 0.0153\n",
      "Epoch 149/300\n",
      "2/2 [==============================] - 0s 14ms/step - loss: 0.0153\n",
      "Epoch 150/300\n",
      "2/2 [==============================] - 0s 13ms/step - loss: 0.0153\n",
      "Epoch 151/300\n",
      "2/2 [==============================] - 0s 11ms/step - loss: 0.0153\n",
      "Epoch 152/300\n",
      "2/2 [==============================] - 0s 12ms/step - loss: 0.0153\n",
      "Epoch 153/300\n",
      "2/2 [==============================] - 0s 16ms/step - loss: 0.0153\n",
      "Epoch 154/300\n",
      "2/2 [==============================] - ETA: 0s - loss: 0.015 - 0s 12ms/step - loss: 0.0153\n",
      "Epoch 155/300\n",
      "2/2 [==============================] - ETA: 0s - loss: 0.015 - 0s 17ms/step - loss: 0.0153\n",
      "Epoch 156/300\n",
      "2/2 [==============================] - 0s 13ms/step - loss: 0.0153\n",
      "Epoch 157/300\n",
      "2/2 [==============================] - 0s 15ms/step - loss: 0.0152\n",
      "Epoch 158/300\n",
      "2/2 [==============================] - 0s 15ms/step - loss: 0.0152\n",
      "Epoch 159/300\n",
      "2/2 [==============================] - 0s 17ms/step - loss: 0.0153\n",
      "Epoch 160/300\n",
      "2/2 [==============================] - ETA: 0s - loss: 0.015 - 0s 16ms/step - loss: 0.0152\n",
      "Epoch 161/300\n",
      "2/2 [==============================] - 0s 15ms/step - loss: 0.0152\n",
      "Epoch 162/300\n",
      "2/2 [==============================] - 0s 24ms/step - loss: 0.0152\n",
      "Epoch 163/300\n",
      "2/2 [==============================] - 0s 17ms/step - loss: 0.0152\n",
      "Epoch 164/300\n",
      "2/2 [==============================] - 0s 15ms/step - loss: 0.0152\n",
      "Epoch 165/300\n",
      "2/2 [==============================] - 0s 14ms/step - loss: 0.0152\n",
      "Epoch 166/300\n",
      "2/2 [==============================] - 0s 20ms/step - loss: 0.0152\n",
      "Epoch 167/300\n",
      "2/2 [==============================] - 0s 11ms/step - loss: 0.0152\n",
      "Epoch 168/300\n",
      "2/2 [==============================] - 0s 10ms/step - loss: 0.0152\n",
      "Epoch 169/300\n",
      "2/2 [==============================] - 0s 10ms/step - loss: 0.0152\n",
      "Epoch 170/300\n",
      "2/2 [==============================] - 0s 14ms/step - loss: 0.0152\n",
      "Epoch 171/300\n",
      "2/2 [==============================] - 0s 10ms/step - loss: 0.0153\n",
      "Epoch 172/300\n",
      "2/2 [==============================] - 0s 11ms/step - loss: 0.0153\n",
      "Epoch 173/300\n",
      "2/2 [==============================] - 0s 13ms/step - loss: 0.0152\n",
      "Epoch 174/300\n",
      "2/2 [==============================] - 0s 13ms/step - loss: 0.0152\n",
      "Epoch 175/300\n",
      "2/2 [==============================] - 0s 11ms/step - loss: 0.0152\n",
      "Epoch 176/300\n",
      "2/2 [==============================] - 0s 12ms/step - loss: 0.0152\n",
      "Epoch 177/300\n",
      "2/2 [==============================] - 0s 16ms/step - loss: 0.0152\n",
      "Epoch 178/300\n",
      "2/2 [==============================] - 0s 12ms/step - loss: 0.0152\n",
      "Epoch 179/300\n",
      "2/2 [==============================] - 0s 14ms/step - loss: 0.0152\n",
      "Epoch 180/300\n",
      "2/2 [==============================] - 0s 13ms/step - loss: 0.0152\n",
      "Epoch 181/300\n",
      "2/2 [==============================] - 0s 12ms/step - loss: 0.0152\n",
      "Epoch 182/300\n",
      "2/2 [==============================] - 0s 11ms/step - loss: 0.0152\n",
      "Epoch 183/300\n",
      "2/2 [==============================] - 0s 14ms/step - loss: 0.0151\n",
      "Epoch 184/300\n",
      "2/2 [==============================] - 0s 12ms/step - loss: 0.0152\n",
      "Epoch 185/300\n",
      "2/2 [==============================] - 0s 14ms/step - loss: 0.0152\n",
      "Epoch 186/300\n",
      "2/2 [==============================] - 0s 15ms/step - loss: 0.0151\n",
      "Epoch 187/300\n",
      "2/2 [==============================] - 0s 10ms/step - loss: 0.0151\n",
      "Epoch 188/300\n",
      "2/2 [==============================] - 0s 15ms/step - loss: 0.0151\n",
      "Epoch 189/300\n",
      "2/2 [==============================] - 0s 10ms/step - loss: 0.0151\n",
      "Epoch 190/300\n",
      "2/2 [==============================] - 0s 12ms/step - loss: 0.0152\n",
      "Epoch 191/300\n",
      "2/2 [==============================] - 0s 14ms/step - loss: 0.0152\n",
      "Epoch 192/300\n",
      "2/2 [==============================] - 0s 15ms/step - loss: 0.0152\n",
      "Epoch 193/300\n",
      "2/2 [==============================] - 0s 12ms/step - loss: 0.0151\n",
      "Epoch 194/300\n",
      "2/2 [==============================] - 0s 13ms/step - loss: 0.0152\n",
      "Epoch 195/300\n",
      "2/2 [==============================] - 0s 14ms/step - loss: 0.0152\n",
      "Epoch 196/300\n",
      "2/2 [==============================] - 0s 13ms/step - loss: 0.0151\n",
      "Epoch 197/300\n",
      "2/2 [==============================] - 0s 9ms/step - loss: 0.0151\n",
      "Epoch 198/300\n",
      "2/2 [==============================] - 0s 13ms/step - loss: 0.0151\n",
      "Epoch 199/300\n",
      "2/2 [==============================] - 0s 10ms/step - loss: 0.0151\n",
      "Epoch 200/300\n",
      "2/2 [==============================] - 0s 11ms/step - loss: 0.0151\n",
      "Epoch 201/300\n",
      "2/2 [==============================] - 0s 14ms/step - loss: 0.0151\n",
      "Epoch 202/300\n",
      "2/2 [==============================] - 0s 10ms/step - loss: 0.0151\n",
      "Epoch 203/300\n",
      "2/2 [==============================] - 0s 14ms/step - loss: 0.0151\n",
      "Epoch 204/300\n",
      "2/2 [==============================] - 0s 15ms/step - loss: 0.0151\n",
      "Epoch 205/300\n",
      "2/2 [==============================] - 0s 13ms/step - loss: 0.0151\n",
      "Epoch 206/300\n",
      "2/2 [==============================] - 0s 13ms/step - loss: 0.0151\n",
      "Epoch 207/300\n",
      "2/2 [==============================] - 0s 15ms/step - loss: 0.0151\n",
      "Epoch 208/300\n",
      "2/2 [==============================] - 0s 10ms/step - loss: 0.0151\n",
      "Epoch 209/300\n",
      "2/2 [==============================] - 0s 11ms/step - loss: 0.0151\n",
      "Epoch 210/300\n",
      "2/2 [==============================] - 0s 13ms/step - loss: 0.0151\n",
      "Epoch 211/300\n",
      "2/2 [==============================] - 0s 13ms/step - loss: 0.0151\n",
      "Epoch 212/300\n",
      "2/2 [==============================] - 0s 15ms/step - loss: 0.0151\n",
      "Epoch 213/300\n",
      "2/2 [==============================] - 0s 12ms/step - loss: 0.0151\n",
      "Epoch 214/300\n",
      "2/2 [==============================] - 0s 18ms/step - loss: 0.0150\n",
      "Epoch 215/300\n",
      "2/2 [==============================] - 0s 14ms/step - loss: 0.0150\n",
      "Epoch 216/300\n",
      "2/2 [==============================] - 0s 10ms/step - loss: 0.0150\n",
      "Epoch 217/300\n",
      "2/2 [==============================] - 0s 13ms/step - loss: 0.0150\n",
      "Epoch 218/300\n",
      "2/2 [==============================] - 0s 10ms/step - loss: 0.0150\n",
      "Epoch 219/300\n",
      "2/2 [==============================] - 0s 11ms/step - loss: 0.0150\n",
      "Epoch 220/300\n",
      "2/2 [==============================] - 0s 12ms/step - loss: 0.0150\n",
      "Epoch 221/300\n",
      "2/2 [==============================] - 0s 17ms/step - loss: 0.0150\n",
      "Epoch 222/300\n",
      "2/2 [==============================] - 0s 10ms/step - loss: 0.0150\n",
      "Epoch 223/300\n",
      "2/2 [==============================] - 0s 18ms/step - loss: 0.0150\n",
      "Epoch 224/300\n",
      "2/2 [==============================] - 0s 17ms/step - loss: 0.0150\n",
      "Epoch 225/300\n",
      "2/2 [==============================] - 0s 16ms/step - loss: 0.0150\n",
      "Epoch 226/300\n",
      "2/2 [==============================] - 0s 12ms/step - loss: 0.0149\n",
      "Epoch 227/300\n",
      "2/2 [==============================] - 0s 15ms/step - loss: 0.0149\n",
      "Epoch 228/300\n",
      "2/2 [==============================] - 0s 14ms/step - loss: 0.0150\n",
      "Epoch 229/300\n",
      "2/2 [==============================] - 0s 13ms/step - loss: 0.0150\n",
      "Epoch 230/300\n",
      "2/2 [==============================] - 0s 9ms/step - loss: 0.0149\n",
      "Epoch 231/300\n",
      "2/2 [==============================] - 0s 15ms/step - loss: 0.0150\n",
      "Epoch 232/300\n",
      "2/2 [==============================] - 0s 15ms/step - loss: 0.0149\n",
      "Epoch 233/300\n",
      "2/2 [==============================] - 0s 11ms/step - loss: 0.0150\n",
      "Epoch 234/300\n",
      "2/2 [==============================] - 0s 10ms/step - loss: 0.0150\n",
      "Epoch 235/300\n",
      "2/2 [==============================] - 0s 12ms/step - loss: 0.0149\n",
      "Epoch 236/300\n",
      "2/2 [==============================] - 0s 13ms/step - loss: 0.0149\n",
      "Epoch 237/300\n",
      "2/2 [==============================] - 0s 18ms/step - loss: 0.0150\n",
      "Epoch 238/300\n",
      "2/2 [==============================] - 0s 11ms/step - loss: 0.0149\n",
      "Epoch 239/300\n",
      "2/2 [==============================] - 0s 10ms/step - loss: 0.0149\n",
      "Epoch 240/300\n",
      "2/2 [==============================] - 0s 15ms/step - loss: 0.0149\n",
      "Epoch 241/300\n",
      "2/2 [==============================] - 0s 13ms/step - loss: 0.0149\n",
      "Epoch 242/300\n",
      "2/2 [==============================] - 0s 13ms/step - loss: 0.0149\n",
      "Epoch 243/300\n",
      "2/2 [==============================] - 0s 16ms/step - loss: 0.0149\n",
      "Epoch 244/300\n",
      "2/2 [==============================] - 0s 11ms/step - loss: 0.0150\n",
      "Epoch 245/300\n",
      "2/2 [==============================] - 0s 13ms/step - loss: 0.0149\n",
      "Epoch 246/300\n",
      "2/2 [==============================] - 0s 12ms/step - loss: 0.0149\n",
      "Epoch 247/300\n",
      "2/2 [==============================] - 0s 9ms/step - loss: 0.0149\n",
      "Epoch 248/300\n",
      "2/2 [==============================] - 0s 10ms/step - loss: 0.0148\n",
      "Epoch 249/300\n",
      "2/2 [==============================] - 0s 16ms/step - loss: 0.0149\n",
      "Epoch 250/300\n",
      "2/2 [==============================] - 0s 19ms/step - loss: 0.0150\n",
      "Epoch 251/300\n",
      "2/2 [==============================] - 0s 10ms/step - loss: 0.0148\n",
      "Epoch 252/300\n",
      "2/2 [==============================] - 0s 18ms/step - loss: 0.0150\n",
      "Epoch 253/300\n",
      "2/2 [==============================] - 0s 10ms/step - loss: 0.0150\n",
      "Epoch 254/300\n",
      "2/2 [==============================] - 0s 10ms/step - loss: 0.0149\n",
      "Epoch 255/300\n",
      "2/2 [==============================] - 0s 11ms/step - loss: 0.0152\n",
      "Epoch 256/300\n",
      "2/2 [==============================] - 0s 13ms/step - loss: 0.0149\n",
      "Epoch 257/300\n",
      "2/2 [==============================] - 0s 13ms/step - loss: 0.0148\n",
      "Epoch 258/300\n",
      "2/2 [==============================] - 0s 13ms/step - loss: 0.0151\n",
      "Epoch 259/300\n",
      "2/2 [==============================] - 0s 10ms/step - loss: 0.0148\n",
      "Epoch 260/300\n",
      "2/2 [==============================] - 0s 11ms/step - loss: 0.0148\n",
      "Epoch 261/300\n",
      "2/2 [==============================] - 0s 22ms/step - loss: 0.0149\n",
      "Epoch 262/300\n",
      "2/2 [==============================] - 0s 15ms/step - loss: 0.0149\n",
      "Epoch 263/300\n",
      "2/2 [==============================] - 0s 10ms/step - loss: 0.0148\n",
      "Epoch 264/300\n",
      "2/2 [==============================] - 0s 16ms/step - loss: 0.0150\n",
      "Epoch 265/300\n",
      "2/2 [==============================] - 0s 13ms/step - loss: 0.0149\n",
      "Epoch 266/300\n",
      "2/2 [==============================] - 0s 15ms/step - loss: 0.0149\n",
      "Epoch 267/300\n",
      "2/2 [==============================] - 0s 15ms/step - loss: 0.0149\n",
      "Epoch 268/300\n",
      "2/2 [==============================] - 0s 13ms/step - loss: 0.0149\n",
      "Epoch 269/300\n",
      "2/2 [==============================] - 0s 15ms/step - loss: 0.0149\n",
      "Epoch 270/300\n",
      "2/2 [==============================] - 0s 10ms/step - loss: 0.0148\n",
      "Epoch 271/300\n",
      "2/2 [==============================] - 0s 16ms/step - loss: 0.0148\n",
      "Epoch 272/300\n",
      "2/2 [==============================] - 0s 11ms/step - loss: 0.0147\n",
      "Epoch 273/300\n",
      "2/2 [==============================] - 0s 12ms/step - loss: 0.0148\n",
      "Epoch 274/300\n",
      "2/2 [==============================] - 0s 10ms/step - loss: 0.0148\n",
      "Epoch 275/300\n",
      "2/2 [==============================] - 0s 15ms/step - loss: 0.0148\n",
      "Epoch 276/300\n",
      "2/2 [==============================] - 0s 16ms/step - loss: 0.0147\n",
      "Epoch 277/300\n",
      "2/2 [==============================] - 0s 11ms/step - loss: 0.0148\n",
      "Epoch 278/300\n",
      "2/2 [==============================] - 0s 15ms/step - loss: 0.0147\n",
      "Epoch 279/300\n",
      "2/2 [==============================] - 0s 10ms/step - loss: 0.0147\n",
      "Epoch 280/300\n",
      "2/2 [==============================] - 0s 15ms/step - loss: 0.0147\n",
      "Epoch 281/300\n",
      "2/2 [==============================] - 0s 12ms/step - loss: 0.0147\n",
      "Epoch 282/300\n",
      "2/2 [==============================] - 0s 12ms/step - loss: 0.0147\n",
      "Epoch 283/300\n",
      "2/2 [==============================] - 0s 10ms/step - loss: 0.0147\n",
      "Epoch 284/300\n",
      "2/2 [==============================] - 0s 10ms/step - loss: 0.0147\n",
      "Epoch 285/300\n",
      "2/2 [==============================] - 0s 13ms/step - loss: 0.0147\n",
      "Epoch 286/300\n",
      "2/2 [==============================] - 0s 15ms/step - loss: 0.0148\n",
      "Epoch 287/300\n",
      "2/2 [==============================] - 0s 17ms/step - loss: 0.0147\n",
      "Epoch 288/300\n",
      "2/2 [==============================] - 0s 15ms/step - loss: 0.0147\n",
      "Epoch 289/300\n",
      "2/2 [==============================] - 0s 18ms/step - loss: 0.0147\n",
      "Epoch 290/300\n",
      "2/2 [==============================] - ETA: 0s - loss: 0.015 - 0s 13ms/step - loss: 0.0147\n",
      "Epoch 291/300\n",
      "2/2 [==============================] - 0s 13ms/step - loss: 0.0148\n",
      "Epoch 292/300\n",
      "2/2 [==============================] - 0s 14ms/step - loss: 0.0147\n",
      "Epoch 293/300\n",
      "2/2 [==============================] - 0s 16ms/step - loss: 0.0147\n",
      "Epoch 294/300\n",
      "2/2 [==============================] - 0s 11ms/step - loss: 0.0147\n",
      "Epoch 295/300\n",
      "2/2 [==============================] - 0s 15ms/step - loss: 0.0147\n",
      "Epoch 296/300\n",
      "2/2 [==============================] - 0s 15ms/step - loss: 0.0147\n",
      "Epoch 297/300\n",
      "2/2 [==============================] - 0s 12ms/step - loss: 0.0149\n",
      "Epoch 298/300\n",
      "2/2 [==============================] - 0s 11ms/step - loss: 0.0147\n",
      "Epoch 299/300\n",
      "2/2 [==============================] - 0s 15ms/step - loss: 0.0146\n",
      "Epoch 300/300\n",
      "2/2 [==============================] - 0s 22ms/step - loss: 0.0147\n"
     ]
    },
    {
     "data": {
      "text/plain": [
       "[<matplotlib.lines.Line2D at 0x217b9549bb0>]"
      ]
     },
     "execution_count": 105,
     "metadata": {},
     "output_type": "execute_result"
    },
    {
     "data": {
      "image/png": "[encoded data removed]",
      "text/plain": [
       "<Figure size 432x288 with 1 Axes>"
      ]
     },
     "metadata": {
      "needs_background": "light"
     },
     "output_type": "display_data"
    }
   ],
   "source": [
    "model = tf.keras.models.Sequential()\n",
    "model.add(tf.keras.layers.LSTM(5, input_shape=(10,1)))\n",
    "model.add(tf.keras.layers.Dense(16))\n",
    "model.add(tf.keras.layers.Dense(16))\n",
    "model.add(tf.keras.layers.Dense(5))\n",
    "model.compile(loss='mae', optimizer='adam')\n",
    "\n",
    "history = model.fit(windows_2, step_ahead, epochs = 300, batch_size=32, verbose=1, shuffle=False)\n",
    "plt.plot(history.history['loss'])"
   ]
  },
  {
   "cell_type": "code",
   "execution_count": 112,
   "metadata": {},
   "outputs": [
    {
     "data": {
      "text/plain": [
       "array([0.03511408, 0.03202341, 0.03400509, 0.03611894, 0.04016289],\n",
       "      dtype=float32)"
      ]
     },
     "execution_count": 112,
     "metadata": {},
     "output_type": "execute_result"
    }
   ],
   "source": [
    "previsao_1 = model.predict(logdiff_vacinados[46:56].values.reshape(1,10,1))[0]\n",
    "previsao_1"
   ]
  },
  {
   "cell_type": "code",
   "execution_count": 116,
   "metadata": {},
   "outputs": [
    {
     "data": {
      "text/plain": [
       "array([0.03154171, 0.03382696, 0.03997841, 0.03997983, 0.04307327],\n",
       "      dtype=float32)"
      ]
     },
     "execution_count": 116,
     "metadata": {},
     "output_type": "execute_result"
    }
   ],
   "source": [
    "previsao_2 = model.predict(np.array(list(logdiff_vacinados[51:]) + list(previsao_1)).reshape(1,10,1))[0]\n",
    "previsao_2"
   ]
  },
  {
   "cell_type": "code",
   "execution_count": 117,
   "metadata": {},
   "outputs": [],
   "source": [
    "previsao_3 = model.predict( np.array( list(previsao_1) + list(previsao_2)).reshape(1,10,1))[0]"
   ]
  },
  {
   "cell_type": "code",
   "execution_count": 118,
   "metadata": {},
   "outputs": [],
   "source": [
    "previsao_4 = model.predict( np.array( list(previsao_2) + list(previsao_3)).reshape(1,10,1))[0]"
   ]
  },
  {
   "cell_type": "code",
   "execution_count": 120,
   "metadata": {},
   "outputs": [],
   "source": [
    "previsao_5 = model.predict( np.array( list(previsao_3) + list(previsao_4)).reshape(1,10,1))[0]"
   ]
  },
  {
   "cell_type": "code",
   "execution_count": 125,
   "metadata": {},
   "outputs": [],
   "source": [
    "com_previsao_comlog = list(logdiff_vacinados.values) + list(previsao_1) + list(previsao_2) + list(previsao_3) + list(previsao_4) + list(previsao_5) "
   ]
  },
  {
   "cell_type": "code",
   "execution_count": 126,
   "metadata": {},
   "outputs": [],
   "source": [
    "com_previsao_semlog = np.exp(com_previsao_comlog )"
   ]
  },
  {
   "cell_type": "code",
   "execution_count": 127,
   "metadata": {},
   "outputs": [],
   "source": [
    "com_previsao_semlog[0] = initial_value"
   ]
  },
  {
   "cell_type": "code",
   "execution_count": 128,
   "metadata": {},
   "outputs": [
    {
     "data": {
      "text/plain": [
       "[<matplotlib.lines.Line2D at 0x217b937c190>]"
      ]
     },
     "execution_count": 128,
     "metadata": {},
     "output_type": "execute_result"
    },
    {
     "data": {
      "image/png": "[encoded data removed]",
      "text/plain": [
       "<Figure size 432x288 with 1 Axes>"
      ]
     },
     "metadata": {
      "needs_background": "light"
     },
     "output_type": "display_data"
    }
   ],
   "source": [
    "plt.plot(com_previsao_semlog.cumprod())"
   ]
  },
  {
   "cell_type": "code",
   "execution_count": 129,
   "metadata": {},
   "outputs": [],
   "source": [
    "times = pd.date_range('2021-01-20', periods=len(com_previsao_semlog.cumprod()))"
   ]
  },
  {
   "cell_type": "code",
   "execution_count": 130,
   "metadata": {},
   "outputs": [
    {
     "data": {
      "text/plain": [
       "DatetimeIndex(['2021-01-20', '2021-01-21', '2021-01-22', '2021-01-23',\n",
       "               '2021-01-24', '2021-01-25', '2021-01-26', '2021-01-27',\n",
       "               '2021-01-28', '2021-01-29', '2021-01-30', '2021-01-31',\n",
       "               '2021-02-01', '2021-02-02', '2021-02-03', '2021-02-04',\n",
       "               '2021-02-05', '2021-02-06', '2021-02-07', '2021-02-08',\n",
       "               '2021-02-09', '2021-02-10', '2021-02-11', '2021-02-12',\n",
       "               '2021-02-13', '2021-02-14', '2021-02-15', '2021-02-16',\n",
       "               '2021-02-17', '2021-02-18', '2021-02-19', '2021-02-20',\n",
       "               '2021-02-21', '2021-02-22', '2021-02-23', '2021-02-24',\n",
       "               '2021-02-25', '2021-02-26', '2021-02-27', '2021-02-28',\n",
       "               '2021-03-01', '2021-03-02', '2021-03-03', '2021-03-04',\n",
       "               '2021-03-05', '2021-03-06', '2021-03-07', '2021-03-08',\n",
       "               '2021-03-09', '2021-03-10', '2021-03-11', '2021-03-12',\n",
       "               '2021-03-13', '2021-03-14', '2021-03-15', '2021-03-16',\n",
       "               '2021-03-17', '2021-03-18', '2021-03-19', '2021-03-20',\n",
       "               '2021-03-21', '2021-03-22', '2021-03-23', '2021-03-24',\n",
       "               '2021-03-25', '2021-03-26', '2021-03-27', '2021-03-28',\n",
       "               '2021-03-29', '2021-03-30', '2021-03-31', '2021-04-01',\n",
       "               '2021-04-02', '2021-04-03', '2021-04-04', '2021-04-05',\n",
       "               '2021-04-06', '2021-04-07', '2021-04-08', '2021-04-09',\n",
       "               '2021-04-10'],\n",
       "              dtype='datetime64[ns]', freq='D')"
      ]
     },
     "execution_count": 130,
     "metadata": {},
     "output_type": "execute_result"
    }
   ],
   "source": [
    "times"
   ]
  },
  {
   "cell_type": "code",
   "execution_count": 131,
   "metadata": {},
   "outputs": [
    {
     "data": {
      "text/plain": [
       "[<matplotlib.lines.Line2D at 0x217baef6ca0>]"
      ]
     },
     "execution_count": 131,
     "metadata": {},
     "output_type": "execute_result"
    },
    {
     "data": {
      "image/png": "[encoded data removed]",
      "text/plain": [
       "<Figure size 432x288 with 1 Axes>"
      ]
     },
     "metadata": {
      "needs_background": "light"
     },
     "output_type": "display_data"
    }
   ],
   "source": [
    "plt.plot(times, com_previsao_semlog.cumprod())"
   ]
  },
  {
   "cell_type": "code",
   "execution_count": 135,
   "metadata": {},
   "outputs": [],
   "source": [
    "previsao_vacinados = pd.DataFrame()\n",
    "previsao_vacinados['vacinados'] = com_previsao_semlog.cumprod()\n",
    "previsao_vacinados['dia'] = times"
   ]
  },
  {
   "cell_type": "code",
   "execution_count": 136,
   "metadata": {},
   "outputs": [],
   "source": [
    "previsao_vacinados.to_csv(\"previsao_vacinados_cwb_30032021.csv\", index=False)"
   ]
  },
  {
   "cell_type": "code",
   "execution_count": 139,
   "metadata": {},
   "outputs": [],
   "source": [
    "previsao_6 = model.predict( np.array( list(previsao_4) + list(previsao_5)).reshape(1,10,1))[0]\n",
    "previsao_7 = model.predict( np.array( list(previsao_5) + list(previsao_6)).reshape(1,10,1))[0]\n",
    "previsao_8 = model.predict( np.array( list(previsao_6) + list(previsao_7)).reshape(1,10,1))[0]\n",
    "previsao_9 = model.predict( np.array( list(previsao_7) + list(previsao_8)).reshape(1,10,1))[0]\n",
    "previsao_10 = model.predict( np.array( list(previsao_8) + list(previsao_9)).reshape(1,10,1))[0]\n",
    "previsao_11 = model.predict( np.array( list(previsao_9) + list(previsao_10)).reshape(1,10,1))[0]\n",
    "previsao_12 = model.predict( np.array( list(previsao_10) + list(previsao_11)).reshape(1,10,1))[0]\n",
    "previsao_13 = model.predict( np.array( list(previsao_11) + list(previsao_12)).reshape(1,10,1))[0]\n",
    "previsao_14 = model.predict( np.array( list(previsao_12) + list(previsao_13)).reshape(1,10,1))[0]\n",
    "previsao_15 = model.predict( np.array( list(previsao_13) + list(previsao_14)).reshape(1,10,1))[0]\n",
    "previsao_16 = model.predict( np.array( list(previsao_14) + list(previsao_15)).reshape(1,10,1))[0]\n",
    "previsao_17 = model.predict( np.array( list(previsao_15) + list(previsao_16)).reshape(1,10,1))[0]\n",
    "previsao_18 = model.predict( np.array( list(previsao_16) + list(previsao_17)).reshape(1,10,1))[0]\n",
    "previsao_19= model.predict( np.array( list(previsao_17) + list(previsao_18)).reshape(1,10,1))[0]\n",
    "previsao_20 = model.predict( np.array( list(previsao_18) + list(previsao_19)).reshape(1,10,1))[0]\n"
   ]
  },
  {
   "cell_type": "code",
   "execution_count": 141,
   "metadata": {},
   "outputs": [],
   "source": [
    "com_previsao_comlog = list(logdiff_vacinados.values) + list(previsao_1) + list(previsao_2) + list(previsao_3) + list(previsao_4) + list(previsao_5) +list(previsao_6) +list(previsao_7) +list(previsao_8) +list(previsao_9) +list(previsao_10) +list(previsao_11) +list(previsao_12) +list(previsao_13) +list(previsao_14) +list(previsao_15) +list(previsao_16) +list(previsao_17) +list(previsao_18) +list(previsao_19) +list(previsao_20) \n",
    "                    "
   ]
  },
  {
   "cell_type": "code",
   "execution_count": 142,
   "metadata": {},
   "outputs": [],
   "source": [
    "com_previsao_semlog = np.exp(com_previsao_comlog )"
   ]
  },
  {
   "cell_type": "code",
   "execution_count": 143,
   "metadata": {},
   "outputs": [],
   "source": [
    "com_previsao_semlog[0] = initial_value"
   ]
  },
  {
   "cell_type": "code",
   "execution_count": 144,
   "metadata": {},
   "outputs": [
    {
     "data": {
      "text/plain": [
       "[<matplotlib.lines.Line2D at 0x217b96f4b80>]"
      ]
     },
     "execution_count": 144,
     "metadata": {},
     "output_type": "execute_result"
    },
    {
     "data": {
      "image/png": "[encoded data removed]",
      "text/plain": [
       "<Figure size 432x288 with 1 Axes>"
      ]
     },
     "metadata": {
      "needs_background": "light"
     },
     "output_type": "display_data"
    }
   ],
   "source": [
    "plt.plot(com_previsao_semlog.cumprod())"
   ]
  },
  {
   "cell_type": "code",
   "execution_count": 145,
   "metadata": {},
   "outputs": [],
   "source": [
    "times = pd.date_range('2021-01-20', periods=len(com_previsao_semlog.cumprod()))"
   ]
  },
  {
   "cell_type": "code",
   "execution_count": 146,
   "metadata": {},
   "outputs": [],
   "source": [
    "previsao_vacinados = pd.DataFrame()\n",
    "previsao_vacinados['vacinados'] = com_previsao_semlog.cumprod()\n",
    "previsao_vacinados['dia'] = times"
   ]
  },
  {
   "cell_type": "code",
   "execution_count": 147,
   "metadata": {},
   "outputs": [],
   "source": [
    "previsao_vacinados.to_csv(\"previsao_vacinados_cwb_30032021.csv\", index=False)"
   ]
  },
  {
   "cell_type": "code",
   "execution_count": 148,
   "metadata": {},
   "outputs": [
    {
     "data": {
      "text/plain": [
       "3"
      ]
     },
     "execution_count": 148,
     "metadata": {},
     "output_type": "execute_result"
    }
   ],
   "source": [
    "1+2"
   ]
  },
  {
   "cell_type": "code",
   "execution_count": 149,
   "metadata": {},
   "outputs": [],
   "source": [
    "x = 1"
   ]
  },
  {
   "cell_type": "code",
   "execution_count": 150,
   "metadata": {},
   "outputs": [
    {
     "data": {
      "text/plain": [
       "3"
      ]
     },
     "execution_count": 150,
     "metadata": {},
     "output_type": "execute_result"
    }
   ],
   "source": [
    "x + 2"
   ]
  },
  {
   "cell_type": "code",
   "execution_count": 151,
   "metadata": {},
   "outputs": [],
   "source": [
    "celito = 54"
   ]
  },
  {
   "cell_type": "code",
   "execution_count": 152,
   "metadata": {},
   "outputs": [
    {
     "data": {
      "text/plain": [
       "56"
      ]
     },
     "execution_count": 152,
     "metadata": {},
     "output_type": "execute_result"
    }
   ],
   "source": [
    "celito + 2"
   ]
  },
  {
   "cell_type": "code",
   "execution_count": 153,
   "metadata": {},
   "outputs": [
    {
     "data": {
      "text/plain": [
       "'celito'"
      ]
     },
     "execution_count": 153,
     "metadata": {},
     "output_type": "execute_result"
    }
   ],
   "source": [
    "\"celito\""
   ]
  },
  {
   "cell_type": "code",
   "execution_count": 155,
   "metadata": {},
   "outputs": [
    {
     "name": "stdout",
     "output_type": "stream",
     "text": [
      "caaaa\n",
      "eaaaa\n",
      "laaaa\n",
      "iaaaa\n",
      "taaaa\n",
      "oaaaa\n"
     ]
    }
   ],
   "source": [
    "for i in \"celito\":\n",
    "    print(i + \"aaaa\")"
   ]
  },
  {
   "cell_type": "code",
   "execution_count": 156,
   "metadata": {},
   "outputs": [
    {
     "data": {
      "text/plain": [
       "'va a merda'"
      ]
     },
     "execution_count": 156,
     "metadata": {},
     "output_type": "execute_result"
    }
   ],
   "source": [
    "\"va a merda\""
   ]
  },
  {
   "cell_type": "code",
   "execution_count": null,
   "metadata": {},
   "outputs": [],
   "source": []
  }
 ],
 "metadata": {
  "kernelspec": {
   "display_name": "Python 3",
   "language": "python",
   "name": "python3"
  },
  "language_info": {
   "codemirror_mode": {
    "name": "ipython",
    "version": 3
   },
   "file_extension": ".py",
   "mimetype": "text/x-python",
   "name": "python",
   "nbconvert_exporter": "python",
   "pygments_lexer": "ipython3",
   "version": "3.8.5"
  }
 },
 "nbformat": 4,
 "nbformat_minor": 4
}
