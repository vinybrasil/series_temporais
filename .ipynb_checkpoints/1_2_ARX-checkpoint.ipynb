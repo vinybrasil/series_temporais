{
 "cells": [
  {
   "cell_type": "code",
   "execution_count": 16,
   "metadata": {},
   "outputs": [
    {
     "data": {
      "text/html": [
       "<div>\n",
       "<style scoped>\n",
       "    .dataframe tbody tr th:only-of-type {\n",
       "        vertical-align: middle;\n",
       "    }\n",
       "\n",
       "    .dataframe tbody tr th {\n",
       "        vertical-align: top;\n",
       "    }\n",
       "\n",
       "    .dataframe thead th {\n",
       "        text-align: right;\n",
       "    }\n",
       "</style>\n",
       "<table border=\"1\" class=\"dataframe\">\n",
       "  <thead>\n",
       "    <tr style=\"text-align: right;\">\n",
       "      <th></th>\n",
       "      <th>#Passengers</th>\n",
       "    </tr>\n",
       "    <tr>\n",
       "      <th>Month</th>\n",
       "      <th></th>\n",
       "    </tr>\n",
       "  </thead>\n",
       "  <tbody>\n",
       "    <tr>\n",
       "      <th>1949-01-01</th>\n",
       "      <td>112</td>\n",
       "    </tr>\n",
       "    <tr>\n",
       "      <th>1949-02-01</th>\n",
       "      <td>118</td>\n",
       "    </tr>\n",
       "    <tr>\n",
       "      <th>1949-03-01</th>\n",
       "      <td>132</td>\n",
       "    </tr>\n",
       "    <tr>\n",
       "      <th>1949-04-01</th>\n",
       "      <td>129</td>\n",
       "    </tr>\n",
       "    <tr>\n",
       "      <th>1949-05-01</th>\n",
       "      <td>121</td>\n",
       "    </tr>\n",
       "  </tbody>\n",
       "</table>\n",
       "</div>"
      ],
      "text/plain": [
       "            #Passengers\n",
       "Month                  \n",
       "1949-01-01          112\n",
       "1949-02-01          118\n",
       "1949-03-01          132\n",
       "1949-04-01          129\n",
       "1949-05-01          121"
      ]
     },
     "execution_count": 16,
     "metadata": {},
     "output_type": "execute_result"
    }
   ],
   "source": [
    "#source: https://arch.readthedocs.io/en/latest/univariate/univariate_volatility_modeling.html\n",
    "#e https://arch.readthedocs.io/en/latest/univariate/forecasting.html\n",
    "import pandas as pd\n",
    "import numpy as np\n",
    "df = pd.read_csv('C:\\\\Users\\\\vinic\\\\Desktop\\\\R\\\\timeseries_models\\\\datasets\\\\AirPassengers.csv', parse_dates = ['Month'], \n",
    "                 index_col = ['Month'])\n",
    "df.head()"
   ]
  },
  {
   "cell_type": "code",
   "execution_count": 17,
   "metadata": {},
   "outputs": [],
   "source": [
    "passengers = np.log(df)\n",
    "#fig =  ann_inflation.plot()"
   ]
  },
  {
   "cell_type": "code",
   "execution_count": 21,
   "metadata": {},
   "outputs": [],
   "source": [
    "passengers = passengers.diff().drop(passengers.index[0])"
   ]
  },
  {
   "cell_type": "code",
   "execution_count": 22,
   "metadata": {},
   "outputs": [
    {
     "data": {
      "text/html": [
       "<div>\n",
       "<style scoped>\n",
       "    .dataframe tbody tr th:only-of-type {\n",
       "        vertical-align: middle;\n",
       "    }\n",
       "\n",
       "    .dataframe tbody tr th {\n",
       "        vertical-align: top;\n",
       "    }\n",
       "\n",
       "    .dataframe thead th {\n",
       "        text-align: right;\n",
       "    }\n",
       "</style>\n",
       "<table border=\"1\" class=\"dataframe\">\n",
       "  <thead>\n",
       "    <tr style=\"text-align: right;\">\n",
       "      <th></th>\n",
       "      <th>#Passengers</th>\n",
       "    </tr>\n",
       "    <tr>\n",
       "      <th>Month</th>\n",
       "      <th></th>\n",
       "    </tr>\n",
       "  </thead>\n",
       "  <tbody>\n",
       "    <tr>\n",
       "      <th>1949-02-01</th>\n",
       "      <td>0.052186</td>\n",
       "    </tr>\n",
       "    <tr>\n",
       "      <th>1949-03-01</th>\n",
       "      <td>0.112117</td>\n",
       "    </tr>\n",
       "    <tr>\n",
       "      <th>1949-04-01</th>\n",
       "      <td>-0.022990</td>\n",
       "    </tr>\n",
       "    <tr>\n",
       "      <th>1949-05-01</th>\n",
       "      <td>-0.064022</td>\n",
       "    </tr>\n",
       "    <tr>\n",
       "      <th>1949-06-01</th>\n",
       "      <td>0.109484</td>\n",
       "    </tr>\n",
       "    <tr>\n",
       "      <th>...</th>\n",
       "      <td>...</td>\n",
       "    </tr>\n",
       "    <tr>\n",
       "      <th>1960-08-01</th>\n",
       "      <td>-0.026060</td>\n",
       "    </tr>\n",
       "    <tr>\n",
       "      <th>1960-09-01</th>\n",
       "      <td>-0.176399</td>\n",
       "    </tr>\n",
       "    <tr>\n",
       "      <th>1960-10-01</th>\n",
       "      <td>-0.097083</td>\n",
       "    </tr>\n",
       "    <tr>\n",
       "      <th>1960-11-01</th>\n",
       "      <td>-0.167251</td>\n",
       "    </tr>\n",
       "    <tr>\n",
       "      <th>1960-12-01</th>\n",
       "      <td>0.102279</td>\n",
       "    </tr>\n",
       "  </tbody>\n",
       "</table>\n",
       "<p>143 rows × 1 columns</p>\n",
       "</div>"
      ],
      "text/plain": [
       "            #Passengers\n",
       "Month                  \n",
       "1949-02-01     0.052186\n",
       "1949-03-01     0.112117\n",
       "1949-04-01    -0.022990\n",
       "1949-05-01    -0.064022\n",
       "1949-06-01     0.109484\n",
       "...                 ...\n",
       "1960-08-01    -0.026060\n",
       "1960-09-01    -0.176399\n",
       "1960-10-01    -0.097083\n",
       "1960-11-01    -0.167251\n",
       "1960-12-01     0.102279\n",
       "\n",
       "[143 rows x 1 columns]"
      ]
     },
     "execution_count": 22,
     "metadata": {},
     "output_type": "execute_result"
    }
   ],
   "source": [
    "passengers"
   ]
  },
  {
   "cell_type": "code",
   "execution_count": 40,
   "metadata": {},
   "outputs": [
    {
     "data": {
      "text/html": [
       "<table class=\"simpletable\">\n",
       "<caption>AR - Constant Variance Model Results</caption>\n",
       "<tr>\n",
       "  <th>Dep. Variable:</th>     <td>#Passengers</td>    <th>  R-squared:         </th>  <td>   0.826</td> \n",
       "</tr>\n",
       "<tr>\n",
       "  <th>Mean Model:</th>            <td>AR</td>         <th>  Adj. R-squared:    </th>  <td>   0.822</td> \n",
       "</tr>\n",
       "<tr>\n",
       "  <th>Vol Model:</th>      <td>Constant Variance</td> <th>  Log-Likelihood:    </th> <td>  -382.325</td>\n",
       "</tr>\n",
       "<tr>\n",
       "  <th>Distribution:</th>        <td>Normal</td>       <th>  AIC:               </th> <td>   774.650</td>\n",
       "</tr>\n",
       "<tr>\n",
       "  <th>Method:</th>        <td>Maximum Likelihood</td> <th>  BIC:               </th> <td>   789.026</td>\n",
       "</tr>\n",
       "<tr>\n",
       "  <th></th>                        <td></td>          <th>  No. Observations:  </th>     <td>131</td>   \n",
       "</tr>\n",
       "<tr>\n",
       "  <th>Date:</th>           <td>Sun, Jan 03 2021</td>  <th>  Df Residuals:      </th>     <td>126</td>   \n",
       "</tr>\n",
       "<tr>\n",
       "  <th>Time:</th>               <td>16:04:56</td>      <th>  Df Model:          </th>      <td>5</td>    \n",
       "</tr>\n",
       "</table>\n",
       "<table class=\"simpletable\">\n",
       "<caption>Mean Model</caption>\n",
       "<tr>\n",
       "         <td></td>           <th>coef</th>      <th>std err</th>       <th>t</th>        <th>P>|t|</th>      <th>95.0% Conf. Int.</th>   \n",
       "</tr>\n",
       "<tr>\n",
       "  <th>Const</th>          <td>    0.1392</td>  <td>    0.369</td>  <td>    0.377</td>  <td>    0.706</td>    <td>[ -0.584,  0.863]</td>  \n",
       "</tr>\n",
       "<tr>\n",
       "  <th>#Pas...ers[1]</th>  <td>-1.2248e-03</td> <td>3.190e-02</td> <td>-3.840e-02</td>  <td>    0.969</td> <td>[-6.374e-02,6.129e-02]</td>\n",
       "</tr>\n",
       "<tr>\n",
       "  <th>#Pas...ers[3]</th>  <td>   -0.0246</td>  <td>4.080e-02</td>  <td>   -0.602</td>  <td>    0.547</td>   <td>[ -0.105,5.539e-02]</td> \n",
       "</tr>\n",
       "<tr>\n",
       "  <th>#Pas...ers[12]</th> <td>    0.9167</td>  <td>4.223e-02</td>  <td>   21.705</td> <td>1.851e-104</td>    <td>[  0.834,  0.999]</td>  \n",
       "</tr>\n",
       "</table>\n",
       "<table class=\"simpletable\">\n",
       "<caption>Volatility Model</caption>\n",
       "<tr>\n",
       "     <td></td>       <th>coef</th>     <th>std err</th>      <th>t</th>       <th>P>|t|</th>   <th>95.0% Conf. Int.</th> \n",
       "</tr>\n",
       "<tr>\n",
       "  <th>sigma2</th> <td>   20.0684</td> <td>    2.977</td> <td>    6.741</td> <td>1.573e-11</td> <td>[ 14.233, 25.903]</td>\n",
       "</tr>\n",
       "</table><br/><br/>Covariance estimator: White's Heteroskedasticity Consistent Estimator"
      ],
      "text/plain": [
       "<class 'statsmodels.iolib.summary.Summary'>\n",
       "\"\"\"\n",
       "                     AR - Constant Variance Model Results                     \n",
       "==============================================================================\n",
       "Dep. Variable:            #Passengers   R-squared:                       0.826\n",
       "Mean Model:                        AR   Adj. R-squared:                  0.822\n",
       "Vol Model:          Constant Variance   Log-Likelihood:               -382.325\n",
       "Distribution:                  Normal   AIC:                           774.650\n",
       "Method:            Maximum Likelihood   BIC:                           789.026\n",
       "                                        No. Observations:                  131\n",
       "Date:                Sun, Jan 03 2021   Df Residuals:                      126\n",
       "Time:                        16:04:56   Df Model:                            5\n",
       "                                    Mean Model                                    \n",
       "==================================================================================\n",
       "                      coef    std err          t      P>|t|       95.0% Conf. Int.\n",
       "----------------------------------------------------------------------------------\n",
       "Const               0.1392      0.369      0.377      0.706      [ -0.584,  0.863]\n",
       "#Pas...ers[1]  -1.2248e-03  3.190e-02 -3.840e-02      0.969 [-6.374e-02,6.129e-02]\n",
       "#Pas...ers[3]      -0.0246  4.080e-02     -0.602      0.547    [ -0.105,5.539e-02]\n",
       "#Pas...ers[12]      0.9167  4.223e-02     21.705 1.851e-104      [  0.834,  0.999]\n",
       "                            Volatility Model                            \n",
       "========================================================================\n",
       "                 coef    std err          t      P>|t|  95.0% Conf. Int.\n",
       "------------------------------------------------------------------------\n",
       "sigma2        20.0684      2.977      6.741  1.573e-11 [ 14.233, 25.903]\n",
       "========================================================================\n",
       "\n",
       "Covariance estimator: White's Heteroskedasticity Consistent Estimator\n",
       "\"\"\""
      ]
     },
     "execution_count": 40,
     "metadata": {},
     "output_type": "execute_result"
    }
   ],
   "source": [
    "from arch.univariate import ARX\n",
    "arx = ARX(100 * passengers, lags=[1,3,12])\n",
    "res = arx.fit()\n",
    "res.summary()"
   ]
  },
  {
   "cell_type": "code",
   "execution_count": 41,
   "metadata": {},
   "outputs": [
    {
     "data": {
      "image/png": "[encoded data removed]",
      "text/plain": [
       "<Figure size 432x288 with 2 Axes>"
      ]
     },
     "metadata": {
      "needs_background": "light"
     },
     "output_type": "display_data"
    }
   ],
   "source": [
    "res.plot();"
   ]
  },
  {
   "cell_type": "code",
   "execution_count": 45,
   "metadata": {},
   "outputs": [],
   "source": [
    "f = res.forecast()"
   ]
  },
  {
   "cell_type": "code",
   "execution_count": 47,
   "metadata": {},
   "outputs": [
    {
     "data": {
      "text/html": [
       "<div>\n",
       "<style scoped>\n",
       "    .dataframe tbody tr th:only-of-type {\n",
       "        vertical-align: middle;\n",
       "    }\n",
       "\n",
       "    .dataframe tbody tr th {\n",
       "        vertical-align: top;\n",
       "    }\n",
       "\n",
       "    .dataframe thead th {\n",
       "        text-align: right;\n",
       "    }\n",
       "</style>\n",
       "<table border=\"1\" class=\"dataframe\">\n",
       "  <thead>\n",
       "    <tr style=\"text-align: right;\">\n",
       "      <th></th>\n",
       "      <th>h.1</th>\n",
       "    </tr>\n",
       "    <tr>\n",
       "      <th>Month</th>\n",
       "      <th></th>\n",
       "    </tr>\n",
       "  </thead>\n",
       "  <tbody>\n",
       "    <tr>\n",
       "      <th>1949-02-01</th>\n",
       "      <td>NaN</td>\n",
       "    </tr>\n",
       "    <tr>\n",
       "      <th>1949-03-01</th>\n",
       "      <td>NaN</td>\n",
       "    </tr>\n",
       "    <tr>\n",
       "      <th>1949-04-01</th>\n",
       "      <td>NaN</td>\n",
       "    </tr>\n",
       "    <tr>\n",
       "      <th>1949-05-01</th>\n",
       "      <td>NaN</td>\n",
       "    </tr>\n",
       "    <tr>\n",
       "      <th>1949-06-01</th>\n",
       "      <td>NaN</td>\n",
       "    </tr>\n",
       "    <tr>\n",
       "      <th>...</th>\n",
       "      <td>...</td>\n",
       "    </tr>\n",
       "    <tr>\n",
       "      <th>1960-08-01</th>\n",
       "      <td>NaN</td>\n",
       "    </tr>\n",
       "    <tr>\n",
       "      <th>1960-09-01</th>\n",
       "      <td>NaN</td>\n",
       "    </tr>\n",
       "    <tr>\n",
       "      <th>1960-10-01</th>\n",
       "      <td>NaN</td>\n",
       "    </tr>\n",
       "    <tr>\n",
       "      <th>1960-11-01</th>\n",
       "      <td>NaN</td>\n",
       "    </tr>\n",
       "    <tr>\n",
       "      <th>1960-12-01</th>\n",
       "      <td>3.041931</td>\n",
       "    </tr>\n",
       "  </tbody>\n",
       "</table>\n",
       "<p>143 rows × 1 columns</p>\n",
       "</div>"
      ],
      "text/plain": [
       "                 h.1\n",
       "Month               \n",
       "1949-02-01       NaN\n",
       "1949-03-01       NaN\n",
       "1949-04-01       NaN\n",
       "1949-05-01       NaN\n",
       "1949-06-01       NaN\n",
       "...              ...\n",
       "1960-08-01       NaN\n",
       "1960-09-01       NaN\n",
       "1960-10-01       NaN\n",
       "1960-11-01       NaN\n",
       "1960-12-01  3.041931\n",
       "\n",
       "[143 rows x 1 columns]"
      ]
     },
     "execution_count": 47,
     "metadata": {},
     "output_type": "execute_result"
    }
   ],
   "source": [
    "f.mean"
   ]
  },
  {
   "cell_type": "code",
   "execution_count": 54,
   "metadata": {},
   "outputs": [],
   "source": [
    "split_date = dt.datetime(1950,8,1)\n",
    "res = arx.fit(last_obs=split_date, disp='off')"
   ]
  },
  {
   "cell_type": "code",
   "execution_count": 71,
   "metadata": {},
   "outputs": [
    {
     "data": {
      "text/plain": [
       "                     AR - Constant Variance Model Results                     \n",
       "==============================================================================\n",
       "Dep. Variable:            #Passengers   R-squared:                       0.976\n",
       "Mean Model:                        AR   Adj. R-squared:                  0.939\n",
       "Vol Model:          Constant Variance   Log-Likelihood:               -10.7216\n",
       "Distribution:                  Normal   AIC:                           31.4431\n",
       "Method:            Maximum Likelihood   BIC:                           30.4019\n",
       "                                        No. Observations:                    6\n",
       "Date:                Sun, Jan 03 2021   Df Residuals:                        1\n",
       "Time:                        16:12:33   Df Model:                            5\n",
       "                                   Mean Model                                  \n",
       "===============================================================================\n",
       "                     coef    std err          t      P>|t|     95.0% Conf. Int.\n",
       "-------------------------------------------------------------------------------\n",
       "Const              0.9985      0.417      2.396  1.657e-02    [  0.182,  1.815]\n",
       "#Pas...ers[1]     -0.1762  6.969e-02     -2.529  1.145e-02 [ -0.313,-3.964e-02]\n",
       "#Pas...ers[3]     -0.1186  6.467e-02     -1.834  6.669e-02  [ -0.245,8.160e-03]\n",
       "#Pas...ers[12]     1.3886  6.548e-02     21.207 8.211e-100    [  1.260,  1.517]\n",
       "                            Volatility Model                            \n",
       "========================================================================\n",
       "                 coef    std err          t      P>|t|  95.0% Conf. Int.\n",
       "------------------------------------------------------------------------\n",
       "sigma2         2.0875      0.725      2.878  3.998e-03 [  0.666,  3.509]\n",
       "========================================================================\n",
       "\n",
       "Covariance estimator: White's Heteroskedasticity Consistent Estimator\n",
       "ARCHModelResult, id: 0x25bcb0baa60"
      ]
     },
     "execution_count": 71,
     "metadata": {},
     "output_type": "execute_result"
    }
   ],
   "source": [
    "res"
   ]
  },
  {
   "cell_type": "code",
   "execution_count": 49,
   "metadata": {},
   "outputs": [],
   "source": [
    "import datetime as dt"
   ]
  },
  {
   "cell_type": "code",
   "execution_count": 69,
   "metadata": {},
   "outputs": [
    {
     "data": {
      "text/plain": [
       "<AxesSubplot:xlabel='Month'>"
      ]
     },
     "execution_count": 69,
     "metadata": {},
     "output_type": "execute_result"
    },
    {
     "data": {
      "image/png": "[encoded data removed]",
      "text/plain": [
       "<Figure size 432x288 with 1 Axes>"
      ]
     },
     "metadata": {
      "needs_background": "light"
     },
     "output_type": "display_data"
    }
   ],
   "source": [
    "forecasts = res.forecast(start=split_date, align='target') #TARGET DÁ PARA O DIA\n",
    "                                                            #ORIGIN DÁ PRA +1,...,+5 DIAS\n",
    "                                                            #não faz sentido usr o horizon=5 se \n",
    "                                                            #usar target\n",
    "\n",
    "#o que for predito\n",
    "forecasts.mean[split_date:].plot()"
   ]
  },
  {
   "cell_type": "code",
   "execution_count": 70,
   "metadata": {},
   "outputs": [
    {
     "data": {
      "text/plain": [
       "<AxesSubplot:xlabel='Month'>"
      ]
     },
     "execution_count": 70,
     "metadata": {},
     "output_type": "execute_result"
    },
    {
     "data": {
      "image/png": "[encoded data removed]",
      "text/plain": [
       "<Figure size 432x288 with 1 Axes>"
      ]
     },
     "metadata": {
      "needs_background": "light"
     },
     "output_type": "display_data"
    }
   ],
   "source": [
    "plt.plot(100 * passengers[split_date:])\n",
    "forecasts.mean[split_date:]['h.1'].plot()"
   ]
  },
  {
   "cell_type": "code",
   "execution_count": 73,
   "metadata": {},
   "outputs": [
    {
     "data": {
      "text/plain": [
       "0    0.548814\n",
       "1    0.715189\n",
       "2    0.602763\n",
       "3    0.544883\n",
       "4    0.423655\n",
       "5    0.645894\n",
       "6    0.437587\n",
       "7    0.891773\n",
       "8    0.963663\n",
       "9    0.383442\n",
       "dtype: float64"
      ]
     },
     "execution_count": 73,
     "metadata": {},
     "output_type": "execute_result"
    }
   ],
   "source": [
    "#para voltar do log return\n",
    "\n",
    "np.random.seed(0)\n",
    "\n",
    "s = pd.Series(np.random.random(10))\n",
    "s"
   ]
  },
  {
   "cell_type": "code",
   "execution_count": 75,
   "metadata": {},
   "outputs": [
    {
     "data": {
      "text/plain": [
       "0         NaN\n",
       "1    0.264789\n",
       "2   -0.171023\n",
       "3   -0.100953\n",
       "4   -0.251652\n",
       "5    0.421717\n",
       "6   -0.389360\n",
       "7    0.711936\n",
       "8    0.077530\n",
       "9   -0.921554\n",
       "dtype: float64"
      ]
     },
     "execution_count": 75,
     "metadata": {},
     "output_type": "execute_result"
    }
   ],
   "source": [
    "t = np.log(s).diff()\n",
    "t"
   ]
  },
  {
   "cell_type": "code",
   "execution_count": 77,
   "metadata": {},
   "outputs": [
    {
     "data": {
      "text/plain": [
       "0   -0.599997\n",
       "1    0.264789\n",
       "2   -0.171023\n",
       "3   -0.100953\n",
       "4   -0.251652\n",
       "5    0.421717\n",
       "6   -0.389360\n",
       "7    0.711936\n",
       "8    0.077530\n",
       "9   -0.921554\n",
       "dtype: float64"
      ]
     },
     "execution_count": 77,
     "metadata": {},
     "output_type": "execute_result"
    }
   ],
   "source": [
    "t.iat[0] = np.log(s.iat[0])\n",
    "t"
   ]
  },
  {
   "cell_type": "code",
   "execution_count": 78,
   "metadata": {},
   "outputs": [],
   "source": [
    "final = np.exp(t.cumsum())"
   ]
  },
  {
   "cell_type": "code",
   "execution_count": 79,
   "metadata": {},
   "outputs": [
    {
     "data": {
      "text/plain": [
       "0    0.548814\n",
       "1    0.715189\n",
       "2    0.602763\n",
       "3    0.544883\n",
       "4    0.423655\n",
       "5    0.645894\n",
       "6    0.437587\n",
       "7    0.891773\n",
       "8    0.963663\n",
       "9    0.383442\n",
       "dtype: float64"
      ]
     },
     "execution_count": 79,
     "metadata": {},
     "output_type": "execute_result"
    }
   ],
   "source": [
    "final"
   ]
  },
  {
   "cell_type": "code",
   "execution_count": null,
   "metadata": {},
   "outputs": [],
   "source": []
  }
 ],
 "metadata": {
  "kernelspec": {
   "display_name": "Python 3",
   "language": "python",
   "name": "python3"
  },
  "language_info": {
   "codemirror_mode": {
    "name": "ipython",
    "version": 3
   },
   "file_extension": ".py",
   "mimetype": "text/x-python",
   "name": "python",
   "nbconvert_exporter": "python",
   "pygments_lexer": "ipython3",
   "version": "3.8.5"
  }
 },
 "nbformat": 4,
 "nbformat_minor": 4
}
