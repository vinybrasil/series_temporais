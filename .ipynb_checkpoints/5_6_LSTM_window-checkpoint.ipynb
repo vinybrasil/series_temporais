{
 "cells": [
  {
   "cell_type": "code",
   "execution_count": 2,
   "metadata": {},
   "outputs": [],
   "source": [
    "import tensorflow as tf\n",
    "import matplotlib.pyplot as plt\n",
    "import pandas as pd\n",
    "import numpy as np"
   ]
  },
  {
   "cell_type": "code",
   "execution_count": 3,
   "metadata": {},
   "outputs": [],
   "source": [
    "raw_data = pd.read_csv(\"datasets/hungary_chickenpox.csv\")"
   ]
  },
  {
   "cell_type": "code",
   "execution_count": 5,
   "metadata": {},
   "outputs": [
    {
     "data": {
      "text/plain": [
       "[<matplotlib.lines.Line2D at 0x1b866316700>]"
      ]
     },
     "execution_count": 5,
     "metadata": {},
     "output_type": "execute_result"
    },
    {
     "data": {
      "image/png": "[encoded data removed]",
      "text/plain": [
       "<Figure size 432x288 with 1 Axes>"
      ]
     },
     "metadata": {
      "needs_background": "light"
     },
     "output_type": "display_data"
    }
   ],
   "source": [
    "plt.plot( raw_data['BUDAPEST'])"
   ]
  },
  {
   "cell_type": "code",
   "execution_count": 6,
   "metadata": {},
   "outputs": [],
   "source": [
    "def window(x, n, w):\n",
    "    window = []\n",
    "    step_ahead = []\n",
    "    i = 1\n",
    "    while i + n + w <= len(x):\n",
    "        window.append(x[i-1:i+n])\n",
    "        step_ahead.append(x[i+n:i+n+w])\n",
    "        i += 1\n",
    "    return window, step_ahead"
   ]
  },
  {
   "cell_type": "code",
   "execution_count": 7,
   "metadata": {},
   "outputs": [],
   "source": [
    "x = raw_data['BUDAPEST'].values"
   ]
  },
  {
   "cell_type": "code",
   "execution_count": 8,
   "metadata": {},
   "outputs": [],
   "source": [
    "windows, step_ahead = window(x[0:100], 10 ,2) #tá 11 ao inves de 10"
   ]
  },
  {
   "cell_type": "code",
   "execution_count": 9,
   "metadata": {},
   "outputs": [],
   "source": [
    "windows = np.array(windows)"
   ]
  },
  {
   "cell_type": "code",
   "execution_count": 13,
   "metadata": {},
   "outputs": [
    {
     "data": {
      "text/plain": [
       "array([[168, 157,  96, 163, 122, 174, 153, 115, 119, 114, 127],\n",
       "       [157,  96, 163, 122, 174, 153, 115, 119, 114, 127, 135],\n",
       "       [ 96, 163, 122, 174, 153, 115, 119, 114, 127, 135, 116],\n",
       "       [163, 122, 174, 153, 115, 119, 114, 127, 135, 116, 132],\n",
       "       [122, 174, 153, 115, 119, 114, 127, 135, 116, 132, 129],\n",
       "       [174, 153, 115, 119, 114, 127, 135, 116, 132, 129, 113],\n",
       "       [153, 115, 119, 114, 127, 135, 116, 132, 129, 113, 114],\n",
       "       [115, 119, 114, 127, 135, 116, 132, 129, 113, 114,  98],\n",
       "       [119, 114, 127, 135, 116, 132, 129, 113, 114,  98, 140],\n",
       "       [114, 127, 135, 116, 132, 129, 113, 114,  98, 140, 120],\n",
       "       [127, 135, 116, 132, 129, 113, 114,  98, 140, 120, 173],\n",
       "       [135, 116, 132, 129, 113, 114,  98, 140, 120, 173, 135],\n",
       "       [116, 132, 129, 113, 114,  98, 140, 120, 173, 135, 143],\n",
       "       [132, 129, 113, 114,  98, 140, 120, 173, 135, 143, 139],\n",
       "       [129, 113, 114,  98, 140, 120, 173, 135, 143, 139, 155],\n",
       "       [113, 114,  98, 140, 120, 173, 135, 143, 139, 155,  98],\n",
       "       [114,  98, 140, 120, 173, 135, 143, 139, 155,  98,  87],\n",
       "       [ 98, 140, 120, 173, 135, 143, 139, 155,  98,  87, 110],\n",
       "       [140, 120, 173, 135, 143, 139, 155,  98,  87, 110,  70],\n",
       "       [120, 173, 135, 143, 139, 155,  98,  87, 110,  70,  43],\n",
       "       [173, 135, 143, 139, 155,  98,  87, 110,  70,  43,  37],\n",
       "       [135, 143, 139, 155,  98,  87, 110,  70,  43,  37,  30],\n",
       "       [143, 139, 155,  98,  87, 110,  70,  43,  37,  30,  21],\n",
       "       [139, 155,  98,  87, 110,  70,  43,  37,  30,  21,  22],\n",
       "       [155,  98,  87, 110,  70,  43,  37,  30,  21,  22,  15],\n",
       "       [ 98,  87, 110,  70,  43,  37,  30,  21,  22,  15,  11],\n",
       "       [ 87, 110,  70,  43,  37,  30,  21,  22,  15,  11,   7],\n",
       "       [110,  70,  43,  37,  30,  21,  22,  15,  11,   7,  12],\n",
       "       [ 70,  43,  37,  30,  21,  22,  15,  11,   7,  12,   5],\n",
       "       [ 43,  37,  30,  21,  22,  15,  11,   7,  12,   5,  17],\n",
       "       [ 37,  30,  21,  22,  15,  11,   7,  12,   5,  17,  11],\n",
       "       [ 30,  21,  22,  15,  11,   7,  12,   5,  17,  11,  27],\n",
       "       [ 21,  22,  15,  11,   7,  12,   5,  17,  11,  27,  23],\n",
       "       [ 22,  15,  11,   7,  12,   5,  17,  11,  27,  23,  30],\n",
       "       [ 15,  11,   7,  12,   5,  17,  11,  27,  23,  30,  48],\n",
       "       [ 11,   7,  12,   5,  17,  11,  27,  23,  30,  48,  37],\n",
       "       [  7,  12,   5,  17,  11,  27,  23,  30,  48,  37,  32],\n",
       "       [ 12,   5,  17,  11,  27,  23,  30,  48,  37,  32,  49],\n",
       "       [  5,  17,  11,  27,  23,  30,  48,  37,  32,  49,  67],\n",
       "       [ 17,  11,  27,  23,  30,  48,  37,  32,  49,  67, 106],\n",
       "       [ 11,  27,  23,  30,  48,  37,  32,  49,  67, 106,  83],\n",
       "       [ 27,  23,  30,  48,  37,  32,  49,  67, 106,  83, 114],\n",
       "       [ 23,  30,  48,  37,  32,  49,  67, 106,  83, 114, 129],\n",
       "       [ 30,  48,  37,  32,  49,  67, 106,  83, 114, 129, 189],\n",
       "       [ 48,  37,  32,  49,  67, 106,  83, 114, 129, 189,  79],\n",
       "       [ 37,  32,  49,  67, 106,  83, 114, 129, 189,  79, 163],\n",
       "       [ 32,  49,  67, 106,  83, 114, 129, 189,  79, 163, 110],\n",
       "       [ 49,  67, 106,  83, 114, 129, 189,  79, 163, 110, 158],\n",
       "       [ 67, 106,  83, 114, 129, 189,  79, 163, 110, 158, 182],\n",
       "       [106,  83, 114, 129, 189,  79, 163, 110, 158, 182, 136],\n",
       "       [ 83, 114, 129, 189,  79, 163, 110, 158, 182, 136, 207],\n",
       "       [114, 129, 189,  79, 163, 110, 158, 182, 136, 207, 251],\n",
       "       [129, 189,  79, 163, 110, 158, 182, 136, 207, 251, 141],\n",
       "       [189,  79, 163, 110, 158, 182, 136, 207, 251, 141, 193],\n",
       "       [ 79, 163, 110, 158, 182, 136, 207, 251, 141, 193, 169],\n",
       "       [163, 110, 158, 182, 136, 207, 251, 141, 193, 169, 141],\n",
       "       [110, 158, 182, 136, 207, 251, 141, 193, 169, 141, 193],\n",
       "       [158, 182, 136, 207, 251, 141, 193, 169, 141, 193, 359],\n",
       "       [182, 136, 207, 251, 141, 193, 169, 141, 193, 359, 268],\n",
       "       [136, 207, 251, 141, 193, 169, 141, 193, 359, 268, 168],\n",
       "       [207, 251, 141, 193, 169, 141, 193, 359, 268, 168, 338],\n",
       "       [251, 141, 193, 169, 141, 193, 359, 268, 168, 338, 186],\n",
       "       [141, 193, 169, 141, 193, 359, 268, 168, 338, 186, 266],\n",
       "       [193, 169, 141, 193, 359, 268, 168, 338, 186, 266, 240],\n",
       "       [169, 141, 193, 359, 268, 168, 338, 186, 266, 240, 162],\n",
       "       [141, 193, 359, 268, 168, 338, 186, 266, 240, 162, 264],\n",
       "       [193, 359, 268, 168, 338, 186, 266, 240, 162, 264, 133],\n",
       "       [359, 268, 168, 338, 186, 266, 240, 162, 264, 133, 201],\n",
       "       [268, 168, 338, 186, 266, 240, 162, 264, 133, 201, 236],\n",
       "       [168, 338, 186, 266, 240, 162, 264, 133, 201, 236, 111],\n",
       "       [338, 186, 266, 240, 162, 264, 133, 201, 236, 111,  76],\n",
       "       [186, 266, 240, 162, 264, 133, 201, 236, 111,  76,  52],\n",
       "       [266, 240, 162, 264, 133, 201, 236, 111,  76,  52,  30],\n",
       "       [240, 162, 264, 133, 201, 236, 111,  76,  52,  30,  30],\n",
       "       [162, 264, 133, 201, 236, 111,  76,  52,  30,  30,  74],\n",
       "       [264, 133, 201, 236, 111,  76,  52,  30,  30,  74,  45],\n",
       "       [133, 201, 236, 111,  76,  52,  30,  30,  74,  45,  41],\n",
       "       [201, 236, 111,  76,  52,  30,  30,  74,  45,  41,  20],\n",
       "       [236, 111,  76,  52,  30,  30,  74,  45,  41,  20,  15],\n",
       "       [111,  76,  52,  30,  30,  74,  45,  41,  20,  15,  11],\n",
       "       [ 76,  52,  30,  30,  74,  45,  41,  20,  15,  11,  10],\n",
       "       [ 52,  30,  30,  74,  45,  41,  20,  15,  11,  10,   9],\n",
       "       [ 30,  30,  74,  45,  41,  20,  15,  11,  10,   9,  35],\n",
       "       [ 30,  74,  45,  41,  20,  15,  11,  10,   9,  35,  20],\n",
       "       [ 74,  45,  41,  20,  15,  11,  10,   9,  35,  20,  19],\n",
       "       [ 45,  41,  20,  15,  11,  10,   9,  35,  20,  19,  51],\n",
       "       [ 41,  20,  15,  11,  10,   9,  35,  20,  19,  51,  53],\n",
       "       [ 20,  15,  11,  10,   9,  35,  20,  19,  51,  53,  77]],\n",
       "      dtype=int64)"
      ]
     },
     "execution_count": 13,
     "metadata": {},
     "output_type": "execute_result"
    }
   ],
   "source": [
    "windows"
   ]
  },
  {
   "cell_type": "code",
   "execution_count": 11,
   "metadata": {},
   "outputs": [
    {
     "data": {
      "text/plain": [
       "array([[135, 116],\n",
       "       [116, 132],\n",
       "       [132, 129],\n",
       "       [129, 113],\n",
       "       [113, 114],\n",
       "       [114,  98],\n",
       "       [ 98, 140],\n",
       "       [140, 120],\n",
       "       [120, 173],\n",
       "       [173, 135],\n",
       "       [135, 143],\n",
       "       [143, 139],\n",
       "       [139, 155],\n",
       "       [155,  98],\n",
       "       [ 98,  87],\n",
       "       [ 87, 110],\n",
       "       [110,  70],\n",
       "       [ 70,  43],\n",
       "       [ 43,  37],\n",
       "       [ 37,  30],\n",
       "       [ 30,  21],\n",
       "       [ 21,  22],\n",
       "       [ 22,  15],\n",
       "       [ 15,  11],\n",
       "       [ 11,   7],\n",
       "       [  7,  12],\n",
       "       [ 12,   5],\n",
       "       [  5,  17],\n",
       "       [ 17,  11],\n",
       "       [ 11,  27],\n",
       "       [ 27,  23],\n",
       "       [ 23,  30],\n",
       "       [ 30,  48],\n",
       "       [ 48,  37],\n",
       "       [ 37,  32],\n",
       "       [ 32,  49],\n",
       "       [ 49,  67],\n",
       "       [ 67, 106],\n",
       "       [106,  83],\n",
       "       [ 83, 114],\n",
       "       [114, 129],\n",
       "       [129, 189],\n",
       "       [189,  79],\n",
       "       [ 79, 163],\n",
       "       [163, 110],\n",
       "       [110, 158],\n",
       "       [158, 182],\n",
       "       [182, 136],\n",
       "       [136, 207],\n",
       "       [207, 251],\n",
       "       [251, 141],\n",
       "       [141, 193],\n",
       "       [193, 169],\n",
       "       [169, 141],\n",
       "       [141, 193],\n",
       "       [193, 359],\n",
       "       [359, 268],\n",
       "       [268, 168],\n",
       "       [168, 338],\n",
       "       [338, 186],\n",
       "       [186, 266],\n",
       "       [266, 240],\n",
       "       [240, 162],\n",
       "       [162, 264],\n",
       "       [264, 133],\n",
       "       [133, 201],\n",
       "       [201, 236],\n",
       "       [236, 111],\n",
       "       [111,  76],\n",
       "       [ 76,  52],\n",
       "       [ 52,  30],\n",
       "       [ 30,  30],\n",
       "       [ 30,  74],\n",
       "       [ 74,  45],\n",
       "       [ 45,  41],\n",
       "       [ 41,  20],\n",
       "       [ 20,  15],\n",
       "       [ 15,  11],\n",
       "       [ 11,  10],\n",
       "       [ 10,   9],\n",
       "       [  9,  35],\n",
       "       [ 35,  20],\n",
       "       [ 20,  19],\n",
       "       [ 19,  51],\n",
       "       [ 51,  53],\n",
       "       [ 53,  77],\n",
       "       [ 77,  62],\n",
       "       [ 62,  93]], dtype=int64)"
      ]
     },
     "execution_count": 11,
     "metadata": {},
     "output_type": "execute_result"
    }
   ],
   "source": [
    "np.array(step_ahead)"
   ]
  },
  {
   "cell_type": "code",
   "execution_count": null,
   "metadata": {},
   "outputs": [],
   "source": [
    "model = tf.keras.models.Sequential()\n",
    "model.add(tf.keras.layes.LSTM(2, input_shape=(6,1)))\n",
    "model.add(tf.keras.layes.Dense(8))\n",
    "model.add(tf.keras.layes.Dense(8))\n",
    "model.add(tf.keras.layes.Dense(1))\n",
    "model.compile(loss='mae', optimizer='sgd')\n",
    "\n",
    "history = model.fit(x, y, epochs = 150, batch_size=64, verbose=1, shuffle=False)\n",
    "plt.plot(history.history['loss'])"
   ]
  }
 ],
 "metadata": {
  "kernelspec": {
   "display_name": "Python 3",
   "language": "python",
   "name": "python3"
  },
  "language_info": {
   "codemirror_mode": {
    "name": "ipython",
    "version": 3
   },
   "file_extension": ".py",
   "mimetype": "text/x-python",
   "name": "python",
   "nbconvert_exporter": "python",
   "pygments_lexer": "ipython3",
   "version": "3.8.5"
  }
 },
 "nbformat": 4,
 "nbformat_minor": 4
}
