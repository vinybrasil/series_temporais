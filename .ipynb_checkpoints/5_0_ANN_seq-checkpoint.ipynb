{
 "cells": [
  {
   "cell_type": "code",
   "execution_count": 1,
   "metadata": {},
   "outputs": [
    {
     "name": "stdout",
     "output_type": "stream",
     "text": [
      "2.3.0\n"
     ]
    }
   ],
   "source": [
    "import tensorflow as tf\n",
    "print(tf.__version__)\n",
    "import numpy as np\n",
    "import matplotlib.pyplot as plt"
   ]
  },
  {
   "cell_type": "code",
   "execution_count": 40,
   "metadata": {},
   "outputs": [],
   "source": [
    "model = tf.keras.Sequential()\n",
    "model.add(tf.keras.layers.Dense(2))\n",
    "model.add(tf.keras.layers.Dense(8))\n",
    "model.add(tf.keras.layers.Dense(1))\n",
    "model.compile(optimizer='sgd', loss='mse')"
   ]
  },
  {
   "cell_type": "code",
   "execution_count": 43,
   "metadata": {},
   "outputs": [],
   "source": [
    "x = np.array([[1,1], \n",
    "              [2,2],  \n",
    "              [3,3],  \n",
    "              [4,4], \n",
    "              [6,6]])\n",
    "\n",
    "\n",
    "y = np.array([2,4, 6, 8, 12])"
   ]
  },
  {
   "cell_type": "code",
   "execution_count": 44,
   "metadata": {},
   "outputs": [
    {
     "name": "stdout",
     "output_type": "stream",
     "text": [
      "Epoch 1/10\n",
      "1/1 [==============================] - 0s 0s/step - loss: 1.1672\n",
      "Epoch 2/10\n",
      "1/1 [==============================] - 0s 16ms/step - loss: 13.4323\n",
      "Epoch 3/10\n",
      "1/1 [==============================] - 0s 0s/step - loss: 88.1552\n",
      "Epoch 4/10\n",
      "1/1 [==============================] - 0s 0s/step - loss: 14.2206\n",
      "Epoch 5/10\n",
      "1/1 [==============================] - 0s 0s/step - loss: 3.6027\n",
      "Epoch 6/10\n",
      "1/1 [==============================] - 0s 0s/step - loss: 11.0035\n",
      "Epoch 7/10\n",
      "1/1 [==============================] - 0s 0s/step - loss: 3.9641\n",
      "Epoch 8/10\n",
      "1/1 [==============================] - 0s 16ms/step - loss: 11.6254\n",
      "Epoch 9/10\n",
      "1/1 [==============================] - 0s 0s/step - loss: 3.0251\n",
      "Epoch 10/10\n",
      "1/1 [==============================] - 0s 0s/step - loss: 8.5728\n"
     ]
    }
   ],
   "source": [
    "history = model.fit(x, y, batch_size=32, epochs=10, verbose=1)"
   ]
  },
  {
   "cell_type": "code",
   "execution_count": 45,
   "metadata": {},
   "outputs": [
    {
     "data": {
      "text/plain": [
       "[<matplotlib.lines.Line2D at 0x2608004ea30>]"
      ]
     },
     "execution_count": 45,
     "metadata": {},
     "output_type": "execute_result"
    },
    {
     "data": {
      "image/png": "[encoded data removed]",
      "text/plain": [
       "<Figure size 432x288 with 1 Axes>"
      ]
     },
     "metadata": {
      "needs_background": "light"
     },
     "output_type": "display_data"
    }
   ],
   "source": [
    "plt.plot(history.history['loss'])"
   ]
  },
  {
   "cell_type": "code",
   "execution_count": 47,
   "metadata": {},
   "outputs": [
    {
     "data": {
      "text/plain": [
       "array([[9.381385]], dtype=float32)"
      ]
     },
     "execution_count": 47,
     "metadata": {},
     "output_type": "execute_result"
    }
   ],
   "source": [
    "model.predict([[5,2]])"
   ]
  },
  {
   "cell_type": "code",
   "execution_count": 55,
   "metadata": {},
   "outputs": [],
   "source": [
    "model = tf.keras.Sequential()\n",
    "model.add(tf.keras.layers.Dense(9))\n",
    "model.add(tf.keras.layers.Dense(8))\n",
    "model.add(tf.keras.layers.Dense(1))\n",
    "model.compile(optimizer='adam', loss='mse')"
   ]
  },
  {
   "cell_type": "code",
   "execution_count": 56,
   "metadata": {},
   "outputs": [],
   "source": [
    "x = np.array([[1,2,3,4,5,6,7,8,9], \n",
    "              [2,3,4,5,6,7,8,9,10],  \n",
    "              [3,4,5,6,7,8,9,10,11],  \n",
    "              [4,5,6,7,8,9,10,11,12], \n",
    "              [6,7,8,9,10,11,12,13,14]])\n",
    "\n",
    "\n",
    "y = np.array([10,\n",
    "              11, \n",
    "              12, \n",
    "              13, 15])"
   ]
  },
  {
   "cell_type": "code",
   "execution_count": 63,
   "metadata": {},
   "outputs": [
    {
     "name": "stdout",
     "output_type": "stream",
     "text": [
      "Epoch 1/100\n",
      "1/1 [==============================] - 0s 8ms/step - loss: 1.4902\n",
      "Epoch 2/100\n",
      "1/1 [==============================] - 0s 16ms/step - loss: 1.4843\n",
      "Epoch 3/100\n",
      "1/1 [==============================] - 0s 16ms/step - loss: 1.4813\n",
      "Epoch 4/100\n",
      "1/1 [==============================] - 0s 16ms/step - loss: 1.4802\n",
      "Epoch 5/100\n",
      "1/1 [==============================] - 0s 0s/step - loss: 1.4803\n",
      "Epoch 6/100\n",
      "1/1 [==============================] - 0s 0s/step - loss: 1.4811\n",
      "Epoch 7/100\n",
      "1/1 [==============================] - 0s 16ms/step - loss: 1.4820\n",
      "Epoch 8/100\n",
      "1/1 [==============================] - 0s 0s/step - loss: 1.4825\n",
      "Epoch 9/100\n",
      "1/1 [==============================] - 0s 16ms/step - loss: 1.4824\n",
      "Epoch 10/100\n",
      "1/1 [==============================] - 0s 0s/step - loss: 1.4813\n",
      "Epoch 11/100\n",
      "1/1 [==============================] - 0s 0s/step - loss: 1.4792\n",
      "Epoch 12/100\n",
      "1/1 [==============================] - 0s 19ms/step - loss: 1.4760\n",
      "Epoch 13/100\n",
      "1/1 [==============================] - 0s 10ms/step - loss: 1.4718\n",
      "Epoch 14/100\n",
      "1/1 [==============================] - 0s 0s/step - loss: 1.4666\n",
      "Epoch 15/100\n",
      "1/1 [==============================] - 0s 0s/step - loss: 1.4606\n",
      "Epoch 16/100\n",
      "1/1 [==============================] - 0s 10ms/step - loss: 1.4539\n",
      "Epoch 17/100\n",
      "1/1 [==============================] - 0s 0s/step - loss: 1.4466\n",
      "Epoch 18/100\n",
      "1/1 [==============================] - 0s 8ms/step - loss: 1.4390\n",
      "Epoch 19/100\n",
      "1/1 [==============================] - 0s 0s/step - loss: 1.4313\n",
      "Epoch 20/100\n",
      "1/1 [==============================] - 0s 10ms/step - loss: 1.4235\n",
      "Epoch 21/100\n",
      "1/1 [==============================] - 0s 8ms/step - loss: 1.4158\n",
      "Epoch 22/100\n",
      "1/1 [==============================] - ETA: 0s - loss: 1.408 - 0s 0s/step - loss: 1.4084\n",
      "Epoch 23/100\n",
      "1/1 [==============================] - 0s 2ms/step - loss: 1.4012\n",
      "Epoch 24/100\n",
      "1/1 [==============================] - 0s 10ms/step - loss: 1.3944\n",
      "Epoch 25/100\n",
      "1/1 [==============================] - 0s 8ms/step - loss: 1.3880\n",
      "Epoch 26/100\n",
      "1/1 [==============================] - 0s 2ms/step - loss: 1.3820\n",
      "Epoch 27/100\n",
      "1/1 [==============================] - 0s 0s/step - loss: 1.3764\n",
      "Epoch 28/100\n",
      "1/1 [==============================] - 0s 8ms/step - loss: 1.3711\n",
      "Epoch 29/100\n",
      "1/1 [==============================] - 0s 0s/step - loss: 1.3662\n",
      "Epoch 30/100\n",
      "1/1 [==============================] - 0s 8ms/step - loss: 1.3614\n",
      "Epoch 31/100\n",
      "1/1 [==============================] - 0s 0s/step - loss: 1.3569\n",
      "Epoch 32/100\n",
      "1/1 [==============================] - 0s 10ms/step - loss: 1.3525\n",
      "Epoch 33/100\n",
      "1/1 [==============================] - 0s 8ms/step - loss: 1.3482\n",
      "Epoch 34/100\n",
      "1/1 [==============================] - 0s 79us/step - loss: 1.3440\n",
      "Epoch 35/100\n",
      "1/1 [==============================] - 0s 8ms/step - loss: 1.3397\n",
      "Epoch 36/100\n",
      "1/1 [==============================] - 0s 0s/step - loss: 1.3354\n",
      "Epoch 37/100\n",
      "1/1 [==============================] - 0s 8ms/step - loss: 1.3311\n",
      "Epoch 38/100\n",
      "1/1 [==============================] - 0s 0s/step - loss: 1.3267\n",
      "Epoch 39/100\n",
      "1/1 [==============================] - 0s 2ms/step - loss: 1.3221\n",
      "Epoch 40/100\n",
      "1/1 [==============================] - 0s 10ms/step - loss: 1.3175\n",
      "Epoch 41/100\n",
      "1/1 [==============================] - 0s 10ms/step - loss: 1.3129\n",
      "Epoch 42/100\n",
      "1/1 [==============================] - 0s 0s/step - loss: 1.3081\n",
      "Epoch 43/100\n",
      "1/1 [==============================] - 0s 10ms/step - loss: 1.3033\n",
      "Epoch 44/100\n",
      "1/1 [==============================] - 0s 2ms/step - loss: 1.2984\n",
      "Epoch 45/100\n",
      "1/1 [==============================] - 0s 8ms/step - loss: 1.2935\n",
      "Epoch 46/100\n",
      "1/1 [==============================] - 0s 12ms/step - loss: 1.2886\n",
      "Epoch 47/100\n",
      "1/1 [==============================] - 0s 2ms/step - loss: 1.2837\n",
      "Epoch 48/100\n",
      "1/1 [==============================] - 0s 8ms/step - loss: 1.2788\n",
      "Epoch 49/100\n",
      "1/1 [==============================] - 0s 8ms/step - loss: 1.2738\n",
      "Epoch 50/100\n",
      "1/1 [==============================] - 0s 8ms/step - loss: 1.2690\n",
      "Epoch 51/100\n",
      "1/1 [==============================] - 0s 10ms/step - loss: 1.2641\n",
      "Epoch 52/100\n",
      "1/1 [==============================] - 0s 2ms/step - loss: 1.2592\n",
      "Epoch 53/100\n",
      "1/1 [==============================] - 0s 0s/step - loss: 1.2544\n",
      "Epoch 54/100\n",
      "1/1 [==============================] - 0s 10ms/step - loss: 1.2496\n",
      "Epoch 55/100\n",
      "1/1 [==============================] - 0s 10ms/step - loss: 1.2448\n",
      "Epoch 56/100\n",
      "1/1 [==============================] - 0s 10ms/step - loss: 1.2401\n",
      "Epoch 57/100\n",
      "1/1 [==============================] - 0s 10ms/step - loss: 1.2353\n",
      "Epoch 58/100\n",
      "1/1 [==============================] - 0s 2ms/step - loss: 1.2306\n",
      "Epoch 59/100\n",
      "1/1 [==============================] - 0s 2ms/step - loss: 1.2258\n",
      "Epoch 60/100\n",
      "1/1 [==============================] - 0s 0s/step - loss: 1.2211\n",
      "Epoch 61/100\n",
      "1/1 [==============================] - 0s 18ms/step - loss: 1.2163\n",
      "Epoch 62/100\n",
      "1/1 [==============================] - 0s 10ms/step - loss: 1.2115\n",
      "Epoch 63/100\n",
      "1/1 [==============================] - 0s 0s/step - loss: 1.2068\n",
      "Epoch 64/100\n",
      "1/1 [==============================] - 0s 10ms/step - loss: 1.2020\n",
      "Epoch 65/100\n",
      "1/1 [==============================] - 0s 10ms/step - loss: 1.1972\n",
      "Epoch 66/100\n",
      "1/1 [==============================] - 0s 0s/step - loss: 1.1924\n",
      "Epoch 67/100\n",
      "1/1 [==============================] - 0s 8ms/step - loss: 1.1876\n",
      "Epoch 68/100\n",
      "1/1 [==============================] - 0s 8ms/step - loss: 1.1827\n",
      "Epoch 69/100\n",
      "1/1 [==============================] - 0s 10ms/step - loss: 1.1779\n",
      "Epoch 70/100\n",
      "1/1 [==============================] - 0s 10ms/step - loss: 1.1731\n",
      "Epoch 71/100\n",
      "1/1 [==============================] - 0s 10ms/step - loss: 1.1683\n",
      "Epoch 72/100\n",
      "1/1 [==============================] - 0s 2ms/step - loss: 1.1634\n",
      "Epoch 73/100\n",
      "1/1 [==============================] - 0s 10ms/step - loss: 1.1586\n",
      "Epoch 74/100\n",
      "1/1 [==============================] - 0s 10ms/step - loss: 1.1537\n",
      "Epoch 75/100\n",
      "1/1 [==============================] - 0s 10ms/step - loss: 1.1489\n",
      "Epoch 76/100\n",
      "1/1 [==============================] - 0s 10ms/step - loss: 1.1441\n",
      "Epoch 77/100\n",
      "1/1 [==============================] - 0s 10ms/step - loss: 1.1392\n",
      "Epoch 78/100\n",
      "1/1 [==============================] - 0s 2ms/step - loss: 1.1344\n",
      "Epoch 79/100\n",
      "1/1 [==============================] - 0s 10ms/step - loss: 1.1296\n",
      "Epoch 80/100\n",
      "1/1 [==============================] - 0s 10ms/step - loss: 1.1247\n",
      "Epoch 81/100\n",
      "1/1 [==============================] - 0s 10ms/step - loss: 1.1199\n",
      "Epoch 82/100\n",
      "1/1 [==============================] - 0s 0s/step - loss: 1.1151\n",
      "Epoch 83/100\n",
      "1/1 [==============================] - 0s 0s/step - loss: 1.1102\n",
      "Epoch 84/100\n",
      "1/1 [==============================] - 0s 2ms/step - loss: 1.1054\n",
      "Epoch 85/100\n",
      "1/1 [==============================] - 0s 8ms/step - loss: 1.1006\n",
      "Epoch 86/100\n",
      "1/1 [==============================] - 0s 8ms/step - loss: 1.0957\n",
      "Epoch 87/100\n",
      "1/1 [==============================] - 0s 10ms/step - loss: 1.0909\n",
      "Epoch 88/100\n",
      "1/1 [==============================] - 0s 0s/step - loss: 1.0861\n",
      "Epoch 89/100\n",
      "1/1 [==============================] - 0s 0s/step - loss: 1.0812\n",
      "Epoch 90/100\n",
      "1/1 [==============================] - 0s 8ms/step - loss: 1.0764\n",
      "Epoch 91/100\n",
      "1/1 [==============================] - 0s 10ms/step - loss: 1.0716\n",
      "Epoch 92/100\n",
      "1/1 [==============================] - 0s 0s/step - loss: 1.0667\n",
      "Epoch 93/100\n",
      "1/1 [==============================] - 0s 10ms/step - loss: 1.0619\n",
      "Epoch 94/100\n",
      "1/1 [==============================] - 0s 10ms/step - loss: 1.0571\n",
      "Epoch 95/100\n",
      "1/1 [==============================] - 0s 8ms/step - loss: 1.0522\n",
      "Epoch 96/100\n",
      "1/1 [==============================] - 0s 10ms/step - loss: 1.0474\n",
      "Epoch 97/100\n",
      "1/1 [==============================] - 0s 0s/step - loss: 1.0426\n",
      "Epoch 98/100\n",
      "1/1 [==============================] - 0s 0s/step - loss: 1.0377\n",
      "Epoch 99/100\n",
      "1/1 [==============================] - 0s 8ms/step - loss: 1.0329\n",
      "Epoch 100/100\n",
      "1/1 [==============================] - 0s 10ms/step - loss: 1.0281\n"
     ]
    }
   ],
   "source": [
    "history = model.fit(x, y, batch_size=32, epochs=100, verbose=1)"
   ]
  },
  {
   "cell_type": "code",
   "execution_count": 64,
   "metadata": {},
   "outputs": [
    {
     "data": {
      "text/plain": [
       "[<matplotlib.lines.Line2D at 0x260801840d0>]"
      ]
     },
     "execution_count": 64,
     "metadata": {},
     "output_type": "execute_result"
    },
    {
     "data": {
      "image/png": "[encoded data removed]",
      "text/plain": [
       "<Figure size 432x288 with 1 Axes>"
      ]
     },
     "metadata": {
      "needs_background": "light"
     },
     "output_type": "display_data"
    }
   ],
   "source": [
    "plt.plot(history.history['loss'])"
   ]
  },
  {
   "cell_type": "code",
   "execution_count": 66,
   "metadata": {},
   "outputs": [
    {
     "data": {
      "text/plain": [
       "array([[14.827381]], dtype=float32)"
      ]
     },
     "execution_count": 66,
     "metadata": {},
     "output_type": "execute_result"
    }
   ],
   "source": [
    "model.predict([[5,6,7,8,9,10,11,12,13]])"
   ]
  },
  {
   "cell_type": "code",
   "execution_count": 67,
   "metadata": {},
   "outputs": [
    {
     "data": {
      "text/plain": [
       "[<matplotlib.lines.Line2D at 0x260ff6d9c10>]"
      ]
     },
     "execution_count": 67,
     "metadata": {},
     "output_type": "execute_result"
    },
    {
     "data": {
      "image/png": "[encoded data removed]",
      "text/plain": [
       "<Figure size 432x288 with 1 Axes>"
      ]
     },
     "metadata": {
      "needs_background": "light"
     },
     "output_type": "display_data"
    }
   ],
   "source": [
    "plt.plot([5,6,7,8,9,10,11,12,13])"
   ]
  },
  {
   "cell_type": "code",
   "execution_count": 111,
   "metadata": {},
   "outputs": [
    {
     "data": {
      "text/plain": [
       "[<matplotlib.lines.Line2D at 0x26085e03a90>]"
      ]
     },
     "execution_count": 111,
     "metadata": {},
     "output_type": "execute_result"
    },
    {
     "data": {
      "image/png": "[encoded data removed]",
      "text/plain": [
       "<Figure size 432x288 with 1 Axes>"
      ]
     },
     "metadata": {
      "needs_background": "light"
     },
     "output_type": "display_data"
    }
   ],
   "source": [
    "x = np.array([[1,2,3,4,5,6,7,8,9], \n",
    "              [2,3,4,5,6,7,8,9,10],  \n",
    "              [3,4,5,6,7,8,9,10,11],  \n",
    "              [4,5,6,7,8,9,10,11,12], \n",
    "              [6,7,8,9,10,11,12,13,14],\n",
    "              [7,8,9,10,11,12,13,14,15],\n",
    "             [8,9,10,11,12,13,14, 15, 16],\n",
    "             [9,10,11,12,13,14,15,16,17],\n",
    "             [10,11,12,13,14,15,16,17,18],\n",
    "             [11,12,13,14,15,16,17,18,19],\n",
    "             [12,13,14,15,16,17,18,19,20]])\n",
    "\n",
    "\n",
    "y = np.array([[10, 11, 12],\n",
    "              [11, 12, 13],\n",
    "              [12, 13, 14],\n",
    "              [13, 14, 15],\n",
    "               [15, 16, 17],\n",
    "             [16,17,18],\n",
    "              [17,18,19],\n",
    "              [18,19,20],\n",
    "             [19,20,21],\n",
    "              [20,21,22],\n",
    "             [21,22,23],\n",
    "             ])\n",
    "\n",
    "model = tf.keras.Sequential()\n",
    "model.add(tf.keras.layers.Dense(9))\n",
    "model.add(tf.keras.layers.Dense(16))\n",
    "#model.add(tf.keras.layers.Dense(8))\n",
    "model.add(tf.keras.layers.Dense(3))\n",
    "model.compile(optimizer='adam', loss='mse')\n",
    "history = model.fit(x, y, batch_size=32, epochs=200, verbose=0)\n",
    "plt.plot(history.history['loss'])"
   ]
  },
  {
   "cell_type": "code",
   "execution_count": 112,
   "metadata": {},
   "outputs": [
    {
     "name": "stdout",
     "output_type": "stream",
     "text": [
      "WARNING:tensorflow:11 out of the last 11 calls to <function Model.make_predict_function.<locals>.predict_function at 0x0000026084170550> triggered tf.function retracing. Tracing is expensive and the excessive number of tracings could be due to (1) creating @tf.function repeatedly in a loop, (2) passing tensors with different shapes, (3) passing Python objects instead of tensors. For (1), please define your @tf.function outside of the loop. For (2), @tf.function has experimental_relax_shapes=True option that relaxes argument shapes that can avoid unnecessary retracing. For (3), please refer to https://www.tensorflow.org/tutorials/customization/performance#python_or_tensor_args and https://www.tensorflow.org/api_docs/python/tf/function for  more details.\n"
     ]
    },
    {
     "data": {
      "text/plain": [
       "array([[13.643431, 14.310758, 15.263536]], dtype=float32)"
      ]
     },
     "execution_count": 112,
     "metadata": {},
     "output_type": "execute_result"
    }
   ],
   "source": [
    "prediction = model.predict(np.array([[5,6,7,8,9,10,11,12,13]]))\n",
    "prediction "
   ]
  },
  {
   "cell_type": "code",
   "execution_count": 116,
   "metadata": {},
   "outputs": [
    {
     "data": {
      "text/plain": [
       "[<matplotlib.lines.Line2D at 0x2608142b850>]"
      ]
     },
     "execution_count": 116,
     "metadata": {},
     "output_type": "execute_result"
    },
    {
     "data": {
      "image/png": "[encoded data removed]",
      "text/plain": [
       "<Figure size 432x288 with 1 Axes>"
      ]
     },
     "metadata": {
      "needs_background": "light"
     },
     "output_type": "display_data"
    }
   ],
   "source": [
    "plt.plot([5,6,7,8,9,10,11,12,13])\n",
    "plt.plot([8, 9, 10], prediction.T , 'b--')"
   ]
  },
  {
   "cell_type": "code",
   "execution_count": 143,
   "metadata": {},
   "outputs": [
    {
     "name": "stdout",
     "output_type": "stream",
     "text": [
      "WARNING:tensorflow:11 out of the last 11 calls to <function Model.make_predict_function.<locals>.predict_function at 0x000002608766B430> triggered tf.function retracing. Tracing is expensive and the excessive number of tracings could be due to (1) creating @tf.function repeatedly in a loop, (2) passing tensors with different shapes, (3) passing Python objects instead of tensors. For (1), please define your @tf.function outside of the loop. For (2), @tf.function has experimental_relax_shapes=True option that relaxes argument shapes that can avoid unnecessary retracing. For (3), please refer to https://www.tensorflow.org/tutorials/customization/performance#python_or_tensor_args and https://www.tensorflow.org/api_docs/python/tf/function for  more details.\n",
      "WARNING:tensorflow:11 out of the last 11 calls to <function Model.make_predict_function.<locals>.predict_function at 0x0000026085F4CA60> triggered tf.function retracing. Tracing is expensive and the excessive number of tracings could be due to (1) creating @tf.function repeatedly in a loop, (2) passing tensors with different shapes, (3) passing Python objects instead of tensors. For (1), please define your @tf.function outside of the loop. For (2), @tf.function has experimental_relax_shapes=True option that relaxes argument shapes that can avoid unnecessary retracing. For (3), please refer to https://www.tensorflow.org/tutorials/customization/performance#python_or_tensor_args and https://www.tensorflow.org/api_docs/python/tf/function for  more details.\n",
      "WARNING:tensorflow:11 out of the last 11 calls to <function Model.make_predict_function.<locals>.predict_function at 0x00000260FF78B3A0> triggered tf.function retracing. Tracing is expensive and the excessive number of tracings could be due to (1) creating @tf.function repeatedly in a loop, (2) passing tensors with different shapes, (3) passing Python objects instead of tensors. For (1), please define your @tf.function outside of the loop. For (2), @tf.function has experimental_relax_shapes=True option that relaxes argument shapes that can avoid unnecessary retracing. For (3), please refer to https://www.tensorflow.org/tutorials/customization/performance#python_or_tensor_args and https://www.tensorflow.org/api_docs/python/tf/function for  more details.\n",
      "WARNING:tensorflow:11 out of the last 11 calls to <function Model.make_predict_function.<locals>.predict_function at 0x000002608611E700> triggered tf.function retracing. Tracing is expensive and the excessive number of tracings could be due to (1) creating @tf.function repeatedly in a loop, (2) passing tensors with different shapes, (3) passing Python objects instead of tensors. For (1), please define your @tf.function outside of the loop. For (2), @tf.function has experimental_relax_shapes=True option that relaxes argument shapes that can avoid unnecessary retracing. For (3), please refer to https://www.tensorflow.org/tutorials/customization/performance#python_or_tensor_args and https://www.tensorflow.org/api_docs/python/tf/function for  more details.\n",
      "WARNING:tensorflow:11 out of the last 11 calls to <function Model.make_predict_function.<locals>.predict_function at 0x0000026082BCAD30> triggered tf.function retracing. Tracing is expensive and the excessive number of tracings could be due to (1) creating @tf.function repeatedly in a loop, (2) passing tensors with different shapes, (3) passing Python objects instead of tensors. For (1), please define your @tf.function outside of the loop. For (2), @tf.function has experimental_relax_shapes=True option that relaxes argument shapes that can avoid unnecessary retracing. For (3), please refer to https://www.tensorflow.org/tutorials/customization/performance#python_or_tensor_args and https://www.tensorflow.org/api_docs/python/tf/function for  more details.\n",
      "WARNING:tensorflow:11 out of the last 11 calls to <function Model.make_predict_function.<locals>.predict_function at 0x000002608195F790> triggered tf.function retracing. Tracing is expensive and the excessive number of tracings could be due to (1) creating @tf.function repeatedly in a loop, (2) passing tensors with different shapes, (3) passing Python objects instead of tensors. For (1), please define your @tf.function outside of the loop. For (2), @tf.function has experimental_relax_shapes=True option that relaxes argument shapes that can avoid unnecessary retracing. For (3), please refer to https://www.tensorflow.org/tutorials/customization/performance#python_or_tensor_args and https://www.tensorflow.org/api_docs/python/tf/function for  more details.\n",
      "WARNING:tensorflow:11 out of the last 11 calls to <function Model.make_predict_function.<locals>.predict_function at 0x000002608024DF70> triggered tf.function retracing. Tracing is expensive and the excessive number of tracings could be due to (1) creating @tf.function repeatedly in a loop, (2) passing tensors with different shapes, (3) passing Python objects instead of tensors. For (1), please define your @tf.function outside of the loop. For (2), @tf.function has experimental_relax_shapes=True option that relaxes argument shapes that can avoid unnecessary retracing. For (3), please refer to https://www.tensorflow.org/tutorials/customization/performance#python_or_tensor_args and https://www.tensorflow.org/api_docs/python/tf/function for  more details.\n",
      "WARNING:tensorflow:11 out of the last 11 calls to <function Model.make_predict_function.<locals>.predict_function at 0x0000026085E72DC0> triggered tf.function retracing. Tracing is expensive and the excessive number of tracings could be due to (1) creating @tf.function repeatedly in a loop, (2) passing tensors with different shapes, (3) passing Python objects instead of tensors. For (1), please define your @tf.function outside of the loop. For (2), @tf.function has experimental_relax_shapes=True option that relaxes argument shapes that can avoid unnecessary retracing. For (3), please refer to https://www.tensorflow.org/tutorials/customization/performance#python_or_tensor_args and https://www.tensorflow.org/api_docs/python/tf/function for  more details.\n",
      "WARNING:tensorflow:11 out of the last 11 calls to <function Model.make_predict_function.<locals>.predict_function at 0x000002608024D160> triggered tf.function retracing. Tracing is expensive and the excessive number of tracings could be due to (1) creating @tf.function repeatedly in a loop, (2) passing tensors with different shapes, (3) passing Python objects instead of tensors. For (1), please define your @tf.function outside of the loop. For (2), @tf.function has experimental_relax_shapes=True option that relaxes argument shapes that can avoid unnecessary retracing. For (3), please refer to https://www.tensorflow.org/tutorials/customization/performance#python_or_tensor_args and https://www.tensorflow.org/api_docs/python/tf/function for  more details.\n",
      "WARNING:tensorflow:11 out of the last 11 calls to <function Model.make_predict_function.<locals>.predict_function at 0x0000026083050280> triggered tf.function retracing. Tracing is expensive and the excessive number of tracings could be due to (1) creating @tf.function repeatedly in a loop, (2) passing tensors with different shapes, (3) passing Python objects instead of tensors. For (1), please define your @tf.function outside of the loop. For (2), @tf.function has experimental_relax_shapes=True option that relaxes argument shapes that can avoid unnecessary retracing. For (3), please refer to https://www.tensorflow.org/tutorials/customization/performance#python_or_tensor_args and https://www.tensorflow.org/api_docs/python/tf/function for  more details.\n",
      "WARNING:tensorflow:11 out of the last 11 calls to <function Model.make_predict_function.<locals>.predict_function at 0x00000260860D7310> triggered tf.function retracing. Tracing is expensive and the excessive number of tracings could be due to (1) creating @tf.function repeatedly in a loop, (2) passing tensors with different shapes, (3) passing Python objects instead of tensors. For (1), please define your @tf.function outside of the loop. For (2), @tf.function has experimental_relax_shapes=True option that relaxes argument shapes that can avoid unnecessary retracing. For (3), please refer to https://www.tensorflow.org/tutorials/customization/performance#python_or_tensor_args and https://www.tensorflow.org/api_docs/python/tf/function for  more details.\n",
      "WARNING:tensorflow:11 out of the last 11 calls to <function Model.make_predict_function.<locals>.predict_function at 0x000002608195F8B0> triggered tf.function retracing. Tracing is expensive and the excessive number of tracings could be due to (1) creating @tf.function repeatedly in a loop, (2) passing tensors with different shapes, (3) passing Python objects instead of tensors. For (1), please define your @tf.function outside of the loop. For (2), @tf.function has experimental_relax_shapes=True option that relaxes argument shapes that can avoid unnecessary retracing. For (3), please refer to https://www.tensorflow.org/tutorials/customization/performance#python_or_tensor_args and https://www.tensorflow.org/api_docs/python/tf/function for  more details.\n",
      "WARNING:tensorflow:11 out of the last 11 calls to <function Model.make_predict_function.<locals>.predict_function at 0x000002608611EE50> triggered tf.function retracing. Tracing is expensive and the excessive number of tracings could be due to (1) creating @tf.function repeatedly in a loop, (2) passing tensors with different shapes, (3) passing Python objects instead of tensors. For (1), please define your @tf.function outside of the loop. For (2), @tf.function has experimental_relax_shapes=True option that relaxes argument shapes that can avoid unnecessary retracing. For (3), please refer to https://www.tensorflow.org/tutorials/customization/performance#python_or_tensor_args and https://www.tensorflow.org/api_docs/python/tf/function for  more details.\n",
      "WARNING:tensorflow:11 out of the last 11 calls to <function Model.make_predict_function.<locals>.predict_function at 0x00000260875F1700> triggered tf.function retracing. Tracing is expensive and the excessive number of tracings could be due to (1) creating @tf.function repeatedly in a loop, (2) passing tensors with different shapes, (3) passing Python objects instead of tensors. For (1), please define your @tf.function outside of the loop. For (2), @tf.function has experimental_relax_shapes=True option that relaxes argument shapes that can avoid unnecessary retracing. For (3), please refer to https://www.tensorflow.org/tutorials/customization/performance#python_or_tensor_args and https://www.tensorflow.org/api_docs/python/tf/function for  more details.\n",
      "WARNING:tensorflow:11 out of the last 11 calls to <function Model.make_predict_function.<locals>.predict_function at 0x00000260FF7F6940> triggered tf.function retracing. Tracing is expensive and the excessive number of tracings could be due to (1) creating @tf.function repeatedly in a loop, (2) passing tensors with different shapes, (3) passing Python objects instead of tensors. For (1), please define your @tf.function outside of the loop. For (2), @tf.function has experimental_relax_shapes=True option that relaxes argument shapes that can avoid unnecessary retracing. For (3), please refer to https://www.tensorflow.org/tutorials/customization/performance#python_or_tensor_args and https://www.tensorflow.org/api_docs/python/tf/function for  more details.\n"
     ]
    }
   ],
   "source": [
    "predictions = []\n",
    "for i in range(15):\n",
    "    model = tf.keras.Sequential()\n",
    "    model.add(tf.keras.layers.Dense(9))\n",
    "    model.add(tf.keras.layers.Dense(16))\n",
    "    model.add(tf.keras.layers.Dense(8))\n",
    "    model.add(tf.keras.layers.Dense(3))\n",
    "    model.compile(optimizer='adam', loss='mae')\n",
    "    history = model.fit(x, y, batch_size=64, epochs=200, verbose=0)\n",
    "#plt.plot(history.history['loss'])\n",
    "    predictions.append(model.predict(np.array([[5,6,7,8,9,10,11,12,13]])).T)\n",
    "\n"
   ]
  },
  {
   "cell_type": "code",
   "execution_count": 148,
   "metadata": {},
   "outputs": [
    {
     "data": {
      "text/plain": [
       "<matplotlib.legend.Legend at 0x260874f33a0>"
      ]
     },
     "execution_count": 148,
     "metadata": {},
     "output_type": "execute_result"
    },
    {
     "data": {
      "image/png": "[encoded data removed]",
      "text/plain": [
       "<Figure size 432x288 with 1 Axes>"
      ]
     },
     "metadata": {
      "needs_background": "light"
     },
     "output_type": "display_data"
    }
   ],
   "source": [
    "for i in range(len(predictions)):\n",
    "    plt.plot([9, 10, 11], predictions[i], label=i)\n",
    "plt.plot([9, 10, 11], [14,15,16], color='black')\n",
    "plt.legend()"
   ]
  },
  {
   "cell_type": "code",
   "execution_count": 145,
   "metadata": {},
   "outputs": [
    {
     "data": {
      "text/plain": [
       "13.724488"
      ]
     },
     "execution_count": 145,
     "metadata": {},
     "output_type": "execute_result"
    }
   ],
   "source": [
    "np.array(predictions)[:,0].mean()"
   ]
  },
  {
   "cell_type": "code",
   "execution_count": 146,
   "metadata": {},
   "outputs": [
    {
     "data": {
      "text/plain": [
       "14.964944"
      ]
     },
     "execution_count": 146,
     "metadata": {},
     "output_type": "execute_result"
    }
   ],
   "source": [
    "np.array(predictions)[:,1].mean()"
   ]
  },
  {
   "cell_type": "code",
   "execution_count": 147,
   "metadata": {},
   "outputs": [
    {
     "data": {
      "text/plain": [
       "15.6725645"
      ]
     },
     "execution_count": 147,
     "metadata": {},
     "output_type": "execute_result"
    }
   ],
   "source": [
    "np.array(predictions)[:,2].mean()"
   ]
  },
  {
   "cell_type": "code",
   "execution_count": null,
   "metadata": {},
   "outputs": [],
   "source": []
  }
 ],
 "metadata": {
  "kernelspec": {
   "display_name": "Python 3",
   "language": "python",
   "name": "python3"
  },
  "language_info": {
   "codemirror_mode": {
    "name": "ipython",
    "version": 3
   },
   "file_extension": ".py",
   "mimetype": "text/x-python",
   "name": "python",
   "nbconvert_exporter": "python",
   "pygments_lexer": "ipython3",
   "version": "3.8.5"
  }
 },
 "nbformat": 4,
 "nbformat_minor": 4
}
