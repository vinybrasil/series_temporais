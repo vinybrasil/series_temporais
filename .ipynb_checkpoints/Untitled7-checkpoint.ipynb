{
 "cells": [
  {
   "cell_type": "code",
   "execution_count": null,
   "metadata": {},
   "outputs": [],
   "source": [
    "#source: https://github.com/frankcj6/Forecasting-Facebook-Stock-Price-Trends-and-Volatility/blob/main/Project.Rmd\n",
    "#https://github.com/KimKaminsky/R_DengAI_ARIMA_GARCH_ANN\n",
    "#https://github.com/KshitijK1999/A-Hybrid-Deep-Learning-Based-Model-for-Volatility-Prediction\n",
    "#https://github.com/Cyyyy852/RMSC4002-Financial-Data-Analytics-with-Machine-Learning/blob/main/20202021_Fall_RMSC4002_HW1_CHAN_SZE_YUEN_SYNGIENE_1155127616.Rmd"
   ]
  }
 ],
 "metadata": {
  "kernelspec": {
   "display_name": "R",
   "language": "R",
   "name": "ir"
  },
  "language_info": {
   "codemirror_mode": "r",
   "file_extension": ".r",
   "mimetype": "text/x-r-source",
   "name": "R",
   "pygments_lexer": "r",
   "version": "3.6.2"
  }
 },
 "nbformat": 4,
 "nbformat_minor": 4
}
