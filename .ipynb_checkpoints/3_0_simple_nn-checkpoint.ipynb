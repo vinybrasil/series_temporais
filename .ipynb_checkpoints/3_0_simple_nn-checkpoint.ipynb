{
 "cells": [
  {
   "cell_type": "code",
   "execution_count": 24,
   "metadata": {},
   "outputs": [
    {
     "name": "stdout",
     "output_type": "stream",
     "text": [
      "2.3.0\n"
     ]
    }
   ],
   "source": [
    "#source: https://keras.io/api/models/sequential/\n",
    "\n",
    "import tensorflow as tf\n",
    "print(tf.__version__)\n",
    "import numpy as np\n",
    "import matplotlib.pyplot as plt"
   ]
  },
  {
   "cell_type": "code",
   "execution_count": 19,
   "metadata": {},
   "outputs": [],
   "source": [
    "model = tf.keras.Sequential()"
   ]
  },
  {
   "cell_type": "code",
   "execution_count": 20,
   "metadata": {},
   "outputs": [],
   "source": [
    "model.add(tf.keras.layers.Dense(8))\n",
    "model.add(tf.keras.layers.Dense(1))\n",
    "model.compile(optimizer='sgd', loss='mse')"
   ]
  },
  {
   "cell_type": "code",
   "execution_count": 21,
   "metadata": {},
   "outputs": [],
   "source": [
    "x = np.array([[1],[2], [3], [4], [6]])\n",
    "y = np.array([[2],[4], [6], [8], [12]])"
   ]
  },
  {
   "cell_type": "code",
   "execution_count": 29,
   "metadata": {},
   "outputs": [
    {
     "name": "stdout",
     "output_type": "stream",
     "text": [
      "Epoch 1/10\n",
      "1/1 - 0s - loss: 0.0186\n",
      "Epoch 2/10\n",
      "1/1 - 0s - loss: 0.0181\n",
      "Epoch 3/10\n",
      "1/1 - 0s - loss: 0.0176\n",
      "Epoch 4/10\n",
      "1/1 - 0s - loss: 0.0172\n",
      "Epoch 5/10\n",
      "1/1 - 0s - loss: 0.0167\n",
      "Epoch 6/10\n",
      "1/1 - 0s - loss: 0.0163\n",
      "Epoch 7/10\n",
      "1/1 - 0s - loss: 0.0159\n",
      "Epoch 8/10\n",
      "1/1 - 0s - loss: 0.0155\n",
      "Epoch 9/10\n",
      "1/1 - 0s - loss: 0.0151\n",
      "Epoch 10/10\n",
      "1/1 - 0s - loss: 0.0147\n"
     ]
    }
   ],
   "source": [
    "history = model.fit(x, y, batch_size=32, epochs=10, verbose=1)"
   ]
  },
  {
   "cell_type": "code",
   "execution_count": 23,
   "metadata": {},
   "outputs": [
    {
     "name": "stdout",
     "output_type": "stream",
     "text": [
      "4\n"
     ]
    },
    {
     "data": {
      "text/plain": [
       "[<tf.Variable 'dense_8/kernel:0' shape=(1, 8) dtype=float32, numpy=\n",
       " array([[ 0.5564691 ,  0.3883249 , -0.1380353 ,  0.75538874,  0.22148651,\n",
       "         -0.00300234, -0.598627  ,  0.93647057]], dtype=float32)>,\n",
       " <tf.Variable 'dense_8/bias:0' shape=(8,) dtype=float32, numpy=\n",
       " array([-0.00185353,  0.04213745, -0.00606846,  0.11342043,  0.05361797,\n",
       "        -0.06827751,  0.04463658,  0.02746863], dtype=float32)>,\n",
       " <tf.Variable 'dense_9/kernel:0' shape=(8, 1) dtype=float32, numpy=\n",
       " array([[ 0.31883657],\n",
       "        [ 0.43184686],\n",
       "        [-0.11055736],\n",
       "        [ 0.9916613 ],\n",
       "        [ 0.38891557],\n",
       "        [-0.3308877 ],\n",
       "        [-0.1374405 ],\n",
       "        [ 0.6840071 ]], dtype=float32)>,\n",
       " <tf.Variable 'dense_9/bias:0' shape=(1,) dtype=float32, numpy=array([0.14117222], dtype=float32)>]"
      ]
     },
     "execution_count": 23,
     "metadata": {},
     "output_type": "execute_result"
    }
   ],
   "source": [
    "print(len(model.weights))\n",
    "model.weights"
   ]
  },
  {
   "cell_type": "code",
   "execution_count": 27,
   "metadata": {},
   "outputs": [
    {
     "data": {
      "text/plain": [
       "[<matplotlib.lines.Line2D at 0x2a8d9aa5520>]"
      ]
     },
     "execution_count": 27,
     "metadata": {},
     "output_type": "execute_result"
    },
    {
     "data": {
      "image/png": "[encoded data removed]",
      "text/plain": [
       "<Figure size 432x288 with 1 Axes>"
      ]
     },
     "metadata": {
      "needs_background": "light"
     },
     "output_type": "display_data"
    }
   ],
   "source": [
    "plt.plot(history.history['loss'])"
   ]
  },
  {
   "cell_type": "code",
   "execution_count": 38,
   "metadata": {},
   "outputs": [
    {
     "data": {
      "text/plain": [
       "array([[-3.623794]], dtype=float32)"
      ]
     },
     "execution_count": 38,
     "metadata": {},
     "output_type": "execute_result"
    }
   ],
   "source": [
    "model.predict([-2])"
   ]
  },
  {
   "cell_type": "code",
   "execution_count": null,
   "metadata": {},
   "outputs": [],
   "source": []
  }
 ],
 "metadata": {
  "kernelspec": {
   "display_name": "Python 3",
   "language": "python",
   "name": "python3"
  },
  "language_info": {
   "codemirror_mode": {
    "name": "ipython",
    "version": 3
   },
   "file_extension": ".py",
   "mimetype": "text/x-python",
   "name": "python",
   "nbconvert_exporter": "python",
   "pygments_lexer": "ipython3",
   "version": "3.8.5"
  }
 },
 "nbformat": 4,
 "nbformat_minor": 4
}
