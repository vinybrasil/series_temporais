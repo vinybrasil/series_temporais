{
 "cells": [
  {
   "cell_type": "code",
   "execution_count": 1,
   "metadata": {},
   "outputs": [],
   "source": [
    "y = c(807, 2042, 3046, 4563, 7059, \n",
    "              10537, 14841, 20478, 23078, 23692, 26235,29452,\n",
    "             35385, 39197, 42913)"
   ]
  },
  {
   "cell_type": "code",
   "execution_count": 2,
   "metadata": {},
   "outputs": [
    {
     "data": {
      "text/html": [
       "<style>\n",
       ".list-inline {list-style: none; margin:0; padding: 0}\n",
       ".list-inline>li {display: inline-block}\n",
       ".list-inline>li:not(:last-child)::after {content: \"\\00b7\"; padding: 0 .5ex}\n",
       "</style>\n",
       "<ol class=list-inline><li>807</li><li>2042</li><li>3046</li><li>4563</li><li>7059</li><li>10537</li><li>14841</li><li>20478</li><li>23078</li><li>23692</li><li>26235</li><li>29452</li><li>35385</li><li>39197</li><li>42913</li></ol>\n"
      ],
      "text/latex": [
       "\\begin{enumerate*}\n",
       "\\item 807\n",
       "\\item 2042\n",
       "\\item 3046\n",
       "\\item 4563\n",
       "\\item 7059\n",
       "\\item 10537\n",
       "\\item 14841\n",
       "\\item 20478\n",
       "\\item 23078\n",
       "\\item 23692\n",
       "\\item 26235\n",
       "\\item 29452\n",
       "\\item 35385\n",
       "\\item 39197\n",
       "\\item 42913\n",
       "\\end{enumerate*}\n"
      ],
      "text/markdown": [
       "1. 807\n",
       "2. 2042\n",
       "3. 3046\n",
       "4. 4563\n",
       "5. 7059\n",
       "6. 10537\n",
       "7. 14841\n",
       "8. 20478\n",
       "9. 23078\n",
       "10. 23692\n",
       "11. 26235\n",
       "12. 29452\n",
       "13. 35385\n",
       "14. 39197\n",
       "15. 42913\n",
       "\n",
       "\n"
      ],
      "text/plain": [
       " [1]   807  2042  3046  4563  7059 10537 14841 20478 23078 23692 26235 29452\n",
       "[13] 35385 39197 42913"
      ]
     },
     "metadata": {},
     "output_type": "display_data"
    }
   ],
   "source": [
    "y"
   ]
  },
  {
   "cell_type": "code",
   "execution_count": 6,
   "metadata": {},
   "outputs": [
    {
     "data": {
      "text/html": [
       "<style>\n",
       ".list-inline {list-style: none; margin:0; padding: 0}\n",
       ".list-inline>li {display: inline-block}\n",
       ".list-inline>li:not(:last-child)::after {content: \"\\00b7\"; padding: 0 .5ex}\n",
       "</style>\n",
       "<ol class=list-inline><li>1</li><li>2</li><li>3</li><li>4</li><li>5</li><li>6</li><li>7</li><li>8</li><li>9</li><li>10</li><li>11</li><li>12</li><li>13</li><li>14</li><li>15</li></ol>\n"
      ],
      "text/latex": [
       "\\begin{enumerate*}\n",
       "\\item 1\n",
       "\\item 2\n",
       "\\item 3\n",
       "\\item 4\n",
       "\\item 5\n",
       "\\item 6\n",
       "\\item 7\n",
       "\\item 8\n",
       "\\item 9\n",
       "\\item 10\n",
       "\\item 11\n",
       "\\item 12\n",
       "\\item 13\n",
       "\\item 14\n",
       "\\item 15\n",
       "\\end{enumerate*}\n"
      ],
      "text/markdown": [
       "1. 1\n",
       "2. 2\n",
       "3. 3\n",
       "4. 4\n",
       "5. 5\n",
       "6. 6\n",
       "7. 7\n",
       "8. 8\n",
       "9. 9\n",
       "10. 10\n",
       "11. 11\n",
       "12. 12\n",
       "13. 13\n",
       "14. 14\n",
       "15. 15\n",
       "\n",
       "\n"
      ],
      "text/plain": [
       " [1]  1  2  3  4  5  6  7  8  9 10 11 12 13 14 15"
      ]
     },
     "metadata": {},
     "output_type": "display_data"
    }
   ],
   "source": [
    "seq(1,length(y))"
   ]
  },
  {
   "cell_type": "code",
   "execution_count": 7,
   "metadata": {},
   "outputs": [
    {
     "data": {
      "image/png": "[encoded data removed]",
      "text/plain": [
       "plot without title"
      ]
     },
     "metadata": {
      "image/png": {
       "height": 420,
       "width": 420
      }
     },
     "output_type": "display_data"
    }
   ],
   "source": [
    "plot(seq(1,length(y)), y)"
   ]
  },
  {
   "cell_type": "code",
   "execution_count": 15,
   "metadata": {},
   "outputs": [
    {
     "data": {
      "text/plain": [
       "\n",
       "Call:\n",
       "lm(formula = y ~ seq(1, length(y)))\n",
       "\n",
       "Residuals:\n",
       "    Min      1Q  Median      3Q     Max \n",
       "-2497.2 -1880.8  -288.8  1617.0  3693.6 \n",
       "\n",
       "Coefficients:\n",
       "                  Estimate Std. Error t value Pr(>|t|)    \n",
       "(Intercept)        -5997.3     1108.0  -5.413 0.000118 ***\n",
       "seq(1, length(y))   3110.7      121.9  25.527 1.71e-12 ***\n",
       "---\n",
       "Signif. codes:  0 '***' 0.001 '**' 0.01 '*' 0.05 '.' 0.1 ' ' 1\n",
       "\n",
       "Residual standard error: 2039 on 13 degrees of freedom\n",
       "Multiple R-squared:  0.9804,\tAdjusted R-squared:  0.9789 \n",
       "F-statistic: 651.6 on 1 and 13 DF,  p-value: 1.715e-12\n"
      ]
     },
     "metadata": {},
     "output_type": "display_data"
    }
   ],
   "source": [
    "summary(lm(y ~ seq(1,length(y)))) #cada dia 3110.7 são vacinadas"
   ]
  },
  {
   "cell_type": "code",
   "execution_count": 16,
   "metadata": {},
   "outputs": [
    {
     "data": {
      "text/html": [
       "46023.7"
      ],
      "text/latex": [
       "46023.7"
      ],
      "text/markdown": [
       "46023.7"
      ],
      "text/plain": [
       "[1] 46023.7"
      ]
     },
     "metadata": {},
     "output_type": "display_data"
    }
   ],
   "source": [
    "3110.7 + 42913 #previsao para 07/02"
   ]
  },
  {
   "cell_type": "code",
   "execution_count": 11,
   "metadata": {},
   "outputs": [
    {
     "data": {
      "text/plain": [
       "\n",
       "Call:\n",
       "lm(formula = y/2 ~ seq(1, length(y)))\n",
       "\n",
       "Residuals:\n",
       "    Min      1Q  Median      3Q     Max \n",
       "-1248.6  -940.4  -144.4   808.5  1846.8 \n",
       "\n",
       "Coefficients:\n",
       "                  Estimate Std. Error t value Pr(>|t|)    \n",
       "(Intercept)       -2998.66     553.99  -5.413 0.000118 ***\n",
       "seq(1, length(y))  1555.35      60.93  25.527 1.71e-12 ***\n",
       "---\n",
       "Signif. codes:  0 '***' 0.001 '**' 0.01 '*' 0.05 '.' 0.1 ' ' 1\n",
       "\n",
       "Residual standard error: 1020 on 13 degrees of freedom\n",
       "Multiple R-squared:  0.9804,\tAdjusted R-squared:  0.9789 \n",
       "F-statistic: 651.6 on 1 and 13 DF,  p-value: 1.715e-12\n"
      ]
     },
     "metadata": {},
     "output_type": "display_data"
    }
   ],
   "source": [
    "summary(lm(y/2 ~ seq(1,length(y))))"
   ]
  },
  {
   "cell_type": "code",
   "execution_count": 14,
   "metadata": {},
   "outputs": [
    {
     "data": {
      "image/png": "[encoded data removed]",
      "text/plain": [
       "plot without title"
      ]
     },
     "metadata": {
      "image/png": {
       "height": 420,
       "width": 420
      }
     },
     "output_type": "display_data"
    }
   ],
   "source": [
    "plot(seq(1,length(y)), y/2)\n",
    "abline(lm(y/2 ~ seq(1,length(y))))"
   ]
  },
  {
   "cell_type": "code",
   "execution_count": 17,
   "metadata": {},
   "outputs": [
    {
     "data": {
      "text/html": [
       "1254.78166329122"
      ],
      "text/latex": [
       "1254.78166329122"
      ],
      "text/markdown": [
       "1254.78166329122"
      ],
      "text/plain": [
       "[1] 1254.782"
      ]
     },
     "metadata": {},
     "output_type": "display_data"
    }
   ],
   "source": [
    "#1948626 = -2998.66 + 1555.35*x\n",
    "(1948626  + 2998.66)/1555.35"
   ]
  },
  {
   "cell_type": "code",
   "execution_count": 18,
   "metadata": {},
   "outputs": [
    {
     "data": {
      "text/html": [
       "3.43780821917808"
      ],
      "text/latex": [
       "3.43780821917808"
      ],
      "text/markdown": [
       "3.43780821917808"
      ],
      "text/plain": [
       "[1] 3.437808"
      ]
     },
     "metadata": {},
     "output_type": "display_data"
    }
   ],
   "source": [
    "1254.8/365"
   ]
  },
  {
   "cell_type": "code",
   "execution_count": 19,
   "metadata": {},
   "outputs": [
    {
     "data": {
      "text/html": [
       "163.52"
      ],
      "text/latex": [
       "163.52"
      ],
      "text/markdown": [
       "163.52"
      ],
      "text/plain": [
       "[1] 163.52"
      ]
     },
     "metadata": {},
     "output_type": "display_data"
    }
   ],
   "source": [
    "0.448 * 365"
   ]
  },
  {
   "cell_type": "code",
   "execution_count": 20,
   "metadata": {},
   "outputs": [
    {
     "data": {
      "text/html": [
       "5.45066666666667"
      ],
      "text/latex": [
       "5.45066666666667"
      ],
      "text/markdown": [
       "5.45066666666667"
      ],
      "text/plain": [
       "[1] 5.450667"
      ]
     },
     "metadata": {},
     "output_type": "display_data"
    }
   ],
   "source": [
    "163.52/30\n"
   ]
  },
  {
   "cell_type": "code",
   "execution_count": 21,
   "metadata": {},
   "outputs": [
    {
     "data": {
      "text/html": [
       "13.5200000000001"
      ],
      "text/latex": [
       "13.5200000000001"
      ],
      "text/markdown": [
       "13.5200000000001"
      ],
      "text/plain": [
       "[1] 13.52"
      ]
     },
     "metadata": {},
     "output_type": "display_data"
    }
   ],
   "source": [
    "0.45066666666667 * 30\n"
   ]
  },
  {
   "cell_type": "code",
   "execution_count": 24,
   "metadata": {},
   "outputs": [
    {
     "ename": "ERROR",
     "evalue": "Error in parse(text = x, srcfile = src): <text>:1:1: unexpected SPECIAL\n1: %%\n    ^\n",
     "output_type": "error",
     "traceback": [
      "Error in parse(text = x, srcfile = src): <text>:1:1: unexpected SPECIAL\n1: %%\n    ^\nTraceback:\n"
     ]
    }
   ],
   "source": [
    "#vamos vacinar todo mundo em curitiba em 2/julho de 2024"
   ]
  },
  {
   "cell_type": "code",
   "execution_count": null,
   "metadata": {},
   "outputs": [],
   "source": []
  }
 ],
 "metadata": {
  "kernelspec": {
   "display_name": "R",
   "language": "R",
   "name": "ir"
  },
  "language_info": {
   "codemirror_mode": "r",
   "file_extension": ".r",
   "mimetype": "text/x-r-source",
   "name": "R",
   "pygments_lexer": "r",
   "version": "3.6.2"
  }
 },
 "nbformat": 4,
 "nbformat_minor": 4
}
