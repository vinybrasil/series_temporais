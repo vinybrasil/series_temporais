{
 "cells": [
  {
   "cell_type": "code",
   "execution_count": 2,
   "metadata": {},
   "outputs": [],
   "source": [
    "import tensorflow as tf\n",
    "import matplotlib.pyplot as plt\n",
    "import pandas as pd\n",
    "import numpy as np"
   ]
  },
  {
   "cell_type": "code",
   "execution_count": 3,
   "metadata": {},
   "outputs": [],
   "source": [
    "raw_data = pd.read_csv(\"datasets/hungary_chickenpox.csv\")"
   ]
  },
  {
   "cell_type": "code",
   "execution_count": 5,
   "metadata": {},
   "outputs": [
    {
     "data": {
      "text/plain": [
       "[<matplotlib.lines.Line2D at 0x1b866316700>]"
      ]
     },
     "execution_count": 5,
     "metadata": {},
     "output_type": "execute_result"
    },
    {
     "data": {
      "image/png": "[encoded data removed]",
      "text/plain": [
       "<Figure size 432x288 with 1 Axes>"
      ]
     },
     "metadata": {
      "needs_background": "light"
     },
     "output_type": "display_data"
    }
   ],
   "source": [
    "plt.plot( raw_data['BUDAPEST'])"
   ]
  },
  {
   "cell_type": "code",
   "execution_count": 78,
   "metadata": {},
   "outputs": [],
   "source": [
    "def window(x, n, w):\n",
    "    window = []\n",
    "    step_ahead = []\n",
    "    i = 1\n",
    "    while i + n + w <= len(x):\n",
    "        window.append(x[i-1:i+n-1])\n",
    "        step_ahead.append(x[i+n:i+n+w])\n",
    "        i += 1\n",
    "    return window, step_ahead"
   ]
  },
  {
   "cell_type": "code",
   "execution_count": 79,
   "metadata": {},
   "outputs": [],
   "source": [
    "x = raw_data['BUDAPEST'].values"
   ]
  },
  {
   "cell_type": "code",
   "execution_count": 80,
   "metadata": {},
   "outputs": [],
   "source": [
    "windows, step_ahead = window(x[0:490], 10 ,2) #tá 11 ao inves de 10"
   ]
  },
  {
   "cell_type": "code",
   "execution_count": 81,
   "metadata": {},
   "outputs": [],
   "source": [
    "windows = np.array(windows)"
   ]
  },
  {
   "cell_type": "code",
   "execution_count": 82,
   "metadata": {},
   "outputs": [
    {
     "data": {
      "text/plain": [
       "(478, 10)"
      ]
     },
     "execution_count": 82,
     "metadata": {},
     "output_type": "execute_result"
    }
   ],
   "source": [
    "windows.shape"
   ]
  },
  {
   "cell_type": "code",
   "execution_count": 83,
   "metadata": {},
   "outputs": [],
   "source": [
    "windows_2 = windows.reshape(478,10,1)"
   ]
  },
  {
   "cell_type": "code",
   "execution_count": 84,
   "metadata": {},
   "outputs": [],
   "source": [
    "step_ahead = np.array(step_ahead)"
   ]
  },
  {
   "cell_type": "code",
   "execution_count": 85,
   "metadata": {},
   "outputs": [
    {
     "data": {
      "text/plain": [
       "(478, 2)"
      ]
     },
     "execution_count": 85,
     "metadata": {},
     "output_type": "execute_result"
    }
   ],
   "source": [
    "step_ahead.shape"
   ]
  },
  {
   "cell_type": "code",
   "execution_count": 86,
   "metadata": {},
   "outputs": [
    {
     "name": "stdout",
     "output_type": "stream",
     "text": [
      "Epoch 1/350\n",
      "15/15 [==============================] - 0s 15ms/step - loss: 102.8988\n",
      "Epoch 2/350\n",
      "15/15 [==============================] - 0s 15ms/step - loss: 102.7963\n",
      "Epoch 3/350\n",
      "15/15 [==============================] - 0s 14ms/step - loss: 102.6728\n",
      "Epoch 4/350\n",
      "15/15 [==============================] - 0s 14ms/step - loss: 102.5176\n",
      "Epoch 5/350\n",
      "15/15 [==============================] - 0s 14ms/step - loss: 102.3192\n",
      "Epoch 6/350\n",
      "15/15 [==============================] - 0s 14ms/step - loss: 102.0645\n",
      "Epoch 7/350\n",
      "15/15 [==============================] - 0s 14ms/step - loss: 101.7402\n",
      "Epoch 8/350\n",
      "15/15 [==============================] - 0s 14ms/step - loss: 101.3305\n",
      "Epoch 9/350\n",
      "15/15 [==============================] - 0s 14ms/step - loss: 100.8207\n",
      "Epoch 10/350\n",
      "15/15 [==============================] - 0s 14ms/step - loss: 100.1834\n",
      "Epoch 11/350\n",
      "15/15 [==============================] - 0s 16ms/step - loss: 99.3288\n",
      "Epoch 12/350\n",
      "15/15 [==============================] - 0s 17ms/step - loss: 97.1345\n",
      "Epoch 13/350\n",
      "15/15 [==============================] - 0s 15ms/step - loss: 93.7258\n",
      "Epoch 14/350\n",
      "15/15 [==============================] - ETA: 0s - loss: 91.32 - 0s 16ms/step - loss: 91.3262\n",
      "Epoch 15/350\n",
      "15/15 [==============================] - 0s 14ms/step - loss: 89.0387\n",
      "Epoch 16/350\n",
      "15/15 [==============================] - 0s 15ms/step - loss: 86.8014\n",
      "Epoch 17/350\n",
      "15/15 [==============================] - 0s 14ms/step - loss: 84.6241\n",
      "Epoch 18/350\n",
      "15/15 [==============================] - 0s 14ms/step - loss: 82.5398\n",
      "Epoch 19/350\n",
      "15/15 [==============================] - 0s 14ms/step - loss: 80.5239\n",
      "Epoch 20/350\n",
      "15/15 [==============================] - 0s 14ms/step - loss: 78.6071\n",
      "Epoch 21/350\n",
      "15/15 [==============================] - 0s 14ms/step - loss: 76.7591\n",
      "Epoch 22/350\n",
      "15/15 [==============================] - 0s 15ms/step - loss: 74.9372\n",
      "Epoch 23/350\n",
      "15/15 [==============================] - 0s 15ms/step - loss: 73.1069\n",
      "Epoch 24/350\n",
      "15/15 [==============================] - 0s 15ms/step - loss: 71.3187 0s - loss: 71.\n",
      "Epoch 25/350\n",
      "15/15 [==============================] - 0s 17ms/step - loss: 69.6199\n",
      "Epoch 26/350\n",
      "15/15 [==============================] - 0s 14ms/step - loss: 68.0517\n",
      "Epoch 27/350\n",
      "15/15 [==============================] - 0s 18ms/step - loss: 66.5611\n",
      "Epoch 28/350\n",
      "15/15 [==============================] - 0s 16ms/step - loss: 65.1816\n",
      "Epoch 29/350\n",
      "15/15 [==============================] - 0s 14ms/step - loss: 63.9589\n",
      "Epoch 30/350\n",
      "15/15 [==============================] - 0s 15ms/step - loss: 62.8382\n",
      "Epoch 31/350\n",
      "15/15 [==============================] - 0s 17ms/step - loss: 61.8326\n",
      "Epoch 32/350\n",
      "15/15 [==============================] - 0s 19ms/step - loss: 60.9029\n",
      "Epoch 33/350\n",
      "15/15 [==============================] - 0s 15ms/step - loss: 60.0541\n",
      "Epoch 34/350\n",
      "15/15 [==============================] - 0s 15ms/step - loss: 59.2719\n",
      "Epoch 35/350\n",
      "15/15 [==============================] - 0s 15ms/step - loss: 58.5676\n",
      "Epoch 36/350\n",
      "15/15 [==============================] - 0s 15ms/step - loss: 57.9367\n",
      "Epoch 37/350\n",
      "15/15 [==============================] - 0s 14ms/step - loss: 57.3838\n",
      "Epoch 38/350\n",
      "15/15 [==============================] - 0s 16ms/step - loss: 56.8883\n",
      "Epoch 39/350\n",
      "15/15 [==============================] - 0s 13ms/step - loss: 56.4320\n",
      "Epoch 40/350\n",
      "15/15 [==============================] - 0s 14ms/step - loss: 56.0306\n",
      "Epoch 41/350\n",
      "15/15 [==============================] - 0s 14ms/step - loss: 55.6853\n",
      "Epoch 42/350\n",
      "15/15 [==============================] - 0s 15ms/step - loss: 55.3794\n",
      "Epoch 43/350\n",
      "15/15 [==============================] - 0s 14ms/step - loss: 55.1094\n",
      "Epoch 44/350\n",
      "15/15 [==============================] - 0s 14ms/step - loss: 54.8664\n",
      "Epoch 45/350\n",
      "15/15 [==============================] - 0s 15ms/step - loss: 54.6386 0s - loss: 56.\n",
      "Epoch 46/350\n",
      "15/15 [==============================] - 0s 15ms/step - loss: 54.4164\n",
      "Epoch 47/350\n",
      "15/15 [==============================] - 0s 14ms/step - loss: 54.2073\n",
      "Epoch 48/350\n",
      "15/15 [==============================] - 0s 15ms/step - loss: 54.0172\n",
      "Epoch 49/350\n",
      "15/15 [==============================] - 0s 14ms/step - loss: 53.8368\n",
      "Epoch 50/350\n",
      "15/15 [==============================] - 0s 14ms/step - loss: 53.6666\n",
      "Epoch 51/350\n",
      "15/15 [==============================] - 0s 13ms/step - loss: 53.5052\n",
      "Epoch 52/350\n",
      "15/15 [==============================] - 0s 14ms/step - loss: 53.3516\n",
      "Epoch 53/350\n",
      "15/15 [==============================] - 0s 16ms/step - loss: 53.2069\n",
      "Epoch 54/350\n",
      "15/15 [==============================] - 0s 15ms/step - loss: 53.0708\n",
      "Epoch 55/350\n",
      "15/15 [==============================] - 0s 15ms/step - loss: 52.9429\n",
      "Epoch 56/350\n",
      "15/15 [==============================] - 0s 15ms/step - loss: 52.8194\n",
      "Epoch 57/350\n",
      "15/15 [==============================] - 0s 15ms/step - loss: 52.6973\n",
      "Epoch 58/350\n",
      "15/15 [==============================] - 0s 14ms/step - loss: 52.5789\n",
      "Epoch 59/350\n",
      "15/15 [==============================] - 0s 15ms/step - loss: 52.4653\n",
      "Epoch 60/350\n",
      "15/15 [==============================] - ETA: 0s - loss: 52.35 - 0s 15ms/step - loss: 52.3525\n",
      "Epoch 61/350\n",
      "15/15 [==============================] - 0s 14ms/step - loss: 52.2414\n",
      "Epoch 62/350\n",
      "15/15 [==============================] - 0s 13ms/step - loss: 52.1310\n",
      "Epoch 63/350\n",
      "15/15 [==============================] - 0s 14ms/step - loss: 52.0224\n",
      "Epoch 64/350\n",
      "15/15 [==============================] - 0s 14ms/step - loss: 51.9170\n",
      "Epoch 65/350\n",
      "15/15 [==============================] - 0s 14ms/step - loss: 51.8124\n",
      "Epoch 66/350\n",
      "15/15 [==============================] - 0s 15ms/step - loss: 51.7087\n",
      "Epoch 67/350\n",
      "15/15 [==============================] - 0s 15ms/step - loss: 51.6056\n",
      "Epoch 68/350\n",
      "15/15 [==============================] - 0s 14ms/step - loss: 51.5047\n",
      "Epoch 69/350\n",
      "15/15 [==============================] - 0s 14ms/step - loss: 51.4046\n",
      "Epoch 70/350\n",
      "15/15 [==============================] - 0s 14ms/step - loss: 51.3067\n",
      "Epoch 71/350\n",
      "15/15 [==============================] - 0s 14ms/step - loss: 51.2085\n",
      "Epoch 72/350\n",
      "15/15 [==============================] - 0s 13ms/step - loss: 51.1110\n",
      "Epoch 73/350\n",
      "15/15 [==============================] - 0s 16ms/step - loss: 51.0134\n",
      "Epoch 74/350\n",
      "15/15 [==============================] - 0s 14ms/step - loss: 50.9172\n",
      "Epoch 75/350\n",
      "15/15 [==============================] - 0s 15ms/step - loss: 50.8218\n",
      "Epoch 76/350\n",
      "15/15 [==============================] - 0s 14ms/step - loss: 50.7284\n",
      "Epoch 77/350\n",
      "15/15 [==============================] - 0s 13ms/step - loss: 50.6346\n",
      "Epoch 78/350\n",
      "15/15 [==============================] - 0s 15ms/step - loss: 50.5412\n",
      "Epoch 79/350\n",
      "15/15 [==============================] - 0s 14ms/step - loss: 50.4481\n",
      "Epoch 80/350\n",
      "15/15 [==============================] - 0s 16ms/step - loss: 50.3560\n",
      "Epoch 81/350\n",
      "15/15 [==============================] - 0s 16ms/step - loss: 50.2647 0s - loss: 50.26\n",
      "Epoch 82/350\n",
      "15/15 [==============================] - 0s 16ms/step - loss: 50.1747\n",
      "Epoch 83/350\n",
      "15/15 [==============================] - 0s 15ms/step - loss: 50.0850\n",
      "Epoch 84/350\n",
      "15/15 [==============================] - 0s 16ms/step - loss: 49.9951\n",
      "Epoch 85/350\n",
      "15/15 [==============================] - 0s 14ms/step - loss: 49.9049\n",
      "Epoch 86/350\n",
      "15/15 [==============================] - 0s 14ms/step - loss: 49.8140\n",
      "Epoch 87/350\n",
      "15/15 [==============================] - 0s 14ms/step - loss: 49.7230\n",
      "Epoch 88/350\n",
      "15/15 [==============================] - 0s 13ms/step - loss: 49.6327\n",
      "Epoch 89/350\n",
      "15/15 [==============================] - 0s 15ms/step - loss: 49.5419\n",
      "Epoch 90/350\n",
      "15/15 [==============================] - 0s 18ms/step - loss: 49.4514 0s - loss: 5\n",
      "Epoch 91/350\n",
      "15/15 [==============================] - 0s 15ms/step - loss: 49.3604\n",
      "Epoch 92/350\n",
      "15/15 [==============================] - 0s 14ms/step - loss: 49.2682\n",
      "Epoch 93/350\n",
      "15/15 [==============================] - 0s 15ms/step - loss: 49.1741\n",
      "Epoch 94/350\n",
      "15/15 [==============================] - 0s 14ms/step - loss: 49.0804\n",
      "Epoch 95/350\n",
      "15/15 [==============================] - 0s 15ms/step - loss: 48.9853\n",
      "Epoch 96/350\n",
      "15/15 [==============================] - 0s 14ms/step - loss: 48.8905\n",
      "Epoch 97/350\n",
      "15/15 [==============================] - 0s 13ms/step - loss: 48.7954\n",
      "Epoch 98/350\n",
      "15/15 [==============================] - 0s 14ms/step - loss: 48.6991\n",
      "Epoch 99/350\n",
      "15/15 [==============================] - 0s 15ms/step - loss: 48.6010\n",
      "Epoch 100/350\n",
      "15/15 [==============================] - 0s 14ms/step - loss: 48.5012\n",
      "Epoch 101/350\n",
      "15/15 [==============================] - 0s 13ms/step - loss: 48.3989\n",
      "Epoch 102/350\n",
      "15/15 [==============================] - 0s 13ms/step - loss: 48.2928\n",
      "Epoch 103/350\n",
      "15/15 [==============================] - 0s 15ms/step - loss: 48.1812\n",
      "Epoch 104/350\n",
      "15/15 [==============================] - 0s 16ms/step - loss: 48.0646\n",
      "Epoch 105/350\n",
      "15/15 [==============================] - 0s 18ms/step - loss: 47.9452\n",
      "Epoch 106/350\n",
      "15/15 [==============================] - 0s 18ms/step - loss: 47.8182\n",
      "Epoch 107/350\n",
      "15/15 [==============================] - 0s 21ms/step - loss: 47.6803\n",
      "Epoch 108/350\n",
      "15/15 [==============================] - 0s 22ms/step - loss: 47.5321\n",
      "Epoch 109/350\n",
      "15/15 [==============================] - 0s 31ms/step - loss: 47.3574\n",
      "Epoch 110/350\n",
      "15/15 [==============================] - 0s 22ms/step - loss: 47.1510\n",
      "Epoch 111/350\n",
      "15/15 [==============================] - 0s 26ms/step - loss: 46.9026 0s - los\n",
      "Epoch 112/350\n",
      "15/15 [==============================] - 0s 26ms/step - loss: 46.6251\n",
      "Epoch 113/350\n",
      "15/15 [==============================] - 0s 23ms/step - loss: 46.3010\n",
      "Epoch 114/350\n",
      "15/15 [==============================] - 0s 23ms/step - loss: 45.9281\n",
      "Epoch 115/350\n",
      "15/15 [==============================] - 0s 22ms/step - loss: 45.5204\n",
      "Epoch 116/350\n",
      "15/15 [==============================] - 0s 27ms/step - loss: 45.0874\n",
      "Epoch 117/350\n",
      "15/15 [==============================] - 0s 23ms/step - loss: 44.7029\n",
      "Epoch 118/350\n",
      "15/15 [==============================] - 0s 23ms/step - loss: 44.3537\n",
      "Epoch 119/350\n",
      "15/15 [==============================] - 0s 26ms/step - loss: 44.0225\n",
      "Epoch 120/350\n",
      "15/15 [==============================] - 0s 26ms/step - loss: 43.7675\n",
      "Epoch 121/350\n",
      "15/15 [==============================] - 0s 28ms/step - loss: 43.5863\n",
      "Epoch 122/350\n",
      "15/15 [==============================] - 0s 21ms/step - loss: 43.4486\n",
      "Epoch 123/350\n",
      "15/15 [==============================] - 0s 28ms/step - loss: 43.3322\n",
      "Epoch 124/350\n",
      "15/15 [==============================] - 0s 25ms/step - loss: 43.2305\n",
      "Epoch 125/350\n",
      "15/15 [==============================] - 0s 22ms/step - loss: 43.1385\n",
      "Epoch 126/350\n",
      "15/15 [==============================] - 0s 21ms/step - loss: 43.0507\n",
      "Epoch 127/350\n",
      "15/15 [==============================] - 0s 26ms/step - loss: 42.9631\n",
      "Epoch 128/350\n",
      "15/15 [==============================] - 0s 21ms/step - loss: 42.8764\n",
      "Epoch 129/350\n",
      "15/15 [==============================] - 0s 23ms/step - loss: 42.7828\n",
      "Epoch 130/350\n",
      "15/15 [==============================] - 0s 20ms/step - loss: 42.6649\n",
      "Epoch 131/350\n",
      "15/15 [==============================] - 0s 23ms/step - loss: 42.5420\n",
      "Epoch 132/350\n",
      "15/15 [==============================] - 0s 25ms/step - loss: 42.4232\n",
      "Epoch 133/350\n",
      "15/15 [==============================] - 0s 24ms/step - loss: 42.3060\n",
      "Epoch 134/350\n",
      "15/15 [==============================] - 0s 21ms/step - loss: 42.1853\n",
      "Epoch 135/350\n",
      "15/15 [==============================] - 0s 21ms/step - loss: 42.0428\n",
      "Epoch 136/350\n",
      "15/15 [==============================] - 0s 24ms/step - loss: 41.8765\n",
      "Epoch 137/350\n",
      "15/15 [==============================] - 0s 26ms/step - loss: 41.6576\n",
      "Epoch 138/350\n",
      "15/15 [==============================] - 0s 21ms/step - loss: 41.5109\n",
      "Epoch 139/350\n",
      "15/15 [==============================] - 0s 24ms/step - loss: 41.3721\n",
      "Epoch 140/350\n",
      "15/15 [==============================] - 1s 44ms/step - loss: 41.2645\n",
      "Epoch 141/350\n",
      "15/15 [==============================] - 0s 22ms/step - loss: 41.1309\n",
      "Epoch 142/350\n",
      "15/15 [==============================] - 0s 24ms/step - loss: 41.0224\n",
      "Epoch 143/350\n",
      "15/15 [==============================] - 0s 26ms/step - loss: 40.9029\n",
      "Epoch 144/350\n",
      "15/15 [==============================] - 0s 16ms/step - loss: 40.7247\n",
      "Epoch 145/350\n",
      "15/15 [==============================] - 0s 18ms/step - loss: 40.5847\n",
      "Epoch 146/350\n",
      "15/15 [==============================] - 0s 17ms/step - loss: 40.4876\n",
      "Epoch 147/350\n",
      "15/15 [==============================] - 0s 17ms/step - loss: 40.3632\n",
      "Epoch 148/350\n",
      "15/15 [==============================] - 0s 18ms/step - loss: 40.3038\n",
      "Epoch 149/350\n",
      "15/15 [==============================] - 0s 17ms/step - loss: 40.1993\n",
      "Epoch 150/350\n",
      "15/15 [==============================] - 0s 18ms/step - loss: 40.1480\n",
      "Epoch 151/350\n",
      "15/15 [==============================] - 0s 19ms/step - loss: 40.0555\n",
      "Epoch 152/350\n",
      "15/15 [==============================] - 0s 18ms/step - loss: 39.9870\n",
      "Epoch 153/350\n",
      "15/15 [==============================] - 0s 18ms/step - loss: 39.9177\n",
      "Epoch 154/350\n",
      "15/15 [==============================] - 0s 16ms/step - loss: 39.8698\n",
      "Epoch 155/350\n",
      "15/15 [==============================] - 0s 15ms/step - loss: 39.7913\n",
      "Epoch 156/350\n",
      "15/15 [==============================] - 0s 15ms/step - loss: 39.7464\n",
      "Epoch 157/350\n",
      "15/15 [==============================] - 0s 16ms/step - loss: 39.6663\n",
      "Epoch 158/350\n",
      "15/15 [==============================] - 0s 17ms/step - loss: 39.6763\n",
      "Epoch 159/350\n",
      "15/15 [==============================] - 0s 16ms/step - loss: 39.6204\n",
      "Epoch 160/350\n",
      "15/15 [==============================] - 0s 15ms/step - loss: 39.5722\n",
      "Epoch 161/350\n",
      "15/15 [==============================] - 0s 15ms/step - loss: 39.5322\n",
      "Epoch 162/350\n",
      "15/15 [==============================] - 0s 15ms/step - loss: 39.4823\n",
      "Epoch 163/350\n",
      "15/15 [==============================] - 0s 15ms/step - loss: 39.5007\n",
      "Epoch 164/350\n",
      "15/15 [==============================] - 0s 18ms/step - loss: 39.4508\n",
      "Epoch 165/350\n",
      "15/15 [==============================] - 0s 16ms/step - loss: 39.4465\n",
      "Epoch 166/350\n",
      "15/15 [==============================] - 0s 15ms/step - loss: 39.3976\n",
      "Epoch 167/350\n",
      "15/15 [==============================] - 0s 15ms/step - loss: 39.3678 0s - loss: 3\n",
      "Epoch 168/350\n",
      "15/15 [==============================] - 0s 16ms/step - loss: 39.3488\n",
      "Epoch 169/350\n",
      "15/15 [==============================] - 0s 16ms/step - loss: 39.3305\n",
      "Epoch 170/350\n",
      "15/15 [==============================] - 0s 17ms/step - loss: 39.3183\n",
      "Epoch 171/350\n",
      "15/15 [==============================] - 0s 18ms/step - loss: 39.3202\n",
      "Epoch 172/350\n",
      "15/15 [==============================] - 0s 16ms/step - loss: 39.2903\n",
      "Epoch 173/350\n",
      "15/15 [==============================] - 0s 19ms/step - loss: 39.2521\n",
      "Epoch 174/350\n",
      "15/15 [==============================] - 0s 21ms/step - loss: 39.2293\n",
      "Epoch 175/350\n",
      "15/15 [==============================] - 0s 17ms/step - loss: 39.2334\n",
      "Epoch 176/350\n",
      "15/15 [==============================] - 0s 16ms/step - loss: 39.2122 0s - loss: 37.\n",
      "Epoch 177/350\n",
      "15/15 [==============================] - 0s 16ms/step - loss: 39.2027\n",
      "Epoch 178/350\n",
      "15/15 [==============================] - 0s 19ms/step - loss: 39.1819\n",
      "Epoch 179/350\n",
      "15/15 [==============================] - 0s 16ms/step - loss: 39.1719\n",
      "Epoch 180/350\n",
      "15/15 [==============================] - 0s 15ms/step - loss: 39.1331 0s - loss: 38.\n",
      "Epoch 181/350\n",
      "15/15 [==============================] - 0s 16ms/step - loss: 39.1269\n",
      "Epoch 182/350\n",
      "15/15 [==============================] - 0s 15ms/step - loss: 39.1316\n",
      "Epoch 183/350\n",
      "15/15 [==============================] - 0s 18ms/step - loss: 39.1258\n",
      "Epoch 184/350\n",
      "15/15 [==============================] - 0s 19ms/step - loss: 39.0812\n",
      "Epoch 185/350\n",
      "15/15 [==============================] - 0s 16ms/step - loss: 39.0983\n",
      "Epoch 186/350\n",
      "15/15 [==============================] - 0s 16ms/step - loss: 39.0582\n",
      "Epoch 187/350\n",
      "15/15 [==============================] - 0s 17ms/step - loss: 39.0730\n",
      "Epoch 188/350\n",
      "15/15 [==============================] - 0s 16ms/step - loss: 39.0591\n",
      "Epoch 189/350\n",
      "15/15 [==============================] - 0s 18ms/step - loss: 39.0366\n",
      "Epoch 190/350\n",
      "15/15 [==============================] - ETA: 0s - loss: 38.13 - 0s 17ms/step - loss: 39.0460\n",
      "Epoch 191/350\n",
      "15/15 [==============================] - 0s 18ms/step - loss: 39.0259\n",
      "Epoch 192/350\n",
      "15/15 [==============================] - 0s 18ms/step - loss: 39.0036\n",
      "Epoch 193/350\n",
      "15/15 [==============================] - 0s 18ms/step - loss: 39.0362\n",
      "Epoch 194/350\n",
      "15/15 [==============================] - 0s 18ms/step - loss: 39.0195\n",
      "Epoch 195/350\n",
      "15/15 [==============================] - 0s 19ms/step - loss: 38.9833\n",
      "Epoch 196/350\n",
      "15/15 [==============================] - 0s 20ms/step - loss: 38.9848\n",
      "Epoch 197/350\n",
      "15/15 [==============================] - 0s 18ms/step - loss: 38.9850\n",
      "Epoch 198/350\n",
      "15/15 [==============================] - 0s 18ms/step - loss: 38.9724\n",
      "Epoch 199/350\n",
      "15/15 [==============================] - 0s 22ms/step - loss: 38.9818\n",
      "Epoch 200/350\n",
      "15/15 [==============================] - 0s 17ms/step - loss: 38.9535\n",
      "Epoch 201/350\n",
      "15/15 [==============================] - 0s 17ms/step - loss: 38.9642\n",
      "Epoch 202/350\n",
      "15/15 [==============================] - 0s 17ms/step - loss: 38.9414\n",
      "Epoch 203/350\n",
      "15/15 [==============================] - 0s 18ms/step - loss: 38.9447\n",
      "Epoch 204/350\n",
      "15/15 [==============================] - 0s 26ms/step - loss: 38.9468\n",
      "Epoch 205/350\n",
      "15/15 [==============================] - 0s 20ms/step - loss: 38.9321\n",
      "Epoch 206/350\n",
      "15/15 [==============================] - 0s 17ms/step - loss: 38.9275\n",
      "Epoch 207/350\n",
      "15/15 [==============================] - 0s 18ms/step - loss: 38.9219\n",
      "Epoch 208/350\n",
      "15/15 [==============================] - 0s 17ms/step - loss: 38.9155\n",
      "Epoch 209/350\n",
      "15/15 [==============================] - 0s 17ms/step - loss: 38.9123\n",
      "Epoch 210/350\n",
      "15/15 [==============================] - 0s 23ms/step - loss: 38.9019\n",
      "Epoch 211/350\n",
      "15/15 [==============================] - 0s 18ms/step - loss: 38.8984\n",
      "Epoch 212/350\n",
      "15/15 [==============================] - 0s 18ms/step - loss: 38.8783\n",
      "Epoch 213/350\n",
      "15/15 [==============================] - 0s 19ms/step - loss: 38.8918\n",
      "Epoch 214/350\n",
      "15/15 [==============================] - 0s 18ms/step - loss: 38.8791\n",
      "Epoch 215/350\n",
      "15/15 [==============================] - 0s 16ms/step - loss: 38.8798\n",
      "Epoch 216/350\n",
      "15/15 [==============================] - 0s 17ms/step - loss: 38.8591\n",
      "Epoch 217/350\n",
      "15/15 [==============================] - 0s 16ms/step - loss: 38.8437\n",
      "Epoch 218/350\n",
      "15/15 [==============================] - 0s 18ms/step - loss: 38.8877 0s - loss: 38.57\n",
      "Epoch 219/350\n",
      "15/15 [==============================] - 0s 20ms/step - loss: 38.8384\n",
      "Epoch 220/350\n",
      "15/15 [==============================] - 0s 18ms/step - loss: 38.8374\n",
      "Epoch 221/350\n",
      "15/15 [==============================] - 0s 19ms/step - loss: 38.8517\n",
      "Epoch 222/350\n",
      "15/15 [==============================] - 0s 18ms/step - loss: 38.8152\n",
      "Epoch 223/350\n",
      "15/15 [==============================] - 0s 18ms/step - loss: 38.8315\n",
      "Epoch 224/350\n",
      "15/15 [==============================] - 0s 17ms/step - loss: 38.8288\n",
      "Epoch 225/350\n",
      "15/15 [==============================] - 0s 16ms/step - loss: 38.7946\n",
      "Epoch 226/350\n",
      "15/15 [==============================] - 0s 16ms/step - loss: 38.8316\n",
      "Epoch 227/350\n",
      "15/15 [==============================] - 0s 17ms/step - loss: 38.7925\n",
      "Epoch 228/350\n",
      "15/15 [==============================] - 0s 16ms/step - loss: 38.8081\n",
      "Epoch 229/350\n",
      "15/15 [==============================] - 0s 16ms/step - loss: 38.7976\n",
      "Epoch 230/350\n",
      "15/15 [==============================] - 0s 16ms/step - loss: 38.7840\n",
      "Epoch 231/350\n",
      "15/15 [==============================] - 0s 18ms/step - loss: 38.7879\n",
      "Epoch 232/350\n",
      "15/15 [==============================] - 0s 17ms/step - loss: 38.7850\n",
      "Epoch 233/350\n",
      "15/15 [==============================] - 0s 17ms/step - loss: 38.7807\n",
      "Epoch 234/350\n",
      "15/15 [==============================] - 0s 17ms/step - loss: 38.7607\n",
      "Epoch 235/350\n",
      "15/15 [==============================] - 0s 18ms/step - loss: 38.7671\n",
      "Epoch 236/350\n",
      "15/15 [==============================] - 0s 18ms/step - loss: 38.7752\n",
      "Epoch 237/350\n",
      "15/15 [==============================] - 0s 17ms/step - loss: 38.7886\n",
      "Epoch 238/350\n",
      "15/15 [==============================] - 0s 17ms/step - loss: 38.7340 0s - loss: 38.\n",
      "Epoch 239/350\n",
      "15/15 [==============================] - 0s 17ms/step - loss: 38.7362\n",
      "Epoch 240/350\n",
      "15/15 [==============================] - 0s 18ms/step - loss: 38.7428\n",
      "Epoch 241/350\n",
      "15/15 [==============================] - 0s 18ms/step - loss: 38.7544\n",
      "Epoch 242/350\n",
      "15/15 [==============================] - 0s 20ms/step - loss: 38.7587\n",
      "Epoch 243/350\n",
      "15/15 [==============================] - 0s 15ms/step - loss: 38.7413\n",
      "Epoch 244/350\n",
      "15/15 [==============================] - 0s 16ms/step - loss: 38.7295\n",
      "Epoch 245/350\n",
      "15/15 [==============================] - 0s 15ms/step - loss: 38.7282\n",
      "Epoch 246/350\n",
      "15/15 [==============================] - 0s 17ms/step - loss: 38.7515\n",
      "Epoch 247/350\n",
      "15/15 [==============================] - 0s 15ms/step - loss: 38.7221\n",
      "Epoch 248/350\n",
      "15/15 [==============================] - 0s 15ms/step - loss: 38.7202\n",
      "Epoch 249/350\n",
      "15/15 [==============================] - 0s 14ms/step - loss: 38.7208\n",
      "Epoch 250/350\n",
      "15/15 [==============================] - 0s 17ms/step - loss: 38.7385\n",
      "Epoch 251/350\n",
      "15/15 [==============================] - 0s 17ms/step - loss: 38.7041\n",
      "Epoch 252/350\n",
      "15/15 [==============================] - 0s 18ms/step - loss: 38.6937\n",
      "Epoch 253/350\n",
      "15/15 [==============================] - 0s 17ms/step - loss: 38.6936\n",
      "Epoch 254/350\n",
      "15/15 [==============================] - 0s 16ms/step - loss: 38.6949\n",
      "Epoch 255/350\n",
      "15/15 [==============================] - 0s 17ms/step - loss: 38.7096\n",
      "Epoch 256/350\n",
      "15/15 [==============================] - 0s 16ms/step - loss: 38.7240\n",
      "Epoch 257/350\n",
      "15/15 [==============================] - 0s 17ms/step - loss: 38.6820\n",
      "Epoch 258/350\n",
      "15/15 [==============================] - 0s 17ms/step - loss: 38.6714\n",
      "Epoch 259/350\n",
      "15/15 [==============================] - 0s 18ms/step - loss: 38.6990\n",
      "Epoch 260/350\n",
      "15/15 [==============================] - 0s 18ms/step - loss: 38.6954\n",
      "Epoch 261/350\n",
      "15/15 [==============================] - 0s 19ms/step - loss: 38.6606\n",
      "Epoch 262/350\n",
      "15/15 [==============================] - 0s 17ms/step - loss: 38.6807\n",
      "Epoch 263/350\n",
      "15/15 [==============================] - 0s 17ms/step - loss: 38.6750\n",
      "Epoch 264/350\n",
      "15/15 [==============================] - 0s 17ms/step - loss: 38.6769\n",
      "Epoch 265/350\n",
      "15/15 [==============================] - ETA: 0s - loss: 38.31 - 0s 19ms/step - loss: 38.6602\n",
      "Epoch 266/350\n",
      "15/15 [==============================] - 0s 17ms/step - loss: 38.6742\n",
      "Epoch 267/350\n",
      "15/15 [==============================] - 0s 17ms/step - loss: 38.6831\n",
      "Epoch 268/350\n",
      "15/15 [==============================] - 0s 18ms/step - loss: 38.6571\n",
      "Epoch 269/350\n",
      "15/15 [==============================] - 0s 17ms/step - loss: 38.6711\n",
      "Epoch 270/350\n",
      "15/15 [==============================] - 0s 18ms/step - loss: 38.6744\n",
      "Epoch 271/350\n",
      "15/15 [==============================] - 0s 17ms/step - loss: 38.6297\n",
      "Epoch 272/350\n",
      "15/15 [==============================] - 0s 16ms/step - loss: 38.6569\n",
      "Epoch 273/350\n",
      "15/15 [==============================] - 0s 17ms/step - loss: 38.6624\n",
      "Epoch 274/350\n",
      "15/15 [==============================] - 0s 18ms/step - loss: 38.6597\n",
      "Epoch 275/350\n",
      "15/15 [==============================] - 0s 18ms/step - loss: 38.6402\n",
      "Epoch 276/350\n",
      "15/15 [==============================] - 0s 22ms/step - loss: 38.6531\n",
      "Epoch 277/350\n",
      "15/15 [==============================] - 0s 18ms/step - loss: 38.6447\n",
      "Epoch 278/350\n",
      "15/15 [==============================] - 0s 18ms/step - loss: 38.6296\n",
      "Epoch 279/350\n",
      "15/15 [==============================] - 0s 18ms/step - loss: 38.6221\n",
      "Epoch 280/350\n",
      "15/15 [==============================] - 0s 18ms/step - loss: 38.6380 0s - loss: 3\n",
      "Epoch 281/350\n",
      "15/15 [==============================] - 0s 19ms/step - loss: 38.6357\n",
      "Epoch 282/350\n",
      "15/15 [==============================] - 0s 17ms/step - loss: 38.6488\n",
      "Epoch 283/350\n",
      "15/15 [==============================] - 0s 18ms/step - loss: 38.6124\n",
      "Epoch 284/350\n",
      "15/15 [==============================] - 0s 18ms/step - loss: 38.6142\n",
      "Epoch 285/350\n",
      "15/15 [==============================] - 0s 17ms/step - loss: 38.6375\n",
      "Epoch 286/350\n",
      "15/15 [==============================] - 0s 18ms/step - loss: 38.6192\n",
      "Epoch 287/350\n",
      "15/15 [==============================] - 0s 17ms/step - loss: 38.6317\n",
      "Epoch 288/350\n",
      "15/15 [==============================] - 0s 16ms/step - loss: 38.6146\n",
      "Epoch 289/350\n",
      "15/15 [==============================] - 0s 17ms/step - loss: 38.6007\n",
      "Epoch 290/350\n",
      "15/15 [==============================] - 0s 17ms/step - loss: 38.6111\n",
      "Epoch 291/350\n",
      "15/15 [==============================] - 0s 17ms/step - loss: 38.6275\n",
      "Epoch 292/350\n",
      "15/15 [==============================] - 0s 17ms/step - loss: 38.6460 0s - loss:\n",
      "Epoch 293/350\n",
      "15/15 [==============================] - 0s 17ms/step - loss: 38.6184\n",
      "Epoch 294/350\n",
      "15/15 [==============================] - 0s 18ms/step - loss: 38.6238 0s - loss:\n",
      "Epoch 295/350\n",
      "15/15 [==============================] - 0s 18ms/step - loss: 38.6151\n",
      "Epoch 296/350\n",
      "15/15 [==============================] - 0s 17ms/step - loss: 38.6046\n",
      "Epoch 297/350\n",
      "15/15 [==============================] - 0s 16ms/step - loss: 38.5901\n",
      "Epoch 298/350\n",
      "15/15 [==============================] - ETA: 0s - loss: 38.2313 ETA: 0s - loss: 4 - 0s 17ms/step - loss: 38.5949\n",
      "Epoch 299/350\n",
      "15/15 [==============================] - 0s 18ms/step - loss: 38.6174\n",
      "Epoch 300/350\n",
      "15/15 [==============================] - 0s 17ms/step - loss: 38.6054\n",
      "Epoch 301/350\n",
      "15/15 [==============================] - 0s 18ms/step - loss: 38.6443\n",
      "Epoch 302/350\n",
      "15/15 [==============================] - 0s 17ms/step - loss: 38.5828\n",
      "Epoch 303/350\n",
      "15/15 [==============================] - 0s 17ms/step - loss: 38.5863\n",
      "Epoch 304/350\n",
      "15/15 [==============================] - 0s 17ms/step - loss: 38.5905\n",
      "Epoch 305/350\n",
      "15/15 [==============================] - 0s 16ms/step - loss: 38.5851\n",
      "Epoch 306/350\n",
      "15/15 [==============================] - 0s 17ms/step - loss: 38.5960\n",
      "Epoch 307/350\n",
      "15/15 [==============================] - 0s 19ms/step - loss: 38.6365\n",
      "Epoch 308/350\n",
      "15/15 [==============================] - 0s 28ms/step - loss: 38.5726\n",
      "Epoch 309/350\n",
      "15/15 [==============================] - 0s 27ms/step - loss: 38.5784\n",
      "Epoch 310/350\n",
      "15/15 [==============================] - 0s 30ms/step - loss: 38.5764\n",
      "Epoch 311/350\n",
      "15/15 [==============================] - 0s 31ms/step - loss: 38.5569\n",
      "Epoch 312/350\n",
      "15/15 [==============================] - 0s 24ms/step - loss: 38.5625\n",
      "Epoch 313/350\n",
      "15/15 [==============================] - 0s 21ms/step - loss: 38.5877\n",
      "Epoch 314/350\n",
      "15/15 [==============================] - 0s 16ms/step - loss: 38.5894 0s - loss:\n",
      "Epoch 315/350\n",
      "15/15 [==============================] - 0s 15ms/step - loss: 38.5858\n",
      "Epoch 316/350\n",
      "15/15 [==============================] - 0s 14ms/step - loss: 38.5837\n",
      "Epoch 317/350\n",
      "15/15 [==============================] - 0s 16ms/step - loss: 38.5628\n",
      "Epoch 318/350\n",
      "15/15 [==============================] - 0s 16ms/step - loss: 38.5723\n",
      "Epoch 319/350\n",
      "15/15 [==============================] - 0s 19ms/step - loss: 38.5554\n",
      "Epoch 320/350\n",
      "15/15 [==============================] - 0s 17ms/step - loss: 38.5753\n",
      "Epoch 321/350\n",
      "15/15 [==============================] - 0s 21ms/step - loss: 38.5719\n",
      "Epoch 322/350\n",
      "15/15 [==============================] - 0s 19ms/step - loss: 38.5294\n",
      "Epoch 323/350\n",
      "15/15 [==============================] - 0s 18ms/step - loss: 38.5444\n",
      "Epoch 324/350\n",
      "15/15 [==============================] - 0s 17ms/step - loss: 38.5540\n",
      "Epoch 325/350\n",
      "15/15 [==============================] - 0s 16ms/step - loss: 38.5568\n",
      "Epoch 326/350\n",
      "15/15 [==============================] - 0s 18ms/step - loss: 38.5772\n",
      "Epoch 327/350\n",
      "15/15 [==============================] - 0s 20ms/step - loss: 38.5739\n",
      "Epoch 328/350\n",
      "15/15 [==============================] - 0s 17ms/step - loss: 38.5696\n",
      "Epoch 329/350\n",
      "15/15 [==============================] - 0s 18ms/step - loss: 38.5710\n",
      "Epoch 330/350\n",
      "15/15 [==============================] - 0s 15ms/step - loss: 38.5197\n",
      "Epoch 331/350\n",
      "15/15 [==============================] - 0s 15ms/step - loss: 38.5367\n",
      "Epoch 332/350\n",
      "15/15 [==============================] - 0s 15ms/step - loss: 38.5503\n",
      "Epoch 333/350\n",
      "15/15 [==============================] - 0s 14ms/step - loss: 38.5467\n",
      "Epoch 334/350\n",
      "15/15 [==============================] - 0s 15ms/step - loss: 38.5479\n",
      "Epoch 335/350\n",
      "15/15 [==============================] - 0s 16ms/step - loss: 38.5145\n",
      "Epoch 336/350\n",
      "15/15 [==============================] - 0s 16ms/step - loss: 38.5064\n",
      "Epoch 337/350\n",
      "15/15 [==============================] - 0s 14ms/step - loss: 38.5573\n",
      "Epoch 338/350\n",
      "15/15 [==============================] - 0s 14ms/step - loss: 38.5589\n",
      "Epoch 339/350\n",
      "15/15 [==============================] - 0s 15ms/step - loss: 38.5214\n",
      "Epoch 340/350\n",
      "15/15 [==============================] - 0s 18ms/step - loss: 38.5186\n",
      "Epoch 341/350\n",
      "15/15 [==============================] - 0s 18ms/step - loss: 38.5292\n",
      "Epoch 342/350\n",
      "15/15 [==============================] - ETA: 0s - loss: 37.57 - 0s 16ms/step - loss: 38.5452\n",
      "Epoch 343/350\n",
      "15/15 [==============================] - 0s 16ms/step - loss: 38.5261\n",
      "Epoch 344/350\n",
      "15/15 [==============================] - 0s 17ms/step - loss: 38.5196\n",
      "Epoch 345/350\n",
      "15/15 [==============================] - ETA: 0s - loss: 37.55 - 0s 16ms/step - loss: 38.5307\n",
      "Epoch 346/350\n",
      "15/15 [==============================] - 0s 15ms/step - loss: 38.5235\n",
      "Epoch 347/350\n",
      "15/15 [==============================] - 0s 18ms/step - loss: 38.5158\n",
      "Epoch 348/350\n",
      "15/15 [==============================] - 0s 17ms/step - loss: 38.5071\n",
      "Epoch 349/350\n",
      "15/15 [==============================] - 0s 14ms/step - loss: 38.5349\n",
      "Epoch 350/350\n",
      "15/15 [==============================] - 0s 15ms/step - loss: 38.5088\n"
     ]
    },
    {
     "data": {
      "text/plain": [
       "[<matplotlib.lines.Line2D at 0x1b86e029220>]"
      ]
     },
     "execution_count": 86,
     "metadata": {},
     "output_type": "execute_result"
    },
    {
     "data": {
      "image/png": "[encoded data removed]",
      "text/plain": [
       "<Figure size 432x288 with 1 Axes>"
      ]
     },
     "metadata": {
      "needs_background": "light"
     },
     "output_type": "display_data"
    }
   ],
   "source": [
    "model = tf.keras.models.Sequential()\n",
    "model.add(tf.keras.layers.LSTM(2, input_shape=(10,1)))\n",
    "model.add(tf.keras.layers.Dense(8))\n",
    "model.add(tf.keras.layers.Dense(8))\n",
    "model.add(tf.keras.layers.Dense(2))\n",
    "model.compile(loss='mae', optimizer='adam')\n",
    "\n",
    "history = model.fit(windows_2, step_ahead, epochs = 350, batch_size=32, verbose=1, shuffle=False)\n",
    "plt.plot(history.history['loss'])"
   ]
  },
  {
   "cell_type": "code",
   "execution_count": 89,
   "metadata": {},
   "outputs": [
    {
     "name": "stdout",
     "output_type": "stream",
     "text": [
      "WARNING:tensorflow:5 out of the last 10 calls to <function Model.make_predict_function.<locals>.predict_function at 0x000001B86E042DC0> triggered tf.function retracing. Tracing is expensive and the excessive number of tracings could be due to (1) creating @tf.function repeatedly in a loop, (2) passing tensors with different shapes, (3) passing Python objects instead of tensors. For (1), please define your @tf.function outside of the loop. For (2), @tf.function has experimental_relax_shapes=True option that relaxes argument shapes that can avoid unnecessary retracing. For (3), please refer to https://www.tensorflow.org/tutorials/customization/performance#python_or_tensor_args and https://www.tensorflow.org/api_docs/python/tf/function for  more details.\n"
     ]
    },
    {
     "data": {
      "text/plain": [
       "array([[93.272224, 94.60262 ]], dtype=float32)"
      ]
     },
     "execution_count": 89,
     "metadata": {},
     "output_type": "execute_result"
    }
   ],
   "source": [
    "model.predict(x[100:110].reshape(1, 10, 1))"
   ]
  },
  {
   "cell_type": "code",
   "execution_count": 90,
   "metadata": {},
   "outputs": [
    {
     "data": {
      "text/plain": [
       "array([106, 211], dtype=int64)"
      ]
     },
     "execution_count": 90,
     "metadata": {},
     "output_type": "execute_result"
    }
   ],
   "source": [
    "x[111:113]"
   ]
  },
  {
   "cell_type": "code",
   "execution_count": 99,
   "metadata": {},
   "outputs": [
    {
     "data": {
      "text/plain": [
       "[<matplotlib.lines.Line2D at 0x1b870bd1ac0>]"
      ]
     },
     "execution_count": 99,
     "metadata": {},
     "output_type": "execute_result"
    },
    {
     "data": {
      "image/png": "[encoded data removed]",
      "text/plain": [
       "<Figure size 432x288 with 1 Axes>"
      ]
     },
     "metadata": {
      "needs_background": "light"
     },
     "output_type": "display_data"
    }
   ],
   "source": [
    "plt.plot(x[100:112]) #até a 112\n",
    "plt.plot(range(10, 12), model.predict(x[100:110].reshape(1, 10, 1)).T) "
   ]
  },
  {
   "cell_type": "code",
   "execution_count": 94,
   "metadata": {},
   "outputs": [
    {
     "data": {
      "text/plain": [
       "(10,)"
      ]
     },
     "execution_count": 94,
     "metadata": {},
     "output_type": "execute_result"
    }
   ],
   "source": [
    "x[100:110].shape"
   ]
  },
  {
   "cell_type": "code",
   "execution_count": 98,
   "metadata": {},
   "outputs": [
    {
     "data": {
      "text/plain": [
       "[10, 11]"
      ]
     },
     "execution_count": 98,
     "metadata": {},
     "output_type": "execute_result"
    }
   ],
   "source": [
    "list(range(10, 12))"
   ]
  },
  {
   "cell_type": "code",
   "execution_count": 45,
   "metadata": {},
   "outputs": [
    {
     "data": {
      "text/plain": [
       "100     78\n",
       "101     82\n",
       "102     84\n",
       "103     58\n",
       "104    114\n",
       "105    145\n",
       "106     93\n",
       "107    129\n",
       "108    114\n",
       "109     86\n",
       "110    127\n",
       "111    106\n",
       "112    211\n",
       "Name: BUDAPEST, dtype: int64"
      ]
     },
     "execution_count": 45,
     "metadata": {},
     "output_type": "execute_result"
    }
   ],
   "source": [
    "raw_data['BUDAPEST'][100:113]"
   ]
  },
  {
   "cell_type": "code",
   "execution_count": 52,
   "metadata": {},
   "outputs": [
    {
     "data": {
      "text/plain": [
       "490    124\n",
       "491    235\n",
       "492     88\n",
       "493    187\n",
       "494    140\n",
       "495    111\n",
       "496     72\n",
       "497     75\n",
       "498     44\n",
       "499     40\n",
       "500     37\n",
       "501     10\n",
       "502      6\n",
       "503      7\n",
       "504      5\n",
       "505     10\n",
       "506     11\n",
       "507     16\n",
       "508     20\n",
       "509     17\n",
       "510     21\n",
       "511     34\n",
       "512     28\n",
       "513     44\n",
       "514     33\n",
       "515     85\n",
       "516     16\n",
       "517     95\n",
       "518     43\n",
       "519     35\n",
       "520     30\n",
       "521    259\n",
       "Name: BUDAPEST, dtype: int64"
      ]
     },
     "execution_count": 52,
     "metadata": {},
     "output_type": "execute_result"
    }
   ],
   "source": [
    "raw_data['BUDAPEST'][490:]"
   ]
  },
  {
   "cell_type": "code",
   "execution_count": 65,
   "metadata": {},
   "outputs": [
    {
     "data": {
      "text/plain": [
       "490    124\n",
       "491    235\n",
       "492     88\n",
       "493    187\n",
       "494    140\n",
       "495    111\n",
       "496     72\n",
       "497     75\n",
       "498     44\n",
       "499     40\n",
       "500     37\n",
       "501     10\n",
       "502      6\n",
       "Name: BUDAPEST, dtype: int64"
      ]
     },
     "execution_count": 65,
     "metadata": {},
     "output_type": "execute_result"
    }
   ],
   "source": [
    "raw_data['BUDAPEST'][490:503]"
   ]
  },
  {
   "cell_type": "code",
   "execution_count": 100,
   "metadata": {},
   "outputs": [
    {
     "data": {
      "text/plain": [
       "array([[52.378185, 53.346592]], dtype=float32)"
      ]
     },
     "execution_count": 100,
     "metadata": {},
     "output_type": "execute_result"
    }
   ],
   "source": [
    "model.predict(x[490:500].reshape(1, 10, 1))"
   ]
  },
  {
   "cell_type": "code",
   "execution_count": 101,
   "metadata": {},
   "outputs": [
    {
     "data": {
      "text/plain": [
       "array([[52.378185, 53.346592]], dtype=float32)"
      ]
     },
     "execution_count": 101,
     "metadata": {},
     "output_type": "execute_result"
    }
   ],
   "source": [
    "model.predict(x[490:500].reshape(1, 10, 1))"
   ]
  },
  {
   "cell_type": "code",
   "execution_count": 102,
   "metadata": {},
   "outputs": [
    {
     "data": {
      "text/plain": [
       "[<matplotlib.lines.Line2D at 0x1b870be7af0>]"
      ]
     },
     "execution_count": 102,
     "metadata": {},
     "output_type": "execute_result"
    },
    {
     "data": {
      "image/png": "[encoded data removed]",
      "text/plain": [
       "<Figure size 432x288 with 1 Axes>"
      ]
     },
     "metadata": {
      "needs_background": "light"
     },
     "output_type": "display_data"
    }
   ],
   "source": [
    "plt.plot(x[490:502]) #até a 112\n",
    "plt.plot(range(10, 12), model.predict(x[490:500].reshape(1, 10, 1)).T) "
   ]
  },
  {
   "cell_type": "code",
   "execution_count": 103,
   "metadata": {},
   "outputs": [
    {
     "data": {
      "text/plain": [
       "[<matplotlib.lines.Line2D at 0x1b86f4eb520>]"
      ]
     },
     "execution_count": 103,
     "metadata": {},
     "output_type": "execute_result"
    },
    {
     "data": {
      "image/png": "[encoded data removed]",
      "text/plain": [
       "<Figure size 432x288 with 1 Axes>"
      ]
     },
     "metadata": {
      "needs_background": "light"
     },
     "output_type": "display_data"
    }
   ],
   "source": [
    "plt.plot(x[503:515])\n",
    "plt.plot(range(10, 12), model.predict(x[503:513].reshape(1, 10, 1)).T) "
   ]
  },
  {
   "cell_type": "code",
   "execution_count": null,
   "metadata": {},
   "outputs": [],
   "source": []
  }
 ],
 "metadata": {
  "kernelspec": {
   "display_name": "Python 3",
   "language": "python",
   "name": "python3"
  },
  "language_info": {
   "codemirror_mode": {
    "name": "ipython",
    "version": 3
   },
   "file_extension": ".py",
   "mimetype": "text/x-python",
   "name": "python",
   "nbconvert_exporter": "python",
   "pygments_lexer": "ipython3",
   "version": "3.8.5"
  }
 },
 "nbformat": 4,
 "nbformat_minor": 4
}
