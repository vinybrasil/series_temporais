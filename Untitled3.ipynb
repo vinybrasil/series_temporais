{
 "cells": [
  {
   "cell_type": "code",
   "execution_count": 10,
   "metadata": {},
   "outputs": [],
   "source": [
    "import pandas as pd\n",
    "import matplotlib.pyplot as plt"
   ]
  },
  {
   "cell_type": "code",
   "execution_count": 3,
   "metadata": {},
   "outputs": [],
   "source": [
    "data= pd.read_csv(\"datasets/covid_brasil.csv\")"
   ]
  },
  {
   "cell_type": "code",
   "execution_count": 4,
   "metadata": {},
   "outputs": [
    {
     "data": {
      "text/html": [
       "<div>\n",
       "<style scoped>\n",
       "    .dataframe tbody tr th:only-of-type {\n",
       "        vertical-align: middle;\n",
       "    }\n",
       "\n",
       "    .dataframe tbody tr th {\n",
       "        vertical-align: top;\n",
       "    }\n",
       "\n",
       "    .dataframe thead th {\n",
       "        text-align: right;\n",
       "    }\n",
       "</style>\n",
       "<table border=\"1\" class=\"dataframe\">\n",
       "  <thead>\n",
       "    <tr style=\"text-align: right;\">\n",
       "      <th></th>\n",
       "      <th>Entity</th>\n",
       "      <th>Code</th>\n",
       "      <th>Day</th>\n",
       "      <th>Daily new confirmed deaths due to COVID-19 (rolling 7-day average, right-aligned)</th>\n",
       "    </tr>\n",
       "  </thead>\n",
       "  <tbody>\n",
       "    <tr>\n",
       "      <th>0</th>\n",
       "      <td>Afghanistan</td>\n",
       "      <td>AFG</td>\n",
       "      <td>2020-03-24</td>\n",
       "      <td>0.33333</td>\n",
       "    </tr>\n",
       "    <tr>\n",
       "      <th>1</th>\n",
       "      <td>Afghanistan</td>\n",
       "      <td>AFG</td>\n",
       "      <td>2020-03-25</td>\n",
       "      <td>0.50000</td>\n",
       "    </tr>\n",
       "    <tr>\n",
       "      <th>2</th>\n",
       "      <td>Afghanistan</td>\n",
       "      <td>AFG</td>\n",
       "      <td>2020-03-26</td>\n",
       "      <td>0.60000</td>\n",
       "    </tr>\n",
       "    <tr>\n",
       "      <th>3</th>\n",
       "      <td>Afghanistan</td>\n",
       "      <td>AFG</td>\n",
       "      <td>2020-03-27</td>\n",
       "      <td>0.50000</td>\n",
       "    </tr>\n",
       "    <tr>\n",
       "      <th>4</th>\n",
       "      <td>Afghanistan</td>\n",
       "      <td>AFG</td>\n",
       "      <td>2020-03-28</td>\n",
       "      <td>0.57143</td>\n",
       "    </tr>\n",
       "    <tr>\n",
       "      <th>...</th>\n",
       "      <td>...</td>\n",
       "      <td>...</td>\n",
       "      <td>...</td>\n",
       "      <td>...</td>\n",
       "    </tr>\n",
       "    <tr>\n",
       "      <th>70743</th>\n",
       "      <td>Zimbabwe</td>\n",
       "      <td>ZWE</td>\n",
       "      <td>2021-03-26</td>\n",
       "      <td>1.14286</td>\n",
       "    </tr>\n",
       "    <tr>\n",
       "      <th>70744</th>\n",
       "      <td>Zimbabwe</td>\n",
       "      <td>ZWE</td>\n",
       "      <td>2021-03-27</td>\n",
       "      <td>1.28571</td>\n",
       "    </tr>\n",
       "    <tr>\n",
       "      <th>70745</th>\n",
       "      <td>Zimbabwe</td>\n",
       "      <td>ZWE</td>\n",
       "      <td>2021-03-28</td>\n",
       "      <td>1.14286</td>\n",
       "    </tr>\n",
       "    <tr>\n",
       "      <th>70746</th>\n",
       "      <td>Zimbabwe</td>\n",
       "      <td>ZWE</td>\n",
       "      <td>2021-03-29</td>\n",
       "      <td>0.85714</td>\n",
       "    </tr>\n",
       "    <tr>\n",
       "      <th>70747</th>\n",
       "      <td>Zimbabwe</td>\n",
       "      <td>ZWE</td>\n",
       "      <td>2021-03-30</td>\n",
       "      <td>0.57143</td>\n",
       "    </tr>\n",
       "  </tbody>\n",
       "</table>\n",
       "<p>70748 rows × 4 columns</p>\n",
       "</div>"
      ],
      "text/plain": [
       "            Entity Code         Day  \\\n",
       "0      Afghanistan  AFG  2020-03-24   \n",
       "1      Afghanistan  AFG  2020-03-25   \n",
       "2      Afghanistan  AFG  2020-03-26   \n",
       "3      Afghanistan  AFG  2020-03-27   \n",
       "4      Afghanistan  AFG  2020-03-28   \n",
       "...            ...  ...         ...   \n",
       "70743     Zimbabwe  ZWE  2021-03-26   \n",
       "70744     Zimbabwe  ZWE  2021-03-27   \n",
       "70745     Zimbabwe  ZWE  2021-03-28   \n",
       "70746     Zimbabwe  ZWE  2021-03-29   \n",
       "70747     Zimbabwe  ZWE  2021-03-30   \n",
       "\n",
       "       Daily new confirmed deaths due to COVID-19 (rolling 7-day average, right-aligned)  \n",
       "0                                                0.33333                                  \n",
       "1                                                0.50000                                  \n",
       "2                                                0.60000                                  \n",
       "3                                                0.50000                                  \n",
       "4                                                0.57143                                  \n",
       "...                                                  ...                                  \n",
       "70743                                            1.14286                                  \n",
       "70744                                            1.28571                                  \n",
       "70745                                            1.14286                                  \n",
       "70746                                            0.85714                                  \n",
       "70747                                            0.57143                                  \n",
       "\n",
       "[70748 rows x 4 columns]"
      ]
     },
     "execution_count": 4,
     "metadata": {},
     "output_type": "execute_result"
    }
   ],
   "source": [
    "data"
   ]
  },
  {
   "cell_type": "code",
   "execution_count": 11,
   "metadata": {},
   "outputs": [],
   "source": [
    "brasil = data[data['Entity'] == 'Brazil']"
   ]
  },
  {
   "cell_type": "code",
   "execution_count": 15,
   "metadata": {},
   "outputs": [
    {
     "name": "stderr",
     "output_type": "stream",
     "text": [
      "<ipython-input-15-5cd5dac5e199>:1: SettingWithCopyWarning: \n",
      "A value is trying to be set on a copy of a slice from a DataFrame.\n",
      "Try using .loc[row_indexer,col_indexer] = value instead\n",
      "\n",
      "See the caveats in the documentation: https://pandas.pydata.org/pandas-docs/stable/user_guide/indexing.html#returning-a-view-versus-a-copy\n",
      "  brasil['tempo'] = pd.to_datetime(brasil['Day'])\n"
     ]
    }
   ],
   "source": [
    "brasil['tempo'] = pd.to_datetime(brasil['Day'])"
   ]
  },
  {
   "cell_type": "code",
   "execution_count": 18,
   "metadata": {},
   "outputs": [
    {
     "data": {
      "text/plain": [
       "[<matplotlib.lines.Line2D at 0x1eb73e6bf40>]"
      ]
     },
     "execution_count": 18,
     "metadata": {},
     "output_type": "execute_result"
    },
    {
     "data": {
      "image/png": "[encoded data removed]",
      "text/plain": [
       "<Figure size 432x288 with 1 Axes>"
      ]
     },
     "metadata": {
      "needs_background": "light"
     },
     "output_type": "display_data"
    }
   ],
   "source": [
    "plt.plot(brasil['tempo'], brasil['Daily new confirmed deaths due to COVID-19 (rolling 7-day average, right-aligned)'])"
   ]
  },
  {
   "cell_type": "code",
   "execution_count": 31,
   "metadata": {},
   "outputs": [
    {
     "data": {
      "text/plain": [
       "[<matplotlib.lines.Line2D at 0x1eb74363250>]"
      ]
     },
     "execution_count": 31,
     "metadata": {},
     "output_type": "execute_result"
    },
    {
     "data": {
      "image/png": "[encoded data removed]",
      "text/plain": [
       "<Figure size 432x288 with 1 Axes>"
      ]
     },
     "metadata": {
      "needs_background": "light"
     },
     "output_type": "display_data"
    }
   ],
   "source": [
    "plt.plot(brasil['tempo'], brasil['Daily new confirmed deaths due to COVID-19 (rolling 7-day average, right-aligned)'].diff())"
   ]
  },
  {
   "cell_type": "code",
   "execution_count": 32,
   "metadata": {},
   "outputs": [
    {
     "data": {
      "image/png": "[encoded data removed]",
      "text/plain": [
       "<Figure size 432x288 with 1 Axes>"
      ]
     },
     "metadata": {
      "needs_background": "light"
     },
     "output_type": "display_data"
    }
   ],
   "source": [
    "plt.plot(brasil['tempo'][-20:], brasil['Daily new confirmed deaths due to COVID-19 (rolling 7-day average, right-aligned)'].diff()[-20:])\n",
    "plt.grid()"
   ]
  },
  {
   "cell_type": "code",
   "execution_count": 34,
   "metadata": {},
   "outputs": [
    {
     "data": {
      "image/png": "[encoded data removed]",
      "text/plain": [
       "<Figure size 432x288 with 1 Axes>"
      ]
     },
     "metadata": {
      "needs_background": "light"
     },
     "output_type": "display_data"
    }
   ],
   "source": [
    "plt.plot(brasil['tempo'][-20:], brasil['Daily new confirmed deaths due to COVID-19 (rolling 7-day average, right-aligned)'].diff().diff()[-20:])\n",
    "plt.grid()"
   ]
  },
  {
   "cell_type": "code",
   "execution_count": 36,
   "metadata": {},
   "outputs": [
    {
     "data": {
      "text/plain": [
       "1.0928575000000023"
      ]
     },
     "execution_count": 36,
     "metadata": {},
     "output_type": "execute_result"
    }
   ],
   "source": [
    "brasil['Daily new confirmed deaths due to COVID-19 (rolling 7-day average, right-aligned)'].diff().diff()[-20:].mean()"
   ]
  },
  {
   "cell_type": "code",
   "execution_count": null,
   "metadata": {},
   "outputs": [],
   "source": [
    "plt.plot(brasil['tempo'][-20:], brasil['Daily new confirmed deaths due to COVID-19 (rolling 7-day average, right-aligned)'].diff().diff()[-20:])\n"
   ]
  },
  {
   "cell_type": "code",
   "execution_count": 74,
   "metadata": {},
   "outputs": [],
   "source": [
    "def window(x, n, w):\n",
    "    window = []\n",
    "    step_ahead = []\n",
    "    i = 1\n",
    "    while i + n + w <= len(x):\n",
    "        window.append(x[i-1:i+n-1])\n",
    "        step_ahead.append(x[i+n:i+n+w])\n",
    "        i += 1\n",
    "    return window, step_ahead"
   ]
  },
  {
   "cell_type": "code",
   "execution_count": 39,
   "metadata": {},
   "outputs": [],
   "source": [
    "window = window(brasil['Daily new confirmed deaths due to COVID-19 (rolling 7-day average, right-aligned)'].diff().diff().values, 20, 0)"
   ]
  },
  {
   "cell_type": "code",
   "execution_count": 54,
   "metadata": {},
   "outputs": [
    {
     "data": {
      "text/plain": [
       "[<matplotlib.lines.Line2D at 0x1eb75502fd0>]"
      ]
     },
     "execution_count": 54,
     "metadata": {},
     "output_type": "execute_result"
    },
    {
     "data": {
      "image/png": "[encoded data removed]",
      "text/plain": [
       "<Figure size 432x288 with 1 Axes>"
      ]
     },
     "metadata": {
      "needs_background": "light"
     },
     "output_type": "display_data"
    }
   ],
   "source": [
    "acc = []\n",
    "for  i in range(len(window[0])):\n",
    "    acc.append(window[0][i].mean())\n",
    "plt.plot(acc)"
   ]
  },
  {
   "cell_type": "code",
   "execution_count": 53,
   "metadata": {},
   "outputs": [
    {
     "data": {
      "text/plain": [
       "nan"
      ]
     },
     "execution_count": 53,
     "metadata": {},
     "output_type": "execute_result"
    }
   ],
   "source": [
    "window[0][0].mean()"
   ]
  },
  {
   "cell_type": "code",
   "execution_count": 49,
   "metadata": {},
   "outputs": [
    {
     "data": {
      "text/plain": [
       "[nan, nan]"
      ]
     },
     "execution_count": 49,
     "metadata": {},
     "output_type": "execute_result"
    }
   ],
   "source": [
    "acc"
   ]
  },
  {
   "cell_type": "code",
   "execution_count": 58,
   "metadata": {},
   "outputs": [],
   "source": [
    "import numpy as np"
   ]
  },
  {
   "cell_type": "code",
   "execution_count": 60,
   "metadata": {},
   "outputs": [],
   "source": [
    "log_br = np.log(brasil['Daily new confirmed deaths due to COVID-19 (rolling 7-day average, right-aligned)']/brasil['Daily new confirmed deaths due to COVID-19 (rolling 7-day average, right-aligned)'].shift(1))"
   ]
  },
  {
   "cell_type": "code",
   "execution_count": 70,
   "metadata": {},
   "outputs": [
    {
     "data": {
      "text/plain": [
       "[<matplotlib.lines.Line2D at 0x1eb7541a760>]"
      ]
     },
     "execution_count": 70,
     "metadata": {},
     "output_type": "execute_result"
    },
    {
     "data": {
      "image/png": "[encoded data removed]",
      "text/plain": [
       "<Figure size 432x288 with 1 Axes>"
      ]
     },
     "metadata": {
      "needs_background": "light"
     },
     "output_type": "display_data"
    }
   ],
   "source": [
    "plt.plot(brasil['tempo'][80:], log_br[80:])"
   ]
  },
  {
   "cell_type": "code",
   "execution_count": 71,
   "metadata": {},
   "outputs": [],
   "source": [
    "import tensorflow as tf"
   ]
  },
  {
   "cell_type": "code",
   "execution_count": 75,
   "metadata": {},
   "outputs": [],
   "source": [
    "window_1, step_ahead = window(log_br[80:], 10, 1)"
   ]
  },
  {
   "cell_type": "code",
   "execution_count": 78,
   "metadata": {},
   "outputs": [
    {
     "data": {
      "text/plain": [
       "(286, 10)"
      ]
     },
     "execution_count": 78,
     "metadata": {},
     "output_type": "execute_result"
    }
   ],
   "source": [
    "np.array(window_1).shape"
   ]
  },
  {
   "cell_type": "code",
   "execution_count": 80,
   "metadata": {},
   "outputs": [],
   "source": [
    "windows_2 = np.array(window_1).reshape(286,10,1)"
   ]
  },
  {
   "cell_type": "code",
   "execution_count": 81,
   "metadata": {},
   "outputs": [],
   "source": [
    "step_ahead = np.array(step_ahead)"
   ]
  },
  {
   "cell_type": "code",
   "execution_count": 82,
   "metadata": {},
   "outputs": [
    {
     "name": "stdout",
     "output_type": "stream",
     "text": [
      "Epoch 1/300\n",
      "9/9 [==============================] - 0s 28ms/step - loss: 0.0412\n",
      "Epoch 2/300\n",
      "9/9 [==============================] - 0s 17ms/step - loss: 0.0344\n",
      "Epoch 3/300\n",
      "9/9 [==============================] - 0s 18ms/step - loss: 0.0375\n",
      "Epoch 4/300\n",
      "9/9 [==============================] - 0s 17ms/step - loss: 0.0352\n",
      "Epoch 5/300\n",
      "9/9 [==============================] - 0s 18ms/step - loss: 0.0350\n",
      "Epoch 6/300\n",
      "9/9 [==============================] - 0s 17ms/step - loss: 0.0354\n",
      "Epoch 7/300\n",
      "9/9 [==============================] - 0s 17ms/step - loss: 0.0349\n",
      "Epoch 8/300\n",
      "9/9 [==============================] - 0s 18ms/step - loss: 0.0352\n",
      "Epoch 9/300\n",
      "9/9 [==============================] - 0s 17ms/step - loss: 0.0350\n",
      "Epoch 10/300\n",
      "9/9 [==============================] - 0s 18ms/step - loss: 0.0349\n",
      "Epoch 11/300\n",
      "9/9 [==============================] - 0s 17ms/step - loss: 0.0349\n",
      "Epoch 12/300\n",
      "9/9 [==============================] - 0s 17ms/step - loss: 0.0349\n",
      "Epoch 13/300\n",
      "9/9 [==============================] - 0s 17ms/step - loss: 0.0349: 0s - loss: 0.035\n",
      "Epoch 14/300\n",
      "9/9 [==============================] - 0s 17ms/step - loss: 0.0348\n",
      "Epoch 15/300\n",
      "9/9 [==============================] - 0s 17ms/step - loss: 0.0349\n",
      "Epoch 16/300\n",
      "9/9 [==============================] - 0s 17ms/step - loss: 0.0347\n",
      "Epoch 17/300\n",
      "9/9 [==============================] - ETA: 0s - loss: 0.035 - 0s 18ms/step - loss: 0.0348\n",
      "Epoch 18/300\n",
      "9/9 [==============================] - 0s 16ms/step - loss: 0.0347\n",
      "Epoch 19/300\n",
      "9/9 [==============================] - 0s 18ms/step - loss: 0.0347\n",
      "Epoch 20/300\n",
      "9/9 [==============================] - 0s 20ms/step - loss: 0.0347\n",
      "Epoch 21/300\n",
      "9/9 [==============================] - 0s 21ms/step - loss: 0.0346: 0s - loss: 0.034\n",
      "Epoch 22/300\n",
      "9/9 [==============================] - 0s 17ms/step - loss: 0.0346\n",
      "Epoch 23/300\n",
      "9/9 [==============================] - 0s 17ms/step - loss: 0.0345\n",
      "Epoch 24/300\n",
      "9/9 [==============================] - 0s 18ms/step - loss: 0.0344\n",
      "Epoch 25/300\n",
      "9/9 [==============================] - 0s 18ms/step - loss: 0.0344\n",
      "Epoch 26/300\n",
      "9/9 [==============================] - 0s 17ms/step - loss: 0.0344\n",
      "Epoch 27/300\n",
      "9/9 [==============================] - 0s 17ms/step - loss: 0.0343\n",
      "Epoch 28/300\n",
      "9/9 [==============================] - 0s 17ms/step - loss: 0.0344\n",
      "Epoch 29/300\n",
      "9/9 [==============================] - 0s 17ms/step - loss: 0.0341\n",
      "Epoch 30/300\n",
      "9/9 [==============================] - 0s 19ms/step - loss: 0.0343\n",
      "Epoch 31/300\n",
      "9/9 [==============================] - 0s 21ms/step - loss: 0.0341\n",
      "Epoch 32/300\n",
      "9/9 [==============================] - 0s 19ms/step - loss: 0.0343\n",
      "Epoch 33/300\n",
      "9/9 [==============================] - 0s 19ms/step - loss: 0.0340\n",
      "Epoch 34/300\n",
      "9/9 [==============================] - 0s 21ms/step - loss: 0.0342\n",
      "Epoch 35/300\n",
      "9/9 [==============================] - 0s 20ms/step - loss: 0.0341\n",
      "Epoch 36/300\n",
      "9/9 [==============================] - 0s 17ms/step - loss: 0.0342\n",
      "Epoch 37/300\n",
      "9/9 [==============================] - 0s 17ms/step - loss: 0.0340\n",
      "Epoch 38/300\n",
      "9/9 [==============================] - 0s 16ms/step - loss: 0.0342\n",
      "Epoch 39/300\n",
      "9/9 [==============================] - 0s 17ms/step - loss: 0.0339\n",
      "Epoch 40/300\n",
      "9/9 [==============================] - 0s 17ms/step - loss: 0.0341\n",
      "Epoch 41/300\n",
      "9/9 [==============================] - 0s 19ms/step - loss: 0.0339\n",
      "Epoch 42/300\n",
      "9/9 [==============================] - 0s 20ms/step - loss: 0.0340\n",
      "Epoch 43/300\n",
      "9/9 [==============================] - 0s 18ms/step - loss: 0.0339\n",
      "Epoch 44/300\n",
      "9/9 [==============================] - 0s 17ms/step - loss: 0.0340\n",
      "Epoch 45/300\n",
      "9/9 [==============================] - 0s 18ms/step - loss: 0.0339\n",
      "Epoch 46/300\n",
      "9/9 [==============================] - ETA: 0s - loss: 0.035 - 0s 17ms/step - loss: 0.0339\n",
      "Epoch 47/300\n",
      "9/9 [==============================] - 0s 17ms/step - loss: 0.0339\n",
      "Epoch 48/300\n",
      "9/9 [==============================] - 0s 17ms/step - loss: 0.0339\n",
      "Epoch 49/300\n",
      "9/9 [==============================] - 0s 17ms/step - loss: 0.0338\n",
      "Epoch 50/300\n",
      "9/9 [==============================] - 0s 17ms/step - loss: 0.0339\n",
      "Epoch 51/300\n",
      "9/9 [==============================] - 0s 17ms/step - loss: 0.0339\n",
      "Epoch 52/300\n",
      "9/9 [==============================] - 0s 17ms/step - loss: 0.0338\n",
      "Epoch 53/300\n",
      "9/9 [==============================] - 0s 16ms/step - loss: 0.0340\n",
      "Epoch 54/300\n",
      "9/9 [==============================] - 0s 17ms/step - loss: 0.0337\n",
      "Epoch 55/300\n",
      "9/9 [==============================] - 0s 17ms/step - loss: 0.0341\n",
      "Epoch 56/300\n",
      "9/9 [==============================] - 0s 17ms/step - loss: 0.0337\n",
      "Epoch 57/300\n",
      "9/9 [==============================] - 0s 17ms/step - loss: 0.0340\n",
      "Epoch 58/300\n",
      "9/9 [==============================] - 0s 17ms/step - loss: 0.0338\n",
      "Epoch 59/300\n",
      "9/9 [==============================] - 0s 18ms/step - loss: 0.0338\n",
      "Epoch 60/300\n",
      "9/9 [==============================] - ETA: 0s - loss: 0.035 - 0s 19ms/step - loss: 0.0338\n",
      "Epoch 61/300\n",
      "9/9 [==============================] - 0s 17ms/step - loss: 0.0338\n",
      "Epoch 62/300\n",
      "9/9 [==============================] - 0s 17ms/step - loss: 0.0338\n",
      "Epoch 63/300\n",
      "9/9 [==============================] - 0s 17ms/step - loss: 0.0339\n",
      "Epoch 64/300\n",
      "9/9 [==============================] - 0s 16ms/step - loss: 0.0337\n",
      "Epoch 65/300\n",
      "9/9 [==============================] - 0s 16ms/step - loss: 0.0340\n",
      "Epoch 66/300\n",
      "9/9 [==============================] - 0s 16ms/step - loss: 0.0336\n",
      "Epoch 67/300\n",
      "9/9 [==============================] - 0s 17ms/step - loss: 0.0340\n",
      "Epoch 68/300\n",
      "9/9 [==============================] - 0s 16ms/step - loss: 0.0336\n",
      "Epoch 69/300\n",
      "9/9 [==============================] - 0s 17ms/step - loss: 0.0340\n",
      "Epoch 70/300\n",
      "9/9 [==============================] - 0s 17ms/step - loss: 0.0335\n",
      "Epoch 71/300\n",
      "9/9 [==============================] - 0s 17ms/step - loss: 0.0341\n",
      "Epoch 72/300\n",
      "9/9 [==============================] - ETA: 0s - loss: 0.034 - 0s 17ms/step - loss: 0.0336\n",
      "Epoch 73/300\n",
      "9/9 [==============================] - 0s 17ms/step - loss: 0.0339\n",
      "Epoch 74/300\n",
      "9/9 [==============================] - 0s 17ms/step - loss: 0.0336\n",
      "Epoch 75/300\n",
      "9/9 [==============================] - 0s 16ms/step - loss: 0.0340\n",
      "Epoch 76/300\n",
      "9/9 [==============================] - 0s 16ms/step - loss: 0.0335\n",
      "Epoch 77/300\n",
      "9/9 [==============================] - 0s 16ms/step - loss: 0.0341\n",
      "Epoch 78/300\n",
      "9/9 [==============================] - 0s 17ms/step - loss: 0.0334\n",
      "Epoch 79/300\n",
      "9/9 [==============================] - 0s 17ms/step - loss: 0.0341\n",
      "Epoch 80/300\n",
      "9/9 [==============================] - 0s 17ms/step - loss: 0.0335\n",
      "Epoch 81/300\n",
      "9/9 [==============================] - 0s 17ms/step - loss: 0.0339\n",
      "Epoch 82/300\n",
      "9/9 [==============================] - 0s 17ms/step - loss: 0.0336\n",
      "Epoch 83/300\n",
      "9/9 [==============================] - 0s 17ms/step - loss: 0.0340\n",
      "Epoch 84/300\n",
      "9/9 [==============================] - 0s 17ms/step - loss: 0.0335\n",
      "Epoch 85/300\n",
      "9/9 [==============================] - 0s 16ms/step - loss: 0.0340\n",
      "Epoch 86/300\n",
      "9/9 [==============================] - 0s 17ms/step - loss: 0.0335\n",
      "Epoch 87/300\n",
      "9/9 [==============================] - 0s 17ms/step - loss: 0.0340\n",
      "Epoch 88/300\n",
      "9/9 [==============================] - 0s 18ms/step - loss: 0.0335\n",
      "Epoch 89/300\n",
      "9/9 [==============================] - ETA: 0s - loss: 0.035 - 0s 17ms/step - loss: 0.0339\n",
      "Epoch 90/300\n",
      "9/9 [==============================] - 0s 17ms/step - loss: 0.0336\n",
      "Epoch 91/300\n",
      "9/9 [==============================] - 0s 16ms/step - loss: 0.0339\n",
      "Epoch 92/300\n",
      "9/9 [==============================] - 0s 18ms/step - loss: 0.0335\n",
      "Epoch 93/300\n",
      "9/9 [==============================] - 0s 17ms/step - loss: 0.0340\n",
      "Epoch 94/300\n",
      "9/9 [==============================] - 0s 17ms/step - loss: 0.0335: 0s - loss: 0.034\n",
      "Epoch 95/300\n",
      "9/9 [==============================] - 0s 17ms/step - loss: 0.0341\n",
      "Epoch 96/300\n",
      "9/9 [==============================] - 0s 16ms/step - loss: 0.0334\n",
      "Epoch 97/300\n",
      "9/9 [==============================] - 0s 17ms/step - loss: 0.0340\n",
      "Epoch 98/300\n",
      "9/9 [==============================] - 0s 17ms/step - loss: 0.0335\n",
      "Epoch 99/300\n",
      "9/9 [==============================] - 0s 17ms/step - loss: 0.0339\n",
      "Epoch 100/300\n",
      "9/9 [==============================] - 0s 17ms/step - loss: 0.0336\n",
      "Epoch 101/300\n",
      "9/9 [==============================] - 0s 17ms/step - loss: 0.0339\n",
      "Epoch 102/300\n",
      "9/9 [==============================] - 0s 18ms/step - loss: 0.0334\n",
      "Epoch 103/300\n",
      "9/9 [==============================] - 0s 17ms/step - loss: 0.0340\n",
      "Epoch 104/300\n",
      "9/9 [==============================] - 0s 17ms/step - loss: 0.0335\n",
      "Epoch 105/300\n",
      "9/9 [==============================] - 0s 17ms/step - loss: 0.0339\n",
      "Epoch 106/300\n",
      "9/9 [==============================] - 0s 17ms/step - loss: 0.0334\n",
      "Epoch 107/300\n",
      "9/9 [==============================] - 0s 16ms/step - loss: 0.0339\n",
      "Epoch 108/300\n",
      "9/9 [==============================] - 0s 17ms/step - loss: 0.0335\n",
      "Epoch 109/300\n",
      "9/9 [==============================] - 0s 16ms/step - loss: 0.0339\n",
      "Epoch 110/300\n",
      "9/9 [==============================] - 0s 17ms/step - loss: 0.0335\n",
      "Epoch 111/300\n",
      "9/9 [==============================] - 0s 17ms/step - loss: 0.0339\n",
      "Epoch 112/300\n",
      "9/9 [==============================] - 0s 18ms/step - loss: 0.0335\n",
      "Epoch 113/300\n",
      "9/9 [==============================] - 0s 17ms/step - loss: 0.0339\n",
      "Epoch 114/300\n",
      "9/9 [==============================] - 0s 17ms/step - loss: 0.0335\n",
      "Epoch 115/300\n",
      "9/9 [==============================] - 0s 17ms/step - loss: 0.0339\n",
      "Epoch 116/300\n",
      "9/9 [==============================] - 0s 17ms/step - loss: 0.0335\n",
      "Epoch 117/300\n",
      "9/9 [==============================] - 0s 17ms/step - loss: 0.0338\n",
      "Epoch 118/300\n",
      "9/9 [==============================] - 0s 17ms/step - loss: 0.0335\n",
      "Epoch 119/300\n",
      "9/9 [==============================] - 0s 17ms/step - loss: 0.0339\n",
      "Epoch 120/300\n",
      "9/9 [==============================] - 0s 17ms/step - loss: 0.0334\n",
      "Epoch 121/300\n",
      "9/9 [==============================] - 0s 17ms/step - loss: 0.0339\n",
      "Epoch 122/300\n",
      "9/9 [==============================] - 0s 17ms/step - loss: 0.0334\n",
      "Epoch 123/300\n",
      "9/9 [==============================] - 0s 16ms/step - loss: 0.0340\n",
      "Epoch 124/300\n",
      "9/9 [==============================] - 0s 17ms/step - loss: 0.0334: 0s - loss: 0.03\n",
      "Epoch 125/300\n",
      "9/9 [==============================] - 0s 17ms/step - loss: 0.0339\n",
      "Epoch 126/300\n",
      "9/9 [==============================] - 0s 18ms/step - loss: 0.0335\n",
      "Epoch 127/300\n",
      "9/9 [==============================] - 0s 17ms/step - loss: 0.0337\n",
      "Epoch 128/300\n",
      "9/9 [==============================] - 0s 18ms/step - loss: 0.0335\n",
      "Epoch 129/300\n",
      "9/9 [==============================] - 0s 17ms/step - loss: 0.0337\n",
      "Epoch 130/300\n",
      "9/9 [==============================] - 0s 17ms/step - loss: 0.0336\n",
      "Epoch 131/300\n",
      "9/9 [==============================] - 0s 17ms/step - loss: 0.0336\n",
      "Epoch 132/300\n",
      "9/9 [==============================] - 0s 17ms/step - loss: 0.0335\n",
      "Epoch 133/300\n",
      "9/9 [==============================] - 0s 17ms/step - loss: 0.0337\n",
      "Epoch 134/300\n",
      "9/9 [==============================] - 0s 18ms/step - loss: 0.0336\n",
      "Epoch 135/300\n",
      "9/9 [==============================] - 0s 17ms/step - loss: 0.0337\n",
      "Epoch 136/300\n",
      "9/9 [==============================] - 0s 17ms/step - loss: 0.0335\n",
      "Epoch 137/300\n",
      "9/9 [==============================] - 0s 17ms/step - loss: 0.0338\n",
      "Epoch 138/300\n",
      "9/9 [==============================] - 0s 17ms/step - loss: 0.0335\n",
      "Epoch 139/300\n",
      "9/9 [==============================] - 0s 17ms/step - loss: 0.0337\n",
      "Epoch 140/300\n",
      "9/9 [==============================] - 0s 17ms/step - loss: 0.0335\n",
      "Epoch 141/300\n",
      "9/9 [==============================] - 0s 18ms/step - loss: 0.0337\n",
      "Epoch 142/300\n",
      "9/9 [==============================] - 0s 21ms/step - loss: 0.0335\n",
      "Epoch 143/300\n",
      "9/9 [==============================] - 0s 21ms/step - loss: 0.0337\n",
      "Epoch 144/300\n",
      "9/9 [==============================] - 0s 22ms/step - loss: 0.0335\n",
      "Epoch 145/300\n",
      "9/9 [==============================] - 0s 19ms/step - loss: 0.0338\n",
      "Epoch 146/300\n",
      "9/9 [==============================] - 0s 19ms/step - loss: 0.0335\n",
      "Epoch 147/300\n",
      "9/9 [==============================] - 0s 17ms/step - loss: 0.0340\n",
      "Epoch 148/300\n",
      "9/9 [==============================] - 0s 17ms/step - loss: 0.0333\n",
      "Epoch 149/300\n",
      "9/9 [==============================] - 0s 18ms/step - loss: 0.0338\n",
      "Epoch 150/300\n",
      "9/9 [==============================] - 0s 17ms/step - loss: 0.0335\n",
      "Epoch 151/300\n",
      "9/9 [==============================] - 0s 17ms/step - loss: 0.0337\n",
      "Epoch 152/300\n",
      "9/9 [==============================] - 0s 17ms/step - loss: 0.0334\n",
      "Epoch 153/300\n",
      "9/9 [==============================] - 0s 17ms/step - loss: 0.0337\n",
      "Epoch 154/300\n",
      "9/9 [==============================] - 0s 17ms/step - loss: 0.0334\n",
      "Epoch 155/300\n",
      "9/9 [==============================] - 0s 18ms/step - loss: 0.0337\n",
      "Epoch 156/300\n",
      "9/9 [==============================] - 0s 18ms/step - loss: 0.0335\n",
      "Epoch 157/300\n",
      "9/9 [==============================] - 0s 18ms/step - loss: 0.0337\n",
      "Epoch 158/300\n",
      "9/9 [==============================] - 0s 16ms/step - loss: 0.0335\n",
      "Epoch 159/300\n",
      "9/9 [==============================] - 0s 16ms/step - loss: 0.0337\n",
      "Epoch 160/300\n",
      "9/9 [==============================] - 0s 17ms/step - loss: 0.0335\n",
      "Epoch 161/300\n",
      "9/9 [==============================] - 0s 20ms/step - loss: 0.0337: 0s - loss: 0.033\n",
      "Epoch 162/300\n",
      "9/9 [==============================] - 0s 22ms/step - loss: 0.0335\n",
      "Epoch 163/300\n",
      "9/9 [==============================] - 0s 25ms/step - loss: 0.0336\n",
      "Epoch 164/300\n",
      "9/9 [==============================] - 0s 23ms/step - loss: 0.0335\n",
      "Epoch 165/300\n",
      "9/9 [==============================] - 0s 20ms/step - loss: 0.0337\n",
      "Epoch 166/300\n",
      "9/9 [==============================] - 0s 21ms/step - loss: 0.0335\n",
      "Epoch 167/300\n",
      "9/9 [==============================] - 0s 23ms/step - loss: 0.0337\n",
      "Epoch 168/300\n",
      "9/9 [==============================] - 0s 24ms/step - loss: 0.0334\n",
      "Epoch 169/300\n",
      "9/9 [==============================] - 0s 24ms/step - loss: 0.0337\n",
      "Epoch 170/300\n",
      "9/9 [==============================] - 0s 26ms/step - loss: 0.0334\n",
      "Epoch 171/300\n",
      "9/9 [==============================] - 0s 18ms/step - loss: 0.0337\n",
      "Epoch 172/300\n",
      "9/9 [==============================] - 0s 19ms/step - loss: 0.0334\n",
      "Epoch 173/300\n",
      "9/9 [==============================] - 0s 18ms/step - loss: 0.0337\n",
      "Epoch 174/300\n",
      "9/9 [==============================] - 0s 18ms/step - loss: 0.0335\n",
      "Epoch 175/300\n",
      "9/9 [==============================] - 0s 19ms/step - loss: 0.0336\n",
      "Epoch 176/300\n",
      "9/9 [==============================] - 0s 20ms/step - loss: 0.0335\n",
      "Epoch 177/300\n",
      "9/9 [==============================] - 0s 18ms/step - loss: 0.0336\n",
      "Epoch 178/300\n",
      "9/9 [==============================] - 0s 18ms/step - loss: 0.0335\n",
      "Epoch 179/300\n",
      "9/9 [==============================] - 0s 23ms/step - loss: 0.0336\n",
      "Epoch 180/300\n",
      "9/9 [==============================] - 0s 21ms/step - loss: 0.0334\n",
      "Epoch 181/300\n",
      "9/9 [==============================] - 0s 19ms/step - loss: 0.0337\n",
      "Epoch 182/300\n",
      "9/9 [==============================] - 0s 18ms/step - loss: 0.0334\n",
      "Epoch 183/300\n",
      "9/9 [==============================] - 0s 18ms/step - loss: 0.0336\n",
      "Epoch 184/300\n",
      "9/9 [==============================] - 0s 17ms/step - loss: 0.0335\n",
      "Epoch 185/300\n",
      "9/9 [==============================] - ETA: 0s - loss: 0.034 - 0s 18ms/step - loss: 0.0336\n",
      "Epoch 186/300\n",
      "9/9 [==============================] - 0s 17ms/step - loss: 0.0335\n",
      "Epoch 187/300\n",
      "9/9 [==============================] - 0s 17ms/step - loss: 0.0336: 0s - loss: 0.03\n",
      "Epoch 188/300\n",
      "9/9 [==============================] - 0s 17ms/step - loss: 0.0335\n",
      "Epoch 189/300\n",
      "9/9 [==============================] - 0s 17ms/step - loss: 0.0336\n",
      "Epoch 190/300\n",
      "9/9 [==============================] - 0s 16ms/step - loss: 0.0334\n",
      "Epoch 191/300\n",
      "9/9 [==============================] - 0s 18ms/step - loss: 0.0337\n",
      "Epoch 192/300\n",
      "9/9 [==============================] - 0s 17ms/step - loss: 0.0334\n",
      "Epoch 193/300\n",
      "9/9 [==============================] - 0s 17ms/step - loss: 0.0336\n",
      "Epoch 194/300\n",
      "9/9 [==============================] - 0s 17ms/step - loss: 0.0334\n",
      "Epoch 195/300\n",
      "9/9 [==============================] - 0s 18ms/step - loss: 0.0336\n",
      "Epoch 196/300\n",
      "9/9 [==============================] - 0s 18ms/step - loss: 0.0334\n",
      "Epoch 197/300\n",
      "9/9 [==============================] - 0s 16ms/step - loss: 0.0336\n",
      "Epoch 198/300\n",
      "9/9 [==============================] - 0s 18ms/step - loss: 0.0334\n",
      "Epoch 199/300\n",
      "9/9 [==============================] - 0s 23ms/step - loss: 0.0336\n",
      "Epoch 200/300\n",
      "9/9 [==============================] - 0s 17ms/step - loss: 0.0335\n",
      "Epoch 201/300\n",
      "9/9 [==============================] - 0s 17ms/step - loss: 0.0336\n",
      "Epoch 202/300\n",
      "9/9 [==============================] - 0s 17ms/step - loss: 0.0335\n",
      "Epoch 203/300\n",
      "9/9 [==============================] - 0s 17ms/step - loss: 0.0335\n",
      "Epoch 204/300\n",
      "9/9 [==============================] - 0s 17ms/step - loss: 0.0335\n",
      "Epoch 205/300\n",
      "9/9 [==============================] - 0s 17ms/step - loss: 0.0335: 0s - loss: 0.038 - ETA: 0s - loss: 0.035\n",
      "Epoch 206/300\n",
      "9/9 [==============================] - 0s 17ms/step - loss: 0.0336\n",
      "Epoch 207/300\n",
      "9/9 [==============================] - 0s 18ms/step - loss: 0.0335\n",
      "Epoch 208/300\n",
      "9/9 [==============================] - 0s 18ms/step - loss: 0.0335\n",
      "Epoch 209/300\n",
      "9/9 [==============================] - 0s 17ms/step - loss: 0.0335\n",
      "Epoch 210/300\n",
      "9/9 [==============================] - 0s 17ms/step - loss: 0.0335\n",
      "Epoch 211/300\n",
      "9/9 [==============================] - 0s 17ms/step - loss: 0.0335\n",
      "Epoch 212/300\n",
      "9/9 [==============================] - 0s 17ms/step - loss: 0.0335\n",
      "Epoch 213/300\n",
      "9/9 [==============================] - 0s 17ms/step - loss: 0.0335\n",
      "Epoch 214/300\n",
      "9/9 [==============================] - 0s 16ms/step - loss: 0.0336\n",
      "Epoch 215/300\n",
      "9/9 [==============================] - 0s 17ms/step - loss: 0.0335\n",
      "Epoch 216/300\n",
      "9/9 [==============================] - 0s 17ms/step - loss: 0.0335\n",
      "Epoch 217/300\n",
      "9/9 [==============================] - 0s 18ms/step - loss: 0.0336\n",
      "Epoch 218/300\n",
      "9/9 [==============================] - 0s 16ms/step - loss: 0.0335\n",
      "Epoch 219/300\n",
      "9/9 [==============================] - 0s 17ms/step - loss: 0.0335\n",
      "Epoch 220/300\n",
      "9/9 [==============================] - 0s 17ms/step - loss: 0.0336\n",
      "Epoch 221/300\n",
      "9/9 [==============================] - 0s 17ms/step - loss: 0.0335\n",
      "Epoch 222/300\n",
      "9/9 [==============================] - 0s 17ms/step - loss: 0.0335: 0s - loss: 0.03\n",
      "Epoch 223/300\n",
      "9/9 [==============================] - 0s 16ms/step - loss: 0.0336\n",
      "Epoch 224/300\n",
      "9/9 [==============================] - 0s 17ms/step - loss: 0.0335\n",
      "Epoch 225/300\n",
      "9/9 [==============================] - 0s 17ms/step - loss: 0.0335\n",
      "Epoch 226/300\n",
      "9/9 [==============================] - 0s 17ms/step - loss: 0.0335\n",
      "Epoch 227/300\n",
      "9/9 [==============================] - 0s 17ms/step - loss: 0.0335\n",
      "Epoch 228/300\n",
      "9/9 [==============================] - 0s 17ms/step - loss: 0.0334: 0s - loss: 0.035\n",
      "Epoch 229/300\n",
      "9/9 [==============================] - 0s 17ms/step - loss: 0.0336\n",
      "Epoch 230/300\n",
      "9/9 [==============================] - 0s 16ms/step - loss: 0.0335\n",
      "Epoch 231/300\n",
      "9/9 [==============================] - 0s 17ms/step - loss: 0.0335\n",
      "Epoch 232/300\n",
      "9/9 [==============================] - 0s 16ms/step - loss: 0.0336\n",
      "Epoch 233/300\n",
      "9/9 [==============================] - 0s 17ms/step - loss: 0.0334\n",
      "Epoch 234/300\n",
      "9/9 [==============================] - 0s 16ms/step - loss: 0.0336\n",
      "Epoch 235/300\n",
      "9/9 [==============================] - 0s 17ms/step - loss: 0.0334\n",
      "Epoch 236/300\n",
      "9/9 [==============================] - 0s 16ms/step - loss: 0.0336\n",
      "Epoch 237/300\n",
      "9/9 [==============================] - 0s 17ms/step - loss: 0.0335\n",
      "Epoch 238/300\n",
      "9/9 [==============================] - 0s 17ms/step - loss: 0.0335\n",
      "Epoch 239/300\n",
      "9/9 [==============================] - 0s 16ms/step - loss: 0.0335\n",
      "Epoch 240/300\n",
      "9/9 [==============================] - 0s 17ms/step - loss: 0.0335\n",
      "Epoch 241/300\n",
      "9/9 [==============================] - 0s 17ms/step - loss: 0.0334\n",
      "Epoch 242/300\n",
      "9/9 [==============================] - 0s 17ms/step - loss: 0.0336\n",
      "Epoch 243/300\n",
      "9/9 [==============================] - 0s 16ms/step - loss: 0.0334\n",
      "Epoch 244/300\n",
      "9/9 [==============================] - 0s 16ms/step - loss: 0.0336\n",
      "Epoch 245/300\n",
      "9/9 [==============================] - 0s 17ms/step - loss: 0.0334\n",
      "Epoch 246/300\n",
      "9/9 [==============================] - 0s 16ms/step - loss: 0.0336: 0s - loss: 0.03\n",
      "Epoch 247/300\n",
      "9/9 [==============================] - 0s 17ms/step - loss: 0.0334\n",
      "Epoch 248/300\n",
      "9/9 [==============================] - 0s 18ms/step - loss: 0.0336\n",
      "Epoch 249/300\n",
      "9/9 [==============================] - 0s 21ms/step - loss: 0.0334\n",
      "Epoch 250/300\n",
      "9/9 [==============================] - ETA: 0s - loss: 0.034 - 0s 18ms/step - loss: 0.0336\n",
      "Epoch 251/300\n",
      "9/9 [==============================] - ETA: 0s - loss: 0.034 - 0s 19ms/step - loss: 0.0333\n",
      "Epoch 252/300\n",
      "9/9 [==============================] - 0s 20ms/step - loss: 0.0337\n",
      "Epoch 253/300\n",
      "9/9 [==============================] - ETA: 0s - loss: 0.034 - 0s 19ms/step - loss: 0.0334\n",
      "Epoch 254/300\n",
      "9/9 [==============================] - 0s 20ms/step - loss: 0.0336\n",
      "Epoch 255/300\n",
      "9/9 [==============================] - 0s 16ms/step - loss: 0.0334\n",
      "Epoch 256/300\n",
      "9/9 [==============================] - 0s 16ms/step - loss: 0.0336\n",
      "Epoch 257/300\n",
      "9/9 [==============================] - 0s 17ms/step - loss: 0.0334\n",
      "Epoch 258/300\n",
      "9/9 [==============================] - 0s 17ms/step - loss: 0.0336\n",
      "Epoch 259/300\n",
      "9/9 [==============================] - 0s 18ms/step - loss: 0.0334\n",
      "Epoch 260/300\n",
      "9/9 [==============================] - 0s 25ms/step - loss: 0.0336\n",
      "Epoch 261/300\n",
      "9/9 [==============================] - 0s 18ms/step - loss: 0.0334\n",
      "Epoch 262/300\n",
      "9/9 [==============================] - 0s 19ms/step - loss: 0.0335\n",
      "Epoch 263/300\n",
      "9/9 [==============================] - 0s 18ms/step - loss: 0.0334\n",
      "Epoch 264/300\n",
      "9/9 [==============================] - 0s 18ms/step - loss: 0.0335\n",
      "Epoch 265/300\n",
      "9/9 [==============================] - 0s 17ms/step - loss: 0.0334\n",
      "Epoch 266/300\n",
      "9/9 [==============================] - 0s 17ms/step - loss: 0.0335\n",
      "Epoch 267/300\n",
      "9/9 [==============================] - 0s 18ms/step - loss: 0.0334\n",
      "Epoch 268/300\n",
      "9/9 [==============================] - 0s 19ms/step - loss: 0.0335\n",
      "Epoch 269/300\n",
      "9/9 [==============================] - 0s 18ms/step - loss: 0.0334\n",
      "Epoch 270/300\n",
      "9/9 [==============================] - 0s 16ms/step - loss: 0.0335\n",
      "Epoch 271/300\n",
      "9/9 [==============================] - 0s 16ms/step - loss: 0.0336\n",
      "Epoch 272/300\n",
      "9/9 [==============================] - 0s 17ms/step - loss: 0.0334\n",
      "Epoch 273/300\n",
      "9/9 [==============================] - 0s 17ms/step - loss: 0.0336\n",
      "Epoch 274/300\n",
      "9/9 [==============================] - 0s 18ms/step - loss: 0.0334\n",
      "Epoch 275/300\n",
      "9/9 [==============================] - 0s 17ms/step - loss: 0.0336\n",
      "Epoch 276/300\n",
      "9/9 [==============================] - 0s 17ms/step - loss: 0.0334\n",
      "Epoch 277/300\n",
      "9/9 [==============================] - 0s 17ms/step - loss: 0.0335\n",
      "Epoch 278/300\n",
      "9/9 [==============================] - 0s 17ms/step - loss: 0.0334\n",
      "Epoch 279/300\n",
      "9/9 [==============================] - 0s 18ms/step - loss: 0.0335\n",
      "Epoch 280/300\n",
      "9/9 [==============================] - 0s 17ms/step - loss: 0.0334\n",
      "Epoch 281/300\n",
      "9/9 [==============================] - 0s 17ms/step - loss: 0.0335\n",
      "Epoch 282/300\n",
      "9/9 [==============================] - 0s 17ms/step - loss: 0.0334\n",
      "Epoch 283/300\n",
      "9/9 [==============================] - ETA: 0s - loss: 0.035 - 0s 17ms/step - loss: 0.0335\n",
      "Epoch 284/300\n",
      "9/9 [==============================] - 0s 16ms/step - loss: 0.0335\n",
      "Epoch 285/300\n",
      "9/9 [==============================] - 0s 17ms/step - loss: 0.0334\n",
      "Epoch 286/300\n",
      "9/9 [==============================] - 0s 17ms/step - loss: 0.0336\n",
      "Epoch 287/300\n",
      "9/9 [==============================] - 0s 16ms/step - loss: 0.0334\n",
      "Epoch 288/300\n",
      "9/9 [==============================] - 0s 17ms/step - loss: 0.0336\n",
      "Epoch 289/300\n",
      "9/9 [==============================] - 0s 16ms/step - loss: 0.0334\n",
      "Epoch 290/300\n",
      "9/9 [==============================] - 0s 26ms/step - loss: 0.0336\n",
      "Epoch 291/300\n",
      "9/9 [==============================] - 0s 19ms/step - loss: 0.0335\n",
      "Epoch 292/300\n",
      "9/9 [==============================] - 0s 17ms/step - loss: 0.0335\n",
      "Epoch 293/300\n",
      "9/9 [==============================] - 0s 18ms/step - loss: 0.0334: 0s - loss: 0.03\n",
      "Epoch 294/300\n",
      "9/9 [==============================] - 0s 22ms/step - loss: 0.0335\n",
      "Epoch 295/300\n",
      "9/9 [==============================] - 0s 21ms/step - loss: 0.0334\n",
      "Epoch 296/300\n",
      "9/9 [==============================] - 0s 19ms/step - loss: 0.0335\n",
      "Epoch 297/300\n",
      "9/9 [==============================] - 0s 17ms/step - loss: 0.0334\n",
      "Epoch 298/300\n",
      "9/9 [==============================] - 0s 20ms/step - loss: 0.0335\n",
      "Epoch 299/300\n",
      "9/9 [==============================] - 0s 19ms/step - loss: 0.0335\n",
      "Epoch 300/300\n",
      "9/9 [==============================] - 0s 18ms/step - loss: 0.0334\n"
     ]
    },
    {
     "data": {
      "text/plain": [
       "[<matplotlib.lines.Line2D at 0x1eb7f965b50>]"
      ]
     },
     "execution_count": 82,
     "metadata": {},
     "output_type": "execute_result"
    },
    {
     "data": {
      "image/png": "[encoded data removed]",
      "text/plain": [
       "<Figure size 432x288 with 1 Axes>"
      ]
     },
     "metadata": {
      "needs_background": "light"
     },
     "output_type": "display_data"
    }
   ],
   "source": [
    "model = tf.keras.models.Sequential()\n",
    "model.add(tf.keras.layers.LSTM(1, input_shape=(10,1)))\n",
    "model.add(tf.keras.layers.Dense(16))\n",
    "model.add(tf.keras.layers.Dense(16))\n",
    "model.add(tf.keras.layers.Dense(1))\n",
    "model.compile(loss='mae', optimizer='adam')\n",
    "\n",
    "history = model.fit(windows_2, step_ahead, epochs = 300, batch_size=32, verbose=1, shuffle=False)\n",
    "plt.plot(history.history['loss'])"
   ]
  },
  {
   "cell_type": "code",
   "execution_count": 85,
   "metadata": {},
   "outputs": [
    {
     "data": {
      "text/plain": [
       "array([[0.01651012]], dtype=float32)"
      ]
     },
     "execution_count": 85,
     "metadata": {},
     "output_type": "execute_result"
    }
   ],
   "source": [
    "model.predict(np.array(log_br[-10:]).reshape(1,10,1))"
   ]
  },
  {
   "cell_type": "code",
   "execution_count": 86,
   "metadata": {},
   "outputs": [
    {
     "data": {
      "text/plain": [
       "array([1.0166472], dtype=float32)"
      ]
     },
     "execution_count": 86,
     "metadata": {},
     "output_type": "execute_result"
    }
   ],
   "source": [
    "np.exp(model.predict(np.array(log_br[-10:]).reshape(1,10,1))[0])"
   ]
  },
  {
   "cell_type": "code",
   "execution_count": 87,
   "metadata": {},
   "outputs": [
    {
     "data": {
      "text/plain": [
       "3914.09172"
      ]
     },
     "execution_count": 87,
     "metadata": {},
     "output_type": "execute_result"
    }
   ],
   "source": [
    "3850 * 1.0166472"
   ]
  },
  {
   "cell_type": "code",
   "execution_count": null,
   "metadata": {},
   "outputs": [],
   "source": []
  }
 ],
 "metadata": {
  "kernelspec": {
   "display_name": "Python 3",
   "language": "python",
   "name": "python3"
  },
  "language_info": {
   "codemirror_mode": {
    "name": "ipython",
    "version": 3
   },
   "file_extension": ".py",
   "mimetype": "text/x-python",
   "name": "python",
   "nbconvert_exporter": "python",
   "pygments_lexer": "ipython3",
   "version": "3.8.5"
  }
 },
 "nbformat": 4,
 "nbformat_minor": 4
}
