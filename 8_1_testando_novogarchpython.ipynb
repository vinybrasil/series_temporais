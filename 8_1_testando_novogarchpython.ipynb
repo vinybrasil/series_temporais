{
 "cells": [
  {
   "cell_type": "code",
   "execution_count": 1,
   "metadata": {},
   "outputs": [],
   "source": [
    "#source: https://pypi.org/project/armagarch/\n",
    "\n",
    "import armagarch as ag\n",
    "import pandas_datareader as web\n",
    "import matplotlib.pyplot as plt\n",
    "import numpy as np\n"
   ]
  },
  {
   "cell_type": "code",
   "execution_count": 2,
   "metadata": {},
   "outputs": [],
   "source": [
    "\n",
    "# load data from KennethFrench library\n",
    "ff = web.DataReader('F-F_Research_Data_Factors_daily', 'famafrench')\n",
    "ff = ff[0]\n",
    "\n"
   ]
  },
  {
   "cell_type": "code",
   "execution_count": 3,
   "metadata": {},
   "outputs": [],
   "source": [
    "# define mean, vol and distribution\n",
    "meanMdl = ag.ARMA(order = {'AR':1,'MA':0})\n",
    "volMdl = ag.garch(order = {'p':1,'q':1})\n",
    "distMdl = ag.normalDist()\n",
    "\n"
   ]
  },
  {
   "cell_type": "code",
   "execution_count": 4,
   "metadata": {},
   "outputs": [
    {
     "name": "stderr",
     "output_type": "stream",
     "text": [
      "C:\\Users\\vinic\\.conda\\envs\\strange\\lib\\site-packages\\statsmodels\\tsa\\arima_model.py:472: FutureWarning: \n",
      "statsmodels.tsa.arima_model.ARMA and statsmodels.tsa.arima_model.ARIMA have\n",
      "been deprecated in favor of statsmodels.tsa.arima.model.ARIMA (note the .\n",
      "between arima and model) and\n",
      "statsmodels.tsa.SARIMAX. These will be removed after the 0.12 release.\n",
      "\n",
      "statsmodels.tsa.arima.model.ARIMA makes use of the statespace framework and\n",
      "is both well tested and maintained.\n",
      "\n",
      "To silence this warning and continue using ARMA and ARIMA until they are\n",
      "removed, use:\n",
      "\n",
      "import warnings\n",
      "warnings.filterwarnings('ignore', 'statsmodels.tsa.arima_model.ARMA',\n",
      "                        FutureWarning)\n",
      "warnings.filterwarnings('ignore', 'statsmodels.tsa.arima_model.ARIMA',\n",
      "                        FutureWarning)\n",
      "\n",
      "  warnings.warn(ARIMA_DEPRECATION_WARN, FutureWarning)\n"
     ]
    },
    {
     "name": "stdout",
     "output_type": "stream",
     "text": [
      "                                             ARMA-GARCH estimation results                                              \n",
      "========================================================================================================================\n",
      "Dep Variable:                                      Mkt-RF    R-squared:                                           0.04\n",
      "Mean Model:                                          ARMA    Adj. R-squared:                                      0.03\n",
      "Vol Model:                                          GARCH    Log Likelihood:                                  -1528.92\n",
      "Distribution:                                    Gaussian    AIC:                                              3067.84\n",
      "Method:                                                ML    BIC:                                              3093.44\n",
      "                                                             Num obs:                                             1237\n",
      "Date:                                    Sun, May 02 2021    Df Residuals:                                        1233\n",
      "Time:                                            20:31:31    Df Model:                                               4\n",
      "                                                                                                                        \n",
      "                                                       Mean Model                                                       \n",
      "========================================================================================================================\n",
      "                                                Estimate                    Std. Error                        t-stat\n",
      "------------------------------------------------------------------------------------------------------------------------\n",
      "Constant                                            0.11                         0.021                          5.19\n",
      "AR                                                -0.109                         0.034                        -3.161\n",
      "                                                                                                                        \n",
      "                                                    Volatility Model                                                    \n",
      "========================================================================================================================\n",
      "                                                Estimate                    Std. Error                        t-stat\n",
      "------------------------------------------------------------------------------------------------------------------------\n",
      "omega                                              0.045                         0.013                         3.443\n",
      "alpha                                              0.256                         0.053                         4.797\n",
      "beta                                               0.721                         0.039                        18.271\n",
      "========================================================================================================================\n",
      "Covariance estimator: robust\n"
     ]
    }
   ],
   "source": [
    "# create a model\n",
    "model = ag.empModel(ff['Mkt-RF'].to_frame(), meanMdl, volMdl, distMdl)\n",
    "# fit model\n",
    "model.fit()\n",
    "\n"
   ]
  },
  {
   "cell_type": "code",
   "execution_count": 5,
   "metadata": {},
   "outputs": [],
   "source": [
    "# get the conditional mean\n",
    "Ey = model.Ey\n",
    "\n",
    "# get conditional variance\n",
    "ht = model.ht\n",
    "cvol = np.sqrt(ht)\n",
    "\n",
    "# get standardized residuals\n",
    "stres = model.stres\n",
    "\n"
   ]
  },
  {
   "cell_type": "code",
   "execution_count": 6,
   "metadata": {},
   "outputs": [],
   "source": [
    "# make a prediction of mean and variance over next 3 days.\n",
    "pred = model.predict(nsteps = 3)\n",
    "\n",
    "# pred is a list of two-arrays with first array being prediction of mean\n",
    "# and second array being prediction of variance"
   ]
  },
  {
   "cell_type": "code",
   "execution_count": 7,
   "metadata": {},
   "outputs": [
    {
     "data": {
      "text/plain": [
       "[array([0.04111883, 0.10518424, 0.09821445]),\n",
       " array([0.70442944, 0.73349989, 0.76191072])]"
      ]
     },
     "execution_count": 7,
     "metadata": {},
     "output_type": "execute_result"
    }
   ],
   "source": [
    "pred"
   ]
  },
  {
   "cell_type": "code",
   "execution_count": 8,
   "metadata": {},
   "outputs": [
    {
     "data": {
      "text/plain": [
       "[<matplotlib.lines.Line2D at 0x29f90e84160>]"
      ]
     },
     "execution_count": 8,
     "metadata": {},
     "output_type": "execute_result"
    },
    {
     "data": {
      "image/png": "[encoded data removed]",
      "text/plain": [
       "<Figure size 432x288 with 1 Axes>"
      ]
     },
     "metadata": {
      "needs_background": "light"
     },
     "output_type": "display_data"
    }
   ],
   "source": [
    "plt.plot(pred[0])"
   ]
  },
  {
   "cell_type": "code",
   "execution_count": 12,
   "metadata": {},
   "outputs": [
    {
     "data": {
      "text/plain": [
       "[<matplotlib.lines.Line2D at 0x29f90fd0a60>]"
      ]
     },
     "execution_count": 12,
     "metadata": {},
     "output_type": "execute_result"
    },
    {
     "data": {
      "image/png": "[encoded data removed]",
      "text/plain": [
       "<Figure size 432x288 with 1 Axes>"
      ]
     },
     "metadata": {
      "needs_background": "light"
     },
     "output_type": "display_data"
    }
   ],
   "source": [
    "plt.plot(ff['Mkt-RF'].values[-5:])"
   ]
  },
  {
   "cell_type": "code",
   "execution_count": 13,
   "metadata": {},
   "outputs": [
    {
     "ename": "AttributeError",
     "evalue": "'numpy.ndarray' object has no attribute 'append'",
     "output_type": "error",
     "traceback": [
      "\u001b[1;31m---------------------------------------------------------------------------\u001b[0m",
      "\u001b[1;31mAttributeError\u001b[0m                            Traceback (most recent call last)",
      "\u001b[1;32m<ipython-input-13-3da5915ef5a8>\u001b[0m in \u001b[0;36m<module>\u001b[1;34m\u001b[0m\n\u001b[1;32m----> 1\u001b[1;33m \u001b[0mnp\u001b[0m\u001b[1;33m.\u001b[0m\u001b[0marray\u001b[0m\u001b[1;33m(\u001b[0m\u001b[1;33m[\u001b[0m\u001b[1;36m2\u001b[0m\u001b[1;33m,\u001b[0m\u001b[1;36m3\u001b[0m\u001b[1;33m]\u001b[0m\u001b[1;33m)\u001b[0m\u001b[1;33m.\u001b[0m\u001b[0mappend\u001b[0m\u001b[1;33m(\u001b[0m\u001b[0mnp\u001b[0m\u001b[1;33m.\u001b[0m\u001b[0marray\u001b[0m\u001b[1;33m(\u001b[0m\u001b[1;33m[\u001b[0m\u001b[1;36m2\u001b[0m\u001b[1;33m,\u001b[0m\u001b[1;36m3\u001b[0m\u001b[1;33m]\u001b[0m\u001b[1;33m)\u001b[0m\u001b[1;33m)\u001b[0m\u001b[1;33m\u001b[0m\u001b[1;33m\u001b[0m\u001b[0m\n\u001b[0m",
      "\u001b[1;31mAttributeError\u001b[0m: 'numpy.ndarray' object has no attribute 'append'"
     ]
    }
   ],
   "source": []
  },
  {
   "cell_type": "code",
   "execution_count": null,
   "metadata": {},
   "outputs": [],
   "source": []
  }
 ],
 "metadata": {
  "kernelspec": {
   "display_name": "Python 3",
   "language": "python",
   "name": "python3"
  },
  "language_info": {
   "codemirror_mode": {
    "name": "ipython",
    "version": 3
   },
   "file_extension": ".py",
   "mimetype": "text/x-python",
   "name": "python",
   "nbconvert_exporter": "python",
   "pygments_lexer": "ipython3",
   "version": "3.8.5"
  }
 },
 "nbformat": 4,
 "nbformat_minor": 4
}
