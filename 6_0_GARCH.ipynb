{
 "cells": [
  {
   "cell_type": "markdown",
   "metadata": {},
   "source": [
    "<h2>Model GARCH </h2>\n",
    "$$r_{t} = \\mu + \\epsilon_{t}$$\n",
    "$$\\sigma^2_{t} = \\omega + \\alpha \\epsilon_{t-1}^2 + \\beta \\sigma^{2}_{t-1}$$\n",
    "$$\\epsilon_{t} = \\sigma_{t} e_{t} \\text{,} \\quad e_{t} \\sim N(0,1) $$"
   ]
  },
  {
   "cell_type": "code",
   "execution_count": 1,
   "metadata": {},
   "outputs": [],
   "source": [
    "import pandas_datareader.data as web"
   ]
  },
  {
   "cell_type": "code",
   "execution_count": 2,
   "metadata": {},
   "outputs": [],
   "source": [
    "import datetime as dt\n",
    "import arch.data.sp500"
   ]
  },
  {
   "cell_type": "code",
   "execution_count": 3,
   "metadata": {},
   "outputs": [],
   "source": [
    "st = dt.datetime(1988,1,1)\n",
    "en = dt.datetime(2018,1,1)\n",
    "#data = web.get_data_yahoo('^GSPC', start=st, end=en)\n",
    "data = arch.data.sp500.load()\n",
    "market = data[\"Adj Close\"]\n",
    "returns = 100 * data['Adj Close'].pct_change().dropna()"
   ]
  },
  {
   "cell_type": "code",
   "execution_count": 4,
   "metadata": {},
   "outputs": [
    {
     "name": "stdout",
     "output_type": "stream",
     "text": [
      "Iteration:      5,   Func. Count:     35,   Neg. LLF: 6970.280378265095\n",
      "Iteration:     10,   Func. Count:     63,   Neg. LLF: 6936.718477483569\n",
      "Optimization terminated successfully    (Exit mode 0)\n",
      "            Current function value: 6936.718476989043\n",
      "            Iterations: 11\n",
      "            Function evaluations: 68\n",
      "            Gradient evaluations: 11\n"
     ]
    }
   ],
   "source": [
    "from arch import arch_model\n",
    "am = arch_model(returns)\n",
    "res = am.fit(update_freq=5)"
   ]
  },
  {
   "cell_type": "code",
   "execution_count": 5,
   "metadata": {},
   "outputs": [
    {
     "data": {
      "text/plain": [
       "mu          0.056353\n",
       "omega       0.017507\n",
       "alpha[1]    0.102150\n",
       "beta[1]     0.885206\n",
       "Name: params, dtype: float64"
      ]
     },
     "execution_count": 5,
     "metadata": {},
     "output_type": "execute_result"
    }
   ],
   "source": [
    "res.params"
   ]
  },
  {
   "cell_type": "code",
   "execution_count": 6,
   "metadata": {},
   "outputs": [
    {
     "data": {
      "image/png": "[encoded data removed]",
      "text/plain": [
       "<Figure size 432x288 with 1 Axes>"
      ]
     },
     "metadata": {
      "needs_background": "light"
     },
     "output_type": "display_data"
    }
   ],
   "source": [
    "ax = returns.plot()\n",
    "xlim = ax.set_xlim(returns.index.min(), returns.index.max())"
   ]
  },
  {
   "cell_type": "code",
   "execution_count": 7,
   "metadata": {},
   "outputs": [
    {
     "data": {
      "text/html": [
       "<strong>Constant Mean</strong>(<strong>constant: </strong>yes,\n",
       "<strong>no. of exog: </strong>0,\n",
       "<strong>volatility: </strong>GARCH(p: 1, q: 1),\n",
       "<strong>distribution: </strong>Normal distribution,\n",
       "<strong>ID: </strong> 0x1f83feb1c70)"
      ],
      "text/plain": [
       "Constant Mean(constant: yes, no. of exog: 0, volatility: GARCH(p: 1, q: 1), distribution: Normal distribution), id: 0x1f83feb1c70"
      ]
     },
     "execution_count": 7,
     "metadata": {},
     "output_type": "execute_result"
    }
   ],
   "source": [
    "res.model"
   ]
  },
  {
   "cell_type": "code",
   "execution_count": 8,
   "metadata": {},
   "outputs": [
    {
     "name": "stdout",
     "output_type": "stream",
     "text": [
      "                         Constant Mean - GARCH Model Results                         \n",
      "=====================================================================================\n",
      "Dep. Variable:                     Adj Close   R-squared:                          --\n",
      "Mean Model:                    Constant Mean   Adj. R-squared:                     --\n",
      "Vol Model:                             GARCH   Log-Likelihood:               -6979.65\n",
      "Distribution:                         Normal   AIC:                           13967.3\n",
      "Method:            User-specified Parameters   BIC:                           13993.4\n",
      "                                               No. Observations:                 5030\n",
      "Date:                       Mon, Apr 05 2021                                         \n",
      "Time:                               20:42:20                                         \n",
      "      Mean Model     \n",
      "=====================\n",
      "                 coef\n",
      "---------------------\n",
      "mu             0.0235\n",
      "   Volatility Model  \n",
      "=====================\n",
      "                 coef\n",
      "---------------------\n",
      "omega          0.0100\n",
      "alpha[1]       0.0600\n",
      "beta[1]        0.9382\n",
      "=====================\n",
      "\n",
      "Results generated with user-specified parameters.\n",
      "Std. errors not available when the model is not estimated, \n"
     ]
    },
    {
     "data": {
      "text/plain": [
       "(10596.0, 17896.0)"
      ]
     },
     "execution_count": 8,
     "metadata": {},
     "output_type": "execute_result"
    },
    {
     "data": {
      "image/png": "[encoded data removed]",
      "text/plain": [
       "<Figure size 432x288 with 1 Axes>"
      ]
     },
     "metadata": {
      "needs_background": "light"
     },
     "output_type": "display_data"
    }
   ],
   "source": [
    "import pandas as pd\n",
    "\n",
    "\n",
    "\n",
    "fixed_res = am.fix([0.0235, 0.01, 0.06, 0.9382])\n",
    "print(fixed_res.summary())\n",
    "\n",
    "\n",
    "df = pd.concat([res.conditional_volatility, fixed_res.conditional_volatility], 1)\n",
    "df.columns = [\"Estimated\", \"Fixed\"]\n",
    "subplot = df.plot()\n",
    "subplot.set_xlim(xlim)"
   ]
  },
  {
   "cell_type": "code",
   "execution_count": 9,
   "metadata": {},
   "outputs": [
    {
     "data": {
      "text/plain": [
       "Date\n",
       "1999-01-05    1.344903\n",
       "1999-01-06    1.338566\n",
       "1999-01-07    1.441927\n",
       "1999-01-08    1.365639\n",
       "1999-01-11    1.296941\n",
       "                ...   \n",
       "2018-12-24    1.501101\n",
       "2018-12-26    1.671694\n",
       "2018-12-27    2.224166\n",
       "2018-12-28    2.112322\n",
       "2018-12-31    1.992621\n",
       "Name: cond_vol, Length: 5030, dtype: float64"
      ]
     },
     "execution_count": 9,
     "metadata": {},
     "output_type": "execute_result"
    }
   ],
   "source": [
    "res.conditional_volatility"
   ]
  },
  {
   "cell_type": "code",
   "execution_count": 10,
   "metadata": {},
   "outputs": [
    {
     "data": {
      "text/plain": [
       "pandas.core.series.Series"
      ]
     },
     "execution_count": 10,
     "metadata": {},
     "output_type": "execute_result"
    }
   ],
   "source": [
    "type(res.conditional_volatility)"
   ]
  },
  {
   "cell_type": "code",
   "execution_count": 11,
   "metadata": {},
   "outputs": [],
   "source": [
    "import matplotlib.pyplot as plt"
   ]
  },
  {
   "cell_type": "code",
   "execution_count": 12,
   "metadata": {},
   "outputs": [
    {
     "data": {
      "text/plain": [
       "[<matplotlib.lines.Line2D at 0x1f841478790>]"
      ]
     },
     "execution_count": 12,
     "metadata": {},
     "output_type": "execute_result"
    },
    {
     "data": {
      "image/png": "[encoded data removed]",
      "text/plain": [
       "<Figure size 432x288 with 1 Axes>"
      ]
     },
     "metadata": {
      "needs_background": "light"
     },
     "output_type": "display_data"
    }
   ],
   "source": [
    "plt.plot(returns)\n",
    "#subplot = df.plot()\n",
    "#subplot.set_xlim(xlim)\n",
    "plt.plot(df.Estimated)\n",
    "plt.plot(df.Fixed)"
   ]
  },
  {
   "cell_type": "code",
   "execution_count": 15,
   "metadata": {},
   "outputs": [
    {
     "data": {
      "text/plain": [
       "Date\n",
       "1999-01-05    1.301847\n",
       "1999-01-06    2.157688\n",
       "1999-01-07   -0.261486\n",
       "1999-01-08    0.365783\n",
       "1999-01-11   -0.935504\n",
       "                ...   \n",
       "2018-12-24   -2.767578\n",
       "2018-12-26    4.903021\n",
       "2018-12-27    0.799915\n",
       "2018-12-28   -0.180511\n",
       "2018-12-31    0.792895\n",
       "Name: resid, Length: 5030, dtype: float64"
      ]
     },
     "execution_count": 15,
     "metadata": {},
     "output_type": "execute_result"
    }
   ],
   "source": [
    "res.resid"
   ]
  },
  {
   "cell_type": "code",
   "execution_count": 28,
   "metadata": {},
   "outputs": [
    {
     "data": {
      "text/html": [
       "<div>\n",
       "<style scoped>\n",
       "    .dataframe tbody tr th:only-of-type {\n",
       "        vertical-align: middle;\n",
       "    }\n",
       "\n",
       "    .dataframe tbody tr th {\n",
       "        vertical-align: top;\n",
       "    }\n",
       "\n",
       "    .dataframe thead th {\n",
       "        text-align: right;\n",
       "    }\n",
       "</style>\n",
       "<table border=\"1\" class=\"dataframe\">\n",
       "  <thead>\n",
       "    <tr style=\"text-align: right;\">\n",
       "      <th></th>\n",
       "      <th>h.1</th>\n",
       "    </tr>\n",
       "    <tr>\n",
       "      <th>Date</th>\n",
       "      <th></th>\n",
       "    </tr>\n",
       "  </thead>\n",
       "  <tbody>\n",
       "    <tr>\n",
       "      <th>1999-01-05</th>\n",
       "      <td>NaN</td>\n",
       "    </tr>\n",
       "    <tr>\n",
       "      <th>1999-01-06</th>\n",
       "      <td>NaN</td>\n",
       "    </tr>\n",
       "    <tr>\n",
       "      <th>1999-01-07</th>\n",
       "      <td>NaN</td>\n",
       "    </tr>\n",
       "    <tr>\n",
       "      <th>1999-01-08</th>\n",
       "      <td>NaN</td>\n",
       "    </tr>\n",
       "    <tr>\n",
       "      <th>1999-01-11</th>\n",
       "      <td>NaN</td>\n",
       "    </tr>\n",
       "    <tr>\n",
       "      <th>...</th>\n",
       "      <td>...</td>\n",
       "    </tr>\n",
       "    <tr>\n",
       "      <th>2018-12-24</th>\n",
       "      <td>NaN</td>\n",
       "    </tr>\n",
       "    <tr>\n",
       "      <th>2018-12-26</th>\n",
       "      <td>NaN</td>\n",
       "    </tr>\n",
       "    <tr>\n",
       "      <th>2018-12-27</th>\n",
       "      <td>NaN</td>\n",
       "    </tr>\n",
       "    <tr>\n",
       "      <th>2018-12-28</th>\n",
       "      <td>NaN</td>\n",
       "    </tr>\n",
       "    <tr>\n",
       "      <th>2018-12-31</th>\n",
       "      <td>0.056353</td>\n",
       "    </tr>\n",
       "  </tbody>\n",
       "</table>\n",
       "<p>5030 rows × 1 columns</p>\n",
       "</div>"
      ],
      "text/plain": [
       "                 h.1\n",
       "Date                \n",
       "1999-01-05       NaN\n",
       "1999-01-06       NaN\n",
       "1999-01-07       NaN\n",
       "1999-01-08       NaN\n",
       "1999-01-11       NaN\n",
       "...              ...\n",
       "2018-12-24       NaN\n",
       "2018-12-26       NaN\n",
       "2018-12-27       NaN\n",
       "2018-12-28       NaN\n",
       "2018-12-31  0.056353\n",
       "\n",
       "[5030 rows x 1 columns]"
      ]
     },
     "execution_count": 28,
     "metadata": {},
     "output_type": "execute_result"
    }
   ],
   "source": [
    "res.model.forecast(res.params).mean"
   ]
  },
  {
   "cell_type": "code",
   "execution_count": 30,
   "metadata": {},
   "outputs": [
    {
     "data": {
      "text/html": [
       "<div>\n",
       "<style scoped>\n",
       "    .dataframe tbody tr th:only-of-type {\n",
       "        vertical-align: middle;\n",
       "    }\n",
       "\n",
       "    .dataframe tbody tr th {\n",
       "        vertical-align: top;\n",
       "    }\n",
       "\n",
       "    .dataframe thead th {\n",
       "        text-align: right;\n",
       "    }\n",
       "</style>\n",
       "<table border=\"1\" class=\"dataframe\">\n",
       "  <thead>\n",
       "    <tr style=\"text-align: right;\">\n",
       "      <th></th>\n",
       "      <th>h.1</th>\n",
       "    </tr>\n",
       "    <tr>\n",
       "      <th>Date</th>\n",
       "      <th></th>\n",
       "    </tr>\n",
       "  </thead>\n",
       "  <tbody>\n",
       "    <tr>\n",
       "      <th>1999-01-05</th>\n",
       "      <td>NaN</td>\n",
       "    </tr>\n",
       "    <tr>\n",
       "      <th>1999-01-06</th>\n",
       "      <td>NaN</td>\n",
       "    </tr>\n",
       "    <tr>\n",
       "      <th>1999-01-07</th>\n",
       "      <td>NaN</td>\n",
       "    </tr>\n",
       "    <tr>\n",
       "      <th>1999-01-08</th>\n",
       "      <td>NaN</td>\n",
       "    </tr>\n",
       "    <tr>\n",
       "      <th>1999-01-11</th>\n",
       "      <td>NaN</td>\n",
       "    </tr>\n",
       "    <tr>\n",
       "      <th>...</th>\n",
       "      <td>...</td>\n",
       "    </tr>\n",
       "    <tr>\n",
       "      <th>2018-12-24</th>\n",
       "      <td>NaN</td>\n",
       "    </tr>\n",
       "    <tr>\n",
       "      <th>2018-12-26</th>\n",
       "      <td>NaN</td>\n",
       "    </tr>\n",
       "    <tr>\n",
       "      <th>2018-12-27</th>\n",
       "      <td>NaN</td>\n",
       "    </tr>\n",
       "    <tr>\n",
       "      <th>2018-12-28</th>\n",
       "      <td>NaN</td>\n",
       "    </tr>\n",
       "    <tr>\n",
       "      <th>2018-12-31</th>\n",
       "      <td>3.59647</td>\n",
       "    </tr>\n",
       "  </tbody>\n",
       "</table>\n",
       "<p>5030 rows × 1 columns</p>\n",
       "</div>"
      ],
      "text/plain": [
       "                h.1\n",
       "Date               \n",
       "1999-01-05      NaN\n",
       "1999-01-06      NaN\n",
       "1999-01-07      NaN\n",
       "1999-01-08      NaN\n",
       "1999-01-11      NaN\n",
       "...             ...\n",
       "2018-12-24      NaN\n",
       "2018-12-26      NaN\n",
       "2018-12-27      NaN\n",
       "2018-12-28      NaN\n",
       "2018-12-31  3.59647\n",
       "\n",
       "[5030 rows x 1 columns]"
      ]
     },
     "execution_count": 30,
     "metadata": {},
     "output_type": "execute_result"
    }
   ],
   "source": [
    "res.model.forecast(res.params).variance"
   ]
  },
  {
   "cell_type": "code",
   "execution_count": null,
   "metadata": {},
   "outputs": [],
   "source": []
  }
 ],
 "metadata": {
  "kernelspec": {
   "display_name": "Python 3",
   "language": "python",
   "name": "python3"
  },
  "language_info": {
   "codemirror_mode": {
    "name": "ipython",
    "version": 3
   },
   "file_extension": ".py",
   "mimetype": "text/x-python",
   "name": "python",
   "nbconvert_exporter": "python",
   "pygments_lexer": "ipython3",
   "version": "3.8.5"
  }
 },
 "nbformat": 4,
 "nbformat_minor": 4
}
