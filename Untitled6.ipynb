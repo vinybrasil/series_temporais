{
 "cells": [
  {
   "cell_type": "code",
   "execution_count": 6,
   "metadata": {},
   "outputs": [
    {
     "name": "stderr",
     "output_type": "stream",
     "text": [
      "Installing package into 'C:/Users/vinic/Documents/R/win-library/3.6'\n",
      "(as 'lib' is unspecified)\n",
      "\n",
      "Warning message:\n",
      "\"package 'quantmod' is in use and will not be installed\"\n",
      "Installing package into 'C:/Users/vinic/Documents/R/win-library/3.6'\n",
      "(as 'lib' is unspecified)\n",
      "\n",
      "Warning message:\n",
      "\"package 'ugarch' is not available (for R version 3.6.2)\"\n"
     ]
    }
   ],
   "source": [
    "#source: https://rpubs.com/florian1/garchmodeling\n",
    "\n",
    "install.packages(\"quantmod\") #-The package needs to be installed first\n",
    "#library(quantmod) \n",
    "install.packages(\"ugarch\")"
   ]
  },
  {
   "cell_type": "code",
   "execution_count": 7,
   "metadata": {},
   "outputs": [
    {
     "ename": "ERROR",
     "evalue": "Error in library(ugarch): there is no package called 'ugarch'\n",
     "output_type": "error",
     "traceback": [
      "Error in library(ugarch): there is no package called 'ugarch'\nTraceback:\n",
      "1. library(ugarch)"
     ]
    }
   ],
   "source": [
    "library(quantmod)\n",
    "library(ugarch)"
   ]
  },
  {
   "cell_type": "code",
   "execution_count": 3,
   "metadata": {},
   "outputs": [
    {
     "name": "stderr",
     "output_type": "stream",
     "text": [
      "'getSymbols' currently uses auto.assign=TRUE by default, but will\n",
      "use auto.assign=FALSE in 0.5-0. You will still be able to use\n",
      "'loadSymbols' to automatically load data. getOption(\"getSymbols.env\")\n",
      "and getOption(\"getSymbols.auto.assign\") will still be checked for\n",
      "alternate defaults.\n",
      "\n",
      "This message is shown once per session and may be disabled by setting \n",
      "options(\"getSymbols.warning4.0\"=FALSE). See ?getSymbols for details.\n",
      "\n",
      "\n"
     ]
    },
    {
     "data": {
      "text/html": [
       "'AAPL'"
      ],
      "text/latex": [
       "'AAPL'"
      ],
      "text/markdown": [
       "'AAPL'"
      ],
      "text/plain": [
       "[1] \"AAPL\""
      ]
     },
     "metadata": {},
     "output_type": "display_data"
    }
   ],
   "source": [
    "getSymbols(Symbols = \"AAPL\", \n",
    "           src = \"yahoo\",     #Other sources include: google, FRED, etc.\n",
    "           from=\"2008-12-31\",\n",
    "           to=\"2019-12-31\",\n",
    "           verbose=F)"
   ]
  },
  {
   "cell_type": "code",
   "execution_count": 4,
   "metadata": {},
   "outputs": [
    {
     "data": {
      "image/png": "[encoded data removed]",
      "text/plain": [
       "Plot with title \"[2008-12-31/2019-12-30]\""
      ]
     },
     "metadata": {
      "image/png": {
       "height": 420,
       "width": 420
      }
     },
     "output_type": "display_data"
    }
   ],
   "source": [
    "chartSeries(AAPL, theme=\"white\")"
   ]
  },
  {
   "cell_type": "code",
   "execution_count": null,
   "metadata": {},
   "outputs": [],
   "source": [
    "\n",
    "Apple_garch <-  ugarchspec(variance.model = list(model=\"sGARCH\",         #Other options are egarch, fgarch, etc.\n",
    "                                                     garchOrder=c(1,2)), # You can modify the order GARCH(m,s) here\n",
    "                               mean.model = list(armaOrder=c(3,2)), #Specify your ARMA model implying your model should be stationary.\n",
    "                               distribution.model = \"norm\")         #Other distribution are \"std\" for t-distribution, and \"ged\" for General Error Distribution\n",
    "Apple_Garch2 <- ugarchfit(spec=Apple_garch, \n",
    "                              data=AAPL_rtn)"
   ]
  },
  {
   "cell_type": "code",
   "execution_count": null,
   "metadata": {},
   "outputs": [],
   "source": []
  }
 ],
 "metadata": {
  "kernelspec": {
   "display_name": "R",
   "language": "R",
   "name": "ir"
  },
  "language_info": {
   "codemirror_mode": "r",
   "file_extension": ".r",
   "mimetype": "text/x-r-source",
   "name": "R",
   "pygments_lexer": "r",
   "version": "3.6.2"
  }
 },
 "nbformat": 4,
 "nbformat_minor": 4
}
